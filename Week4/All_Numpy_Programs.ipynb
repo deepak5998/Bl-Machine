{
 "cells": [
  {
   "cell_type": "code",
   "execution_count": 36,
   "metadata": {
    "collapsed": false
   },
   "outputs": [
    {
     "ename": "TypeError",
     "evalue": "object of type 'numpy.int64' has no len()",
     "traceback": [
      "\u001b[0;31m---------------------------------------------------------------------------\u001b[0m",
      "\u001b[0;31mTypeError\u001b[0m                                 Traceback (most recent call last)",
      "\u001b[0;32m<ipython-input-36-6f162472d3e8>\u001b[0m in \u001b[0;36m<module>\u001b[0;34m()\u001b[0m\n\u001b[1;32m    115\u001b[0m \u001b[0;31m# numpy_object.append_To_End()\u001b[0m\u001b[0;34m\u001b[0m\u001b[0;34m\u001b[0m\u001b[0;34m\u001b[0m\u001b[0m\n\u001b[1;32m    116\u001b[0m \u001b[0;31m# numpy_object.real_And_Imaginary_Part()\u001b[0m\u001b[0;34m\u001b[0m\u001b[0;34m\u001b[0m\u001b[0;34m\u001b[0m\u001b[0m\n\u001b[0;32m--> 117\u001b[0;31m \u001b[0mnumpy_object\u001b[0m\u001b[0;34m.\u001b[0m\u001b[0mtotal_Bytes_Consumed\u001b[0m\u001b[0;34m(\u001b[0m\u001b[0;34m)\u001b[0m\u001b[0;34m\u001b[0m\u001b[0;34m\u001b[0m\u001b[0m\n\u001b[0m",
      "\u001b[0;32m<ipython-input-36-6f162472d3e8>\u001b[0m in \u001b[0;36mtotal_Bytes_Consumed\u001b[0;34m(self)\u001b[0m\n\u001b[1;32m     99\u001b[0m     \u001b[0;32mdef\u001b[0m \u001b[0mtotal_Bytes_Consumed\u001b[0m\u001b[0;34m(\u001b[0m\u001b[0mself\u001b[0m\u001b[0;34m)\u001b[0m\u001b[0;34m:\u001b[0m\u001b[0;34m\u001b[0m\u001b[0;34m\u001b[0m\u001b[0m\n\u001b[1;32m    100\u001b[0m         \u001b[0man_array\u001b[0m \u001b[0;34m=\u001b[0m \u001b[0mnp\u001b[0m\u001b[0;34m.\u001b[0m\u001b[0marray\u001b[0m\u001b[0;34m(\u001b[0m\u001b[0;34m[\u001b[0m\u001b[0;36m1\u001b[0m\u001b[0;34m,\u001b[0m \u001b[0;36m2\u001b[0m\u001b[0;34m,\u001b[0m \u001b[0;36m3\u001b[0m\u001b[0;34m]\u001b[0m\u001b[0;34m)\u001b[0m\u001b[0;34m\u001b[0m\u001b[0;34m\u001b[0m\u001b[0m\n\u001b[0;32m--> 101\u001b[0;31m         \u001b[0msize_of_element\u001b[0m \u001b[0;34m=\u001b[0m \u001b[0mlen\u001b[0m\u001b[0;34m(\u001b[0m\u001b[0man_array\u001b[0m\u001b[0;34m[\u001b[0m\u001b[0;36m0\u001b[0m\u001b[0;34m]\u001b[0m\u001b[0;34m)\u001b[0m\u001b[0;34m\u001b[0m\u001b[0;34m\u001b[0m\u001b[0m\n\u001b[0m\u001b[1;32m    102\u001b[0m         print(\"Size of the array {}\\n Length of one array element in bytes{}\\n\"\n\u001b[1;32m    103\u001b[0m               \u001b[0;34m\"Total bytes consumed by the elements of the array is  {}\"\u001b[0m\u001b[0;34m.\u001b[0m\u001b[0;34m\u001b[0m\u001b[0;34m\u001b[0m\u001b[0m\n",
      "\u001b[0;31mTypeError\u001b[0m: object of type 'numpy.int64' has no len()"
     ],
     "output_type": "error"
    }
   ],
   "source": [
    "import numpy as np\n",
    "\n",
    "class Numpy_Functions:\n",
    "\n",
    "    def __init__(self):\n",
    "        self.num_of_elements = 9\n",
    "        self.rows = 3\n",
    "        self.array = np.empty(0)\n",
    "\n",
    "    def create_Array(self):\n",
    "        original_array = [12.23, 13.32, 100, 36.32]\n",
    "        self.array = np.array(original_array)\n",
    "        print(self.array)\n",
    "    \n",
    "    def matrix_3_X_3(self):\n",
    "        self.array = np.array([np.arange(2, 10)])\n",
    "        print(self.array)\n",
    "        self.rows = 3\n",
    "        array.resize(self.rows, self.rows)\n",
    "        print(self.array)\n",
    "        \n",
    "    def null_Vector(self):\n",
    "        self.num_of_elements = 10\n",
    "        self.array = np.zeros(self.num_of_elements)\n",
    "        print(self.array)\n",
    "        self.array[6] = 11\n",
    "        print(self.array)\n",
    "        \n",
    "    def reverse_array(self):\n",
    "        self.array = np.array([12, 13, 14, 15, 16, 17, 18, 19, 20, 21, 22, 23\n",
    "                                  ,24, 25, 26, 27, 28, 29, 30, 31, 32, 33, 34, 35, 36, 37])\n",
    "        print(self.array)\n",
    "        new_array = np.flipud(self.array)\n",
    "        print(new_array)\n",
    "        reverse_array = self.array[::-1]\n",
    "        print(reverse_array)\n",
    "    \n",
    "    def corner_elements_1(self):\n",
    "        self.rows = 5\n",
    "        original_array = np.array(np.ones(25))\n",
    "        original_array.resize(self.rows, self.rows)\n",
    "        print(original_array)\n",
    "        for counter1 in range(0, len(original_array)):\n",
    "            for counter2 in range(0, len(original_array)):\n",
    "                if counter1 != 0 and counter2 != 0 \\\n",
    "                        and counter1 != len(original_array) - 1 \\\n",
    "                        and counter2 != len(original_array[0]) - 1:\n",
    "                    original_array[counter1][counter2] = 0\n",
    "        print(original_array)\n",
    "        \n",
    "    def border_around_existing_array(self):\n",
    "        num_of_elements = 9\n",
    "        rows = 3\n",
    "        self.array = np.arange(1, num_of_elements+1).reshape(rows, rows)\n",
    "        print(self.array)\n",
    "        rows += 2\n",
    "        # as both the sides the elements will be added hence added 2\n",
    "        new_array = (np.zeros((rows) * (rows))).reshape(rows, rows)\n",
    "        for counter1 in range(0, rows):\n",
    "            for counter2 in range(0, rows):\n",
    "                if counter1 != 0 and counter1 != rows - 1 and counter2 != 0 and \\\n",
    "                        counter2 != rows-1:\n",
    "                    new_array[counter1][counter2] = self.array[counter1-1][counter2-1]\n",
    "        print(new_array)\n",
    "        \n",
    "    def checkerboard_Pattern_8_X_8(self):\n",
    "        rows = 8 \n",
    "        self.array = (np.zeros(rows * rows)).reshape(rows, rows)           \n",
    "        for counter1 in range(0, rows):\n",
    "            for counter2 in range(0, rows):\n",
    "                if ((counter1+counter2) % 2) != 0:\n",
    "                    self.array[counter1][counter2] = 1\n",
    "        print(self.array)\n",
    "    \n",
    "    def tuple_to_Array(self):\n",
    "        list_object = list([1, 2, 3, 4, 5, 6, 7, 8])\n",
    "        self.array = np.array(list_object)\n",
    "        print(self.array)\n",
    "        list_object = (8, 4, 6, 1, 2, 3)\n",
    "        try:\n",
    "            print(\"Trying to add 12 at first position\")\n",
    "            list_object[0] = tuple([12])\n",
    "        except Exception as e:\n",
    "            print(\"Can't add element as \", e)\n",
    "        self.array = np.array(list_object)\n",
    "        print(self.array)\n",
    "        \n",
    "    def append_To_End(self):\n",
    "        original_array = [10, 20, 30] \n",
    "        self.array = np.array(original_array)\n",
    "        print(self.array)\n",
    "        self.array = np.append(self.array, [40, 50, 60, 70, 80, 90])\n",
    "        print(self.array)\n",
    "\n",
    "    def real_And_Imaginary_Part(self):\n",
    "        original_array = np.array([1.00000000 + 0.j, 0.70710678 + 0.70710678j])\n",
    "        print(original_array)\n",
    "        print(\"Real part is \", np.real(original_array), \"\\nImaginary part is \", np.imag(original_array),\n",
    "              \"\\n\\nTotal Real part is\", np.real(original_array[0]) + np.real(original_array[1]),\n",
    "              \"\\nTotal Imaginary part is\", np.imag(original_array[0]) + np.imag(original_array[1]))\n",
    "    \n",
    "    def total_Bytes_Consumed(self):\n",
    "        an_array = np.array([1, 2, 3])\n",
    "        size_of_element = (an_array[0])\n",
    "        print(\"Size of the array {}\\n Length of one array element in bytes{}\\n\"\n",
    "              \"Total bytes consumed by the elements of the array is  {}\".\n",
    "              format(len(an_array), size_of_element, size_of_element * len(an_array)))\n",
    "    \n",
    "       \n",
    "numpy_object = Numpy_Functions()\n",
    "# numpy_object.matrix_3_X_3()\n",
    "# numpy_object.null_Vector()\n",
    "# numpy_object.reverse_array()\n",
    "# numpy_object.corner_elements_1()\n",
    "# numpy_object.border_around_existing_array()\n",
    "# numpy_object.checkerboard_Pattern_8_X_8()\n",
    "# numpy_object.tuple_to_Array()\n",
    "# numpy_object.append_To_End()\n",
    "# numpy_object.real_And_Imaginary_Part()\n",
    "numpy_object.total_Bytes_Consumed()"
   ]
  },
  {
   "cell_type": "code",
   "execution_count": 154,
   "metadata": {
    "collapsed": false
   },
   "outputs": [
    {
     "ename": "TypeError",
     "evalue": "object of type 'numpy.int64' has no len()",
     "traceback": [
      "\u001b[0;31m---------------------------------------------------------------------------\u001b[0m",
      "\u001b[0;31mTypeError\u001b[0m                                 Traceback (most recent call last)",
      "\u001b[0;32m<ipython-input-36-6f162472d3e8>\u001b[0m in \u001b[0;36m<module>\u001b[0;34m()\u001b[0m\n\u001b[1;32m    115\u001b[0m \u001b[0;31m# numpy_object.append_To_End()\u001b[0m\u001b[0;34m\u001b[0m\u001b[0;34m\u001b[0m\u001b[0;34m\u001b[0m\u001b[0m\n\u001b[1;32m    116\u001b[0m \u001b[0;31m# numpy_object.real_And_Imaginary_Part()\u001b[0m\u001b[0;34m\u001b[0m\u001b[0;34m\u001b[0m\u001b[0;34m\u001b[0m\u001b[0m\n\u001b[0;32m--> 117\u001b[0;31m \u001b[0mnumpy_object\u001b[0m\u001b[0;34m.\u001b[0m\u001b[0mtotal_Bytes_Consumed\u001b[0m\u001b[0;34m(\u001b[0m\u001b[0;34m)\u001b[0m\u001b[0;34m\u001b[0m\u001b[0;34m\u001b[0m\u001b[0m\n\u001b[0m",
      "\u001b[0;32m<ipython-input-36-6f162472d3e8>\u001b[0m in \u001b[0;36mtotal_Bytes_Consumed\u001b[0;34m(self)\u001b[0m\n\u001b[1;32m     99\u001b[0m     \u001b[0;32mdef\u001b[0m \u001b[0mtotal_Bytes_Consumed\u001b[0m\u001b[0;34m(\u001b[0m\u001b[0mself\u001b[0m\u001b[0;34m)\u001b[0m\u001b[0;34m:\u001b[0m\u001b[0;34m\u001b[0m\u001b[0;34m\u001b[0m\u001b[0m\n\u001b[1;32m    100\u001b[0m         \u001b[0man_array\u001b[0m \u001b[0;34m=\u001b[0m \u001b[0mnp\u001b[0m\u001b[0;34m.\u001b[0m\u001b[0marray\u001b[0m\u001b[0;34m(\u001b[0m\u001b[0;34m[\u001b[0m\u001b[0;36m1\u001b[0m\u001b[0;34m,\u001b[0m \u001b[0;36m2\u001b[0m\u001b[0;34m,\u001b[0m \u001b[0;36m3\u001b[0m\u001b[0;34m]\u001b[0m\u001b[0;34m)\u001b[0m\u001b[0;34m\u001b[0m\u001b[0;34m\u001b[0m\u001b[0m\n\u001b[0;32m--> 101\u001b[0;31m         \u001b[0msize_of_element\u001b[0m \u001b[0;34m=\u001b[0m \u001b[0mlen\u001b[0m\u001b[0;34m(\u001b[0m\u001b[0man_array\u001b[0m\u001b[0;34m[\u001b[0m\u001b[0;36m0\u001b[0m\u001b[0;34m]\u001b[0m\u001b[0;34m)\u001b[0m\u001b[0;34m\u001b[0m\u001b[0;34m\u001b[0m\u001b[0m\n\u001b[0m\u001b[1;32m    102\u001b[0m         print(\"Size of the array {}\\n Length of one array element in bytes{}\\n\"\n\u001b[1;32m    103\u001b[0m               \u001b[0;34m\"Total bytes consumed by the elements of the array is  {}\"\u001b[0m\u001b[0;34m.\u001b[0m\u001b[0;34m\u001b[0m\u001b[0;34m\u001b[0m\u001b[0m\n",
      "\u001b[0;31mTypeError\u001b[0m: object of type 'numpy.int64' has no len()"
     ],
     "output_type": "error"
    }
   ],
   "source": [
    ""
   ]
  },
  {
   "cell_type": "code",
   "execution_count": 112,
   "metadata": {
    "collapsed": false
   },
   "outputs": [],
   "source": [
    "\n"
   ]
  },
  {
   "cell_type": "code",
   "execution_count": null,
   "metadata": {},
   "outputs": [],
   "source": []
  }
 ],
 "metadata": {
  "language": "python"
 },
 "nbformat": 4,
 "nbformat_minor": 2
}
