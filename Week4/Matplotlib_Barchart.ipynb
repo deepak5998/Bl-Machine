{
 "cells": [
  {
   "cell_type": "code",
   "execution_count": 33,
   "metadata": {},
   "outputs": [
    {
     "data": {
      "image/png": "[encoded data removed]",
      "text/plain": [
       "<Figure size 432x288 with 1 Axes>"
      ]
     },
     "metadata": {
      "needs_background": "light"
     },
     "output_type": "display_data"
    }
   ],
   "source": [
    "import numpy as np\n",
    "import pandas as pd\n",
    "from matplotlib import pyplot as plt\n",
    "from matplotlib import style\n",
    "\n",
    "\n",
    "class Barchart_Programs:\n",
    "    prog_lang = ['Java', 'Python', 'PHP', 'JavaScript', 'C#', 'C++']\n",
    "    popularity = [22.2, 17.6, 8.8, 8, 7.7, 6.7]\n",
    "    \n",
    "    def __int__(self):\n",
    "        self.prog_lang = ['Java', 'Python', 'PHP', 'JavaScript', 'C#', 'C++']\n",
    "        self.popularity = [22.2, 17.6, 8.8, 8, 7.7, 6.7]\n",
    "    \n",
    "    def bar_Chart_Popularity_Programming_Languages(self):\n",
    "        #programming languages\n",
    "        plt.bar(self.prog_lang, self.popularity)\n",
    "        plt.xticks(self.prog_lang)\n",
    "        plt.show()\n",
    "        \n",
    "    def horizontal_bar_chart_of_popularity(self):\n",
    "        plt.barh(self.prog_lang, self.popularity)\n",
    "        plt.yticks(self.prog_lang)\n",
    "        plt.show()\n",
    "    \n",
    "    def bar_chart_uniform_color(self):\n",
    "        plt.bar(self.prog_lang, self.popularity,\n",
    "                color='r')\n",
    "        plt.xticks(self.prog_lang)\n",
    "        plt.show()\n",
    "\n",
    "    def bar_chart_different_color(self):\n",
    "        plt.bar(self.prog_lang, self.popularity,\n",
    "                color=['r', 'b', 'g', 'c', 'gold', 'y'])\n",
    "        plt.xticks(self.prog_lang)\n",
    "        plt.show()\n",
    "    \n",
    "    def text_label_above_bar_displaying_popularity(self):\n",
    "        plt.bar(self.prog_lang, self.popularity,\n",
    "                color=['r', 'b', 'g', 'c', 'gold', 'y'])\n",
    "        plt.xticks(self.prog_lang)  \n",
    "        # to put text on each bar\n",
    "        for counter in range(len(self.popularity)):\n",
    "            plt.text(counter,  # x axis \n",
    "                     self.popularity[counter] + 0.2,  # height where to put it\n",
    "                     self.popularity[counter],  # number to be printed\n",
    "                     ha='center')  # the horizontal allignment of the text\n",
    "        plt.show()\n",
    "    \n",
    "    def blue_border_to_each_bar(self):\n",
    "        plt.bar(self.prog_lang, self.popularity, color='g', edgecolor='r', linewidth=4)\n",
    "        plt.show()\n",
    "    \n",
    "    def print_position_of_each_bar_plot(self):\n",
    "        plt.bar(self.prog_lang, self.popularity, color='y')\n",
    "    \n",
    "    \n",
    "matplot_barchart = Barchart_Programs()\n",
    "# matplot_barchart.bar_Chart_Popularity_Programming_Languages()\n",
    "# matplot_barchart.horizontal_bar_chart_of_popularity()\n",
    "# matplot_barchart.bar_Chart_Popularity_Programming_Languages()\n",
    "# matplot_barchart.bar_chart_uniform_color()\n",
    "# matplot_barchart.bar_chart_different_color()\n",
    "# matplot_barchart.text_label_above_bar_displaying_popularity()\n",
    "# matplot_barchart.blue_border_to_each_bar()\n",
    "matplot_barchart.print_position_of_each_bar_plot()"
   ]
  },
  {
   "cell_type": "code",
   "execution_count": null,
   "metadata": {},
   "outputs": [],
   "source": []
  }
 ],
 "metadata": {
  "kernelspec": {
   "display_name": "Python 3",
   "language": "python",
   "name": "python3"
  },
  "language_info": {
   "codemirror_mode": {
    "name": "ipython",
    "version": 3
   },
   "file_extension": ".py",
   "mimetype": "text/x-python",
   "name": "python",
   "nbconvert_exporter": "python",
   "pygments_lexer": "ipython3",
   "version": "3.6.7rc1"
  }
 },
 "nbformat": 4,
 "nbformat_minor": 1
}
