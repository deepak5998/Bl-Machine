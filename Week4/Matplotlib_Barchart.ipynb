{
 "cells": [
  {
   "cell_type": "code",
   "execution_count": null,
   "metadata": {
    "collapsed": true
   },
   "outputs": [],
   "source": [
    "import numpy as np\n",
    "import pandas as pd\n",
    "from matplotlib import pyplot as plt\n",
    "from matplotlib import style\n",
    "\n",
    "\n",
    "class Barchart_Programs:\n",
    "    prog_lang = ['Java', 'Python', 'PHP', 'JavaScript', 'C#', 'C++']\n",
    "    popularity = [22.2, 17.6, 8.8, 8, 7.7, 6.7]\n",
    "    \n",
    "    def __int__(self):\n",
    "        self.prog_lang = ['Java', 'Python', 'PHP', 'JavaScript', 'C#', 'C++']\n",
    "        self.popularity = [22.2, 17.6, 8.8, 8, 7.7, 6.7]\n",
    "    \n",
    "    def bar_Chart_Popularity_Programming_Languages(self):\n",
    "        #programming languages\n",
    "        plt.bar(self.prog_lang, self.popularity)\n",
    "        plt.xticks(self.prog_lang)\n",
    "        plt.show()\n",
    "        \n",
    "    def horizontal_bar_chart_of_popularity(self):\n",
    "        plt.barh(self.prog_lang, self.popularity)\n",
    "        plt.yticks(self.prog_lang)\n",
    "        plt.show()\n",
    "    \n",
    "    def bar_chart_uniform_color(self):\n",
    "        plt.bar(self.prog_lang, self.popularity,\n",
    "                color='r')\n",
    "        plt.xticks(self.prog_lang)\n",
    "        plt.show()\n",
    "\n",
    "    def bar_chart_different_color(self):\n",
    "        plt.bar(self.prog_lang, self.popularity,\n",
    "                color=['r', 'b', 'g', 'c', 'gold', 'y'])\n",
    "        plt.xticks(self.prog_lang)\n",
    "        plt.show()\n",
    "    \n",
    "    def text_label_above_bar_displaying_popularity(self):\n",
    "        plt.bar(self.prog_lang, self.popularity,\n",
    "                color=['r', 'b', 'g', 'c', 'gold', 'y'])\n",
    "        plt.xticks(self.prog_lang)\n",
    "        plt.show()       \n",
    "    \n",
    "    def \n",
    "    \n",
    "    \n",
    "matplot_barchart = Barchart_Programs()\n",
    "# matplot_barchart.bar_Chart_Popularity_Programming_Languages()\n",
    "# matplot_barchart.horizontal_bar_chart_of_popularity()\n",
    "# matplot_barchart.bar_Chart_Popularity_Programming_Languages()\n",
    "# matplot_barchart.bar_chart_uniform_color()\n",
    "# matplot_barchart.bar_chart_different_color()\n",
    "# matplot_barchart.text_label_above_bar_displaying_popularity()\n",
    "matplot_barchart.autolabel()"
   ]
  }
 ],
 "metadata": {
  "kernelspec": {
   "display_name": "Python 2",
   "language": "python",
   "name": "python2"
  },
  "language_info": {
   "codemirror_mode": {
    "name": "ipython",
    "version": 2
   },
   "file_extension": ".py",
   "mimetype": "text/x-python",
   "name": "python",
   "nbconvert_exporter": "python",
   "pygments_lexer": "ipython2",
   "version": "2.7.6"
  }
 },
 "nbformat": 4,
 "nbformat_minor": 0
}
