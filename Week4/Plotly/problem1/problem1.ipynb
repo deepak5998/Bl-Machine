{
 "cells": [
  {
   "cell_type": "code",
   "execution_count": null,
   "metadata": {},
   "outputs": [],
   "source": [
    "import plotly as pl\n",
    "import plotly.graph_objs as go\n",
    "import ipywidgets as widgets\n",
    "import numpy as np\n",
    "pl.offline.init_notebook_mode(connected=True)"
   ]
  },
  {
   "cell_type": "code",
   "execution_count": null,
   "metadata": {},
   "outputs": [],
   "source": [
    "x = np.linspace(0,1,50)"
   ]
  },
  {
   "cell_type": "code",
   "execution_count": null,
   "metadata": {},
   "outputs": [],
   "source": [
    "layout = go.layout{\n",
    "    title = \"First\", \n",
    "    y_axis : dict(\n",
    "        title='Y Axis'\n",
    "    ),\n",
    "    xaxis : dict(\n",
    "        title = 'X Axis'\n",
    "    )   \n",
    "}\n",
    "\n",
    "\n",
    "tracer = go.scatter(\n",
    "    x = x,\n",
    "    y = np.sin(x),\n",
    "    name = 'New',\n",
    "    mode = 'lines',\n",
    "    line = dict(\n",
    "        shape = 'spline'\n",
    "    )\n",
    ")\n",
    "\n",
    "fig = go.Figure(data = [tracer], layout=layout)\n",
    "pl.offline.plot(fig)"
   ]
  },
  {
   "cell_type": "code",
   "execution_count": null,
   "metadata": {},
   "outputs": [],
   "source": [
    "import plotly.plotly as py\n",
    "import plotly.graph_objs as go\n",
    "py.sign_in('prayas2409', 'D68TJuzdbC5IQNWNnSbq')"
   ]
  },
  {
   "cell_type": "code",
   "execution_count": null,
   "metadata": {},
   "outputs": [],
   "source": [
    "# layout = go.layout(\n",
    "#     title = \"First\", \n",
    "#     y_axis = dict(\n",
    "#         title='Y Axis'\n",
    "#     ),\n",
    "#     xaxis = dict(\n",
    "#         title = 'X Axis'\n",
    "#     )\n",
    "    \n",
    "# )\n",
    "\n",
    "\n",
    "tracer = go.scatter(\n",
    "    x = x,\n",
    "    y = np.sin(x),\n",
    "    name = 'New',\n",
    "    mode = 'markers',\n",
    "#     line = dict(\n",
    "#         shape = 'spline'\n",
    "#     )\n",
    ")\n",
    "\n",
    "# fig = go.Figure(data = [tracer])\n",
    "# pl.offline.plot(fig)\n",
    "data=[tracer]\n",
    "iplot(data)"
   ]
  }
 ],
 "metadata": {
  "kernelspec": {
   "display_name": "Python 3",
   "language": "python",
   "name": "python3"
  },
  "language_info": {
   "codemirror_mode": {
    "name": "ipython",
    "version": 3
   },
   "file_extension": ".py",
   "mimetype": "text/x-python",
   "name": "python",
   "nbconvert_exporter": "python",
   "pygments_lexer": "ipython3",
   "version": "3.7.2"
  }
 },
 "nbformat": 4,
 "nbformat_minor": 2
}
