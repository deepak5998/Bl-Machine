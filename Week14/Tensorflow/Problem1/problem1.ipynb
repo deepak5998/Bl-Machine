{
 "cells": [
  {
   "cell_type": "code",
   "execution_count": 11,
   "metadata": {},
   "outputs": [],
   "source": [
    "import nltk\n",
    "from nltk.tokenize import word_tokenize\n",
    "import numpy as np\n",
    "import random\n",
    "import pickle\n",
    "from collections import Counter\n",
    "from nltk.stem import WordNetLemmatizer\n",
    "from nltk.corpus import stopwords\n",
    "lemmatizer = WordNetLemmatizer()\n",
    "hm_lines = 100000"
   ]
  },
  {
   "cell_type": "code",
   "execution_count": 3,
   "metadata": {},
   "outputs": [
    {
     "ename": "SyntaxError",
     "evalue": "invalid syntax (<ipython-input-3-fc00f93afa16>, line 17)",
     "output_type": "error",
     "traceback": [
      "\u001b[0;36m  File \u001b[0;32m\"<ipython-input-3-fc00f93afa16>\"\u001b[0;36m, line \u001b[0;32m17\u001b[0m\n\u001b[0;31m    lexicon = [lemmatizer.lemmatize(i) for i in lexicon if ]\u001b[0m\n\u001b[0m                                                           ^\u001b[0m\n\u001b[0;31mSyntaxError\u001b[0m\u001b[0;31m:\u001b[0m invalid syntax\n"
     ]
    }
   ],
   "source": [
    "def create_lexicon(pos,neg):\n",
    "    # lexicon will be collection of all words\n",
    "    lexicon = []\n",
    "    # with opens kee\n",
    "    with open(pos,'r') as f:\n",
    "        contents = f.readlines()\n",
    "    for l in contents:\n",
    "        all_words = word_tokenize(l)\n",
    "        lexicon += list(all_words)\n",
    "\n",
    "    with open(neg,'r') as f:\n",
    "        contents = f.readlines()\n",
    "    for l in contents:\n",
    "        all_words = word_tokenize(l)\n",
    "        lexicon += list(all_words)\n",
    "    \n",
    "    # storing all words by removing the \n",
    "    lexicon = [lemmatizer.lemmatize(i) for i in lexicon if i not in stopwords.words('english')]\n",
    "    # its like freq count in nltk stores count of each word with \n",
    "    w_counts = Counter(lexicon)\n",
    "    l2 = []\n",
    "    for w in w_counts:\n",
    "        #print(w_counts[w])\n",
    "        if w_counts[w] > 50:\n",
    "            l2.append(w)\n",
    "    print(len(l2))\n",
    "    return l2\n",
    "\n",
    "def sample_handling(sample,lexicon,classification):\n",
    "\n",
    "    featureset = []\n",
    "    with open(sample,'r') as f:\n",
    "        contents = f.readlines()\n",
    "    for l in contents:\n",
    "        current_words = word_tokenize(l.lower())\n",
    "        current_words = [lemmatizer.lemmatize(i) for i in current_words]\n",
    "        features = np.zeros(len(lexicon))\n",
    "        for word in current_words:\n",
    "            if word.lower() in lexicon:\n",
    "                # gives index at which the particular word is stored in lexicon\n",
    "                index_value = lexicon.index(word.lower())\n",
    "                features[index_value] += 1\n",
    "\n",
    "        features = list(features)\n",
    "        featureset.append([features,classification])\n",
    "\n",
    "    return featureset\n",
    "\n",
    "def create_feature_sets_and_labels(pos,neg,test_size = 0.1):\n",
    "    lexicon = create_lexicon(pos,neg)\n",
    "    features = []\n",
    "    features += sample_handling('Data/positive.txt',lexicon,[1,0])\n",
    "    features += sample_handling('Data/negetive.txt',lexicon,[0,1])\n",
    "    random.shuffle(features)\n",
    "    features = np.array(features)\n",
    "\n",
    "    testing_size = int(test_size*len(features))\n",
    "\n",
    "    train_x = list(features[:,0][:-testing_size])\n",
    "    train_y = list(features[:,1][:-testing_size])\n",
    "    test_x = list(features[:,0][-testing_size:])\n",
    "    test_y = list(features[:,1][-testing_size:])\n",
    "\n",
    "    return train_x,train_y,test_x,test_y\n",
    "\n",
    "# if __name__ == '__main__':\n",
    "#     train_x,train_y,test_x,test_y = create_feature_sets_and_labels('Data/positive.txt','Data/negetive.txt')\n",
    "#     # Saving the data to pickle file:\n",
    "#     with open('/path/to/sentiment_set.pickle','wb') as f:\n",
    "#         pickle.dump([train_x,train_y,test_x,test_y],f)"
   ]
  },
  {
   "cell_type": "code",
   "execution_count": null,
   "metadata": {},
   "outputs": [],
   "source": [
    "lex = for words in word_tokenize(pos_file):\n",
    "    if words not in set(stopwords.words('english')):\n",
    "        all_words.append(lem.lemmatize(words.lower()))"
   ]
  },
  {
   "cell_type": "code",
   "execution_count": 30,
   "metadata": {},
   "outputs": [],
   "source": [
    "pos = ('Data/positive.txt')\n",
    "neg = ('Data/negetive.txt')"
   ]
  },
  {
   "cell_type": "code",
   "execution_count": 34,
   "metadata": {},
   "outputs": [
    {
     "name": "stdout",
     "output_type": "stream",
     "text": [
      "343\n"
     ]
    }
   ],
   "source": [
    "lexicon = []\n",
    "with open(pos,'r') as f:\n",
    "    contents = f.readlines()\n",
    "for l in contents:\n",
    "    all_words = word_tokenize(l)\n",
    "    lexicon += list(all_words)\n",
    "with open(neg,'r') as f:\n",
    "        contents = f.readlines()\n",
    "for l in contents:\n",
    "    all_words = word_tokenize(l)\n",
    "    lexicon += list(all_words)\n",
    "lexicon = [lemmatizer.lemmatize(i) for i in lexicon if i not in stopwords.words('english')]\n",
    "# its like freq count in nltk stores count of each word with \n",
    "w_counts = Counter(lexicon)\n",
    "l2 = []\n",
    "for w in w_counts:\n",
    "    #print(w_counts[w])\n",
    "    if w_counts[w] > 50:\n",
    "        l2.append(w)\n",
    "print(len(l2))        "
   ]
  },
  {
   "cell_type": "code",
   "execution_count": 36,
   "metadata": {},
   "outputs": [],
   "source": [
    "# l2"
   ]
  },
  {
   "cell_type": "code",
   "execution_count": 23,
   "metadata": {},
   "outputs": [],
   "source": [
    "# for i in contents:\n",
    "#     print(i)"
   ]
  },
  {
   "cell_type": "code",
   "execution_count": 29,
   "metadata": {},
   "outputs": [
    {
     "name": "stdout",
     "output_type": "stream",
     "text": [
      "the rock is destined to be the 21st century's new \" conan \" and that he's going to make a splash even greater than arnold schwarzenegger , jean-claud van damme or steven segal . \n",
      "\n"
     ]
    }
   ],
   "source": [
    "with open(pos,'r') as f:\n",
    "    contents = f.readlines()\n",
    "print(contents[0])"
   ]
  },
  {
   "cell_type": "code",
   "execution_count": null,
   "metadata": {},
   "outputs": [],
   "source": [
    "featureset = []\n",
    "with open(pos,'r') as f:\n",
    "    contents = f.readlines()\n",
    "for l in contents:\n",
    "    current_words = word_tokenize(l.lower())\n",
    "    current_words = [lemmatizer.lemmatize(i) for i in current_words]\n",
    "    features = np.zeros(len(lexicon))\n",
    "    for word in current_words:\n",
    "        if word.lower() in lexicon:\n",
    "            # gives index at which the particular word is stored in lexicon\n",
    "            index_value = lexicon.index(word.lower())\n",
    "            features[index_value] += 1\n",
    "    features = list(features)\n",
    "    featureset.append([features,'pos'])"
   ]
  },
  {
   "cell_type": "code",
   "execution_count": 40,
   "metadata": {},
   "outputs": [
    {
     "data": {
      "text/plain": [
       "array([0., 0., 0., ..., 0., 0., 0.])"
      ]
     },
     "execution_count": 40,
     "metadata": {},
     "output_type": "execute_result"
    }
   ],
   "source": [
    "features"
   ]
  },
  {
   "cell_type": "code",
   "execution_count": null,
   "metadata": {},
   "outputs": [],
   "source": []
  }
 ],
 "metadata": {
  "kernelspec": {
   "display_name": "Python 3",
   "language": "python",
   "name": "python3"
  },
  "language_info": {
   "codemirror_mode": {
    "name": "ipython",
    "version": 3
   },
   "file_extension": ".py",
   "mimetype": "text/x-python",
   "name": "python",
   "nbconvert_exporter": "python",
   "pygments_lexer": "ipython3",
   "version": "3.7.3"
  }
 },
 "nbformat": 4,
 "nbformat_minor": 2
}
