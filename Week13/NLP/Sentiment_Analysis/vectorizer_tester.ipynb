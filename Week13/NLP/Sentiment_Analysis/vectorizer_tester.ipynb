{
 "cells": [
  {
   "cell_type": "code",
   "execution_count": 3,
   "metadata": {},
   "outputs": [],
   "source": [
    "import pickle\n",
    "import nltk\n",
    "import import_ipynb\n",
    "from sklearn.feature_extraction.text import TfidfVectorizer, CountVectorizer\n",
    "from sklearn.metrics import *"
   ]
  },
  {
   "cell_type": "code",
   "execution_count": 5,
   "metadata": {},
   "outputs": [
    {
     "ename": "FileNotFoundError",
     "evalue": "[Errno 2] No such file or directory: 'model_pickle/Count_vectorizer/classifier.pkl'",
     "output_type": "error",
     "traceback": [
      "\u001b[0;31m---------------------------------------------------------------------------\u001b[0m",
      "\u001b[0;31mFileNotFoundError\u001b[0m                         Traceback (most recent call last)",
      "\u001b[0;32m<ipython-input-5-1a08a6d072ea>\u001b[0m in \u001b[0;36m<module>\u001b[0;34m\u001b[0m\n\u001b[1;32m      5\u001b[0m \u001b[0my_test_cv\u001b[0m \u001b[0;34m=\u001b[0m \u001b[0mpickle\u001b[0m\u001b[0;34m.\u001b[0m\u001b[0mload\u001b[0m\u001b[0;34m(\u001b[0m\u001b[0mtest_file\u001b[0m\u001b[0;34m)\u001b[0m\u001b[0;34m\u001b[0m\u001b[0;34m\u001b[0m\u001b[0m\n\u001b[1;32m      6\u001b[0m \u001b[0mtest_file\u001b[0m\u001b[0;34m.\u001b[0m\u001b[0mclose\u001b[0m\u001b[0;34m(\u001b[0m\u001b[0;34m)\u001b[0m\u001b[0;34m\u001b[0m\u001b[0;34m\u001b[0m\u001b[0m\n\u001b[0;32m----> 7\u001b[0;31m \u001b[0mmodel_file\u001b[0m \u001b[0;34m=\u001b[0m \u001b[0mopen\u001b[0m\u001b[0;34m(\u001b[0m\u001b[0;34m'model_pickle/Count_vectorizer/classifier.pkl'\u001b[0m\u001b[0;34m,\u001b[0m\u001b[0;34m'rb'\u001b[0m\u001b[0;34m)\u001b[0m\u001b[0;34m\u001b[0m\u001b[0;34m\u001b[0m\u001b[0m\n\u001b[0m\u001b[1;32m      8\u001b[0m \u001b[0mclassifier\u001b[0m \u001b[0;34m=\u001b[0m \u001b[0mpickle\u001b[0m\u001b[0;34m.\u001b[0m\u001b[0mload\u001b[0m\u001b[0;34m(\u001b[0m\u001b[0mmodel_file\u001b[0m\u001b[0;34m)\u001b[0m\u001b[0;34m\u001b[0m\u001b[0;34m\u001b[0m\u001b[0m\n\u001b[1;32m      9\u001b[0m \u001b[0mmodel_file\u001b[0m\u001b[0;34m.\u001b[0m\u001b[0mclose\u001b[0m\u001b[0;34m(\u001b[0m\u001b[0;34m)\u001b[0m\u001b[0;34m\u001b[0m\u001b[0;34m\u001b[0m\u001b[0m\n",
      "\u001b[0;31mFileNotFoundError\u001b[0m: [Errno 2] No such file or directory: 'model_pickle/Count_vectorizer/classifier.pkl'"
     ]
    }
   ],
   "source": [
    "test_file = open('Data/X_test_cv_data.pkl','rb')\n",
    "x_test_cv = pickle.load(test_file)\n",
    "test_file.close()\n",
    "test_file = open('Data/Y_test_cv_data.pkl','rb')\n",
    "y_test_cv = pickle.load(test_file)\n",
    "test_file.close()\n",
    "model_file = open('model_pickle/Count_vectorizer/classifier.pkl','rb')\n",
    "classifier = pickle.load(model_file)\n",
    "model_file.close()\n",
    "file = open('model_pickle/Count_vectorizer/count_vect.pkl','rb')\n",
    "count_vectorizer = pickle.load(file)\n",
    "file.close()\n",
    "y_pred = classifier.predict(x_test_cv)\n",
    "print(\"Accurcy score is {}, f1score is {}\".format(accuracy_score(y_test_cv,y_pred),f1_score(y_test_cv,y_pred)))\n",
    "feature = count_vectorizer.transform(\"movie was good it has action and romance\")\n",
    "classifier.predict(feature)\n",
    "feature = count_vectorizer.transform(\"movie had no scenes and worst acting it was bad\")\n",
    "classifier.predict(feature)"
   ]
  },
  {
   "cell_type": "code",
   "execution_count": null,
   "metadata": {},
   "outputs": [],
   "source": [
    "test_file = open('Data/X_test_tfidf_data.pkl','rb')\n",
    "x_test_cv = pickle.load(test_file)\n",
    "test_file.close()\n",
    "test_file = open('Data/Y_test_tfidf_data.pkl','rb')\n",
    "y_test_cv = pickle.load(test_file)\n",
    "test_file.close()\n",
    "model_file = open('model_pickle/TFidf_vectorizer/classifier.pkl','rb')\n",
    "classifier = pickle.load(model_file)\n",
    "model_file.close()\n",
    "file = open('model_pickle/TFidf_vectorizer/tfid_vectorizer.pkl','rb')\n",
    "count_vectorizer = pickle.load(file)\n",
    "file.close()\n",
    "y_pred = classifier.predict(x_test_cv)\n",
    "print(\"Accurcy score is {}, f1score is {}\".format(accuracy_score(y_test_cv,y_pred),f1_score(y_test_cv,y_pred)))\n",
    "feature = count_vectorizer.transform(\"movie was good it has action and romance\")\n",
    "classifier.predict(feature)\n",
    "feature = count_vectorizer.transform(\"movie had no scenes and worst acting it was bad\")\n",
    "classifier.predict(feature)"
   ]
  }
 ],
 "metadata": {
  "kernelspec": {
   "display_name": "Python 3",
   "language": "python",
   "name": "python3"
  },
  "language_info": {
   "codemirror_mode": {
    "name": "ipython",
    "version": 3
   },
   "file_extension": ".py",
   "mimetype": "text/x-python",
   "name": "python",
   "nbconvert_exporter": "python",
   "pygments_lexer": "ipython3",
   "version": "3.7.2"
  }
 },
 "nbformat": 4,
 "nbformat_minor": 2
}
