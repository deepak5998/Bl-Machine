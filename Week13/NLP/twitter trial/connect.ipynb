{
 "cells": [
  {
   "cell_type": "code",
   "execution_count": null,
   "metadata": {},
   "outputs": [],
   "source": [
    "import MySQLdb\n",
    "#        replace mysql.server with \"localhost\" if you are running via your own server!\n",
    "#                        server       MySQL username\tMySQL pass  Database name.\n",
    "conn = MySQLdb.connect(host=\"prayas2409.mysql.pythonanywhere-services.com\",user='prayas2409',password=\"prayas123\",database=\"prayas2409$prayas_db1\")\n",
    "\n",
    "c = conn.cursor()\n",
    "\n",
    "c.execute(\"SELECT * FROM table_1\")\n",
    "\n",
    "rows = c.fetchall()\n",
    "\n",
    "for eachRow in rows:\n",
    "    print(eachRow)\n"
   ]
  },
  {
   "cell_type": "code",
   "execution_count": null,
   "metadata": {},
   "outputs": [],
   "source": []
  }
 ],
 "metadata": {
  "kernelspec": {
   "display_name": "Python 3",
   "language": "python",
   "name": "python3"
  },
  "language_info": {
   "codemirror_mode": {
    "name": "ipython",
    "version": 3
   },
   "file_extension": ".py",
   "mimetype": "text/x-python",
   "name": "python",
   "nbconvert_exporter": "python",
   "pygments_lexer": "ipython3",
   "version": "3.6.8"
  }
 },
 "nbformat": 4,
 "nbformat_minor": 2
}
