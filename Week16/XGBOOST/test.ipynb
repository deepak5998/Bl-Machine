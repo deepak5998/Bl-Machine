{
 "cells": [
  {
   "cell_type": "code",
   "execution_count": null,
   "metadata": {},
   "outputs": [],
   "source": [
    "import pickle\n",
    "import xgboost\n",
    "# import import_ipynb\n",
    "from XGBoost import pre_process\n",
    "import numpy as np\n",
    "from sklearn.preprocessing import LabelBinarizer, StandardScaler\n",
    "from sklearn.model_selection import KFold, cross_val_score, GridSearchCV, train_test_split\n",
    "import pandas as pd\n",
    "from sklearn.metrics import *\n",
    "import seaborn as sns\n",
    "import matplotlib.pyplot as plt\n",
    "import pickle\n",
    "from sklearn.metrics import confusion_matrix"
   ]
  },
  {
   "cell_type": "code",
   "execution_count": null,
   "metadata": {},
   "outputs": [],
   "source": [
    "file = open('pickle/model.pkl','rb')\n",
    "added = pickle.load(file)"
   ]
  },
  {
   "cell_type": "code",
   "execution_count": null,
   "metadata": {},
   "outputs": [],
   "source": [
    "added"
   ]
  },
  {
   "cell_type": "code",
   "execution_count": null,
   "metadata": {},
   "outputs": [],
   "source": [
    "geog_lb = pickle.load(file)\n",
    "# gender_lb = pickle.load(file)\n",
    "# female_lb =  pickle.load(file)\n",
    "# age_ss = pickle.load(file)\n",
    "# tenure_ss = pickle.load(file)\n",
    "# bal_ss = pickle.load(file)\n",
    "# has_crd_ss = pickle.load(file)\n",
    "# sal_ss=pickle.load(file)\n",
    "# classifier = pickle.load(file)"
   ]
  },
  {
   "cell_type": "code",
   "execution_count": null,
   "metadata": {},
   "outputs": [],
   "source": [
    "geog_lb"
   ]
  },
  {
   "cell_type": "code",
   "execution_count": null,
   "metadata": {},
   "outputs": [],
   "source": [
    "lb_Geo = geog_lb[0]\n",
    "lb_gen = geog_lb[1]\n",
    "age_ss = geog_lb[2]\n",
    "tenure_ss = geog_lb[3]\n",
    "bal_ss = geog_lb[4]\n",
    "has_crd_ss = geog_lb[5]\n",
    "sal_ss= geog_lb[6]\n",
    "classifier = geog_lb[7]"
   ]
  },
  {
   "cell_type": "code",
   "execution_count": null,
   "metadata": {},
   "outputs": [],
   "source": [
    "test = pd.read_csv('Data/test.csv')"
   ]
  },
  {
   "cell_type": "code",
   "execution_count": null,
   "metadata": {},
   "outputs": [],
   "source": [
    "X = test[['Age', 'Tenure', 'Geography','Gender','Balance', 'HasCrCard', 'EstimatedSalary']]\n",
    "y = test['Exited']"
   ]
  },
  {
   "cell_type": "code",
   "execution_count": null,
   "metadata": {},
   "outputs": [],
   "source": [
    "X.head()"
   ]
  },
  {
   "cell_type": "code",
   "execution_count": null,
   "metadata": {},
   "outputs": [],
   "source": [
    "cols=['Geography','Gender']\n",
    "added_cols =[]\n",
    "def binarizer(X,col,lb):\n",
    "    sorted_col = np.sort(X[col].unique())\n",
    "    binarized = lb.transform(X[col])\n",
    "    for i in range(0,len(sorted_col)-1):\n",
    "        X[sorted_col[i]]=binarized[:,i]\n",
    "        added_cols.append(sorted_col[i])\n",
    "    X.drop([col],axis=1,inplace=True)\n",
    "    return X"
   ]
  },
  {
   "cell_type": "code",
   "execution_count": null,
   "metadata": {},
   "outputs": [],
   "source": [
    "X = binarizer(X,cols[0],lb_Geo)\n",
    "X = binarizer(X,cols[1],lb_gen)"
   ]
  },
  {
   "cell_type": "code",
   "execution_count": null,
   "metadata": {},
   "outputs": [],
   "source": [
    "def scaler(X, col, ss):\n",
    "    if col not in added_cols:\n",
    "        X[col] = ss.transform(np.array(X[col]).reshape(-1,1))"
   ]
  },
  {
   "cell_type": "code",
   "execution_count": null,
   "metadata": {},
   "outputs": [],
   "source": [
    "added"
   ]
  },
  {
   "cell_type": "code",
   "execution_count": null,
   "metadata": {},
   "outputs": [],
   "source": [
    "scaler(X,'Age',age_ss)\n",
    "scaler(X,'Tenure',tenure_ss)\n",
    "scaler(X,'Balance',bal_ss)\n",
    "scaler(X,'HasCrCard',has_crd_ss)\n",
    "scaler(X,'EstimatedSalary',sal_ss)"
   ]
  },
  {
   "cell_type": "code",
   "execution_count": null,
   "metadata": {},
   "outputs": [],
   "source": [
    "X.head()"
   ]
  },
  {
   "cell_type": "code",
   "execution_count": null,
   "metadata": {},
   "outputs": [],
   "source": [
    "pred = classifier.predict(X)"
   ]
  },
  {
   "cell_type": "code",
   "execution_count": null,
   "metadata": {},
   "outputs": [],
   "source": [
    "confusion_matrix(y,pred)"
   ]
  }
 ],
 "metadata": {
  "kernelspec": {
   "display_name": "Python 3",
   "language": "python",
   "name": "python3"
  },
  "language_info": {
   "codemirror_mode": {
    "name": "ipython",
    "version": 3
   },
   "file_extension": ".py",
   "mimetype": "text/x-python",
   "name": "python",
   "nbconvert_exporter": "python",
   "pygments_lexer": "ipython3",
   "version": "3.7.3"
  }
 },
 "nbformat": 4,
 "nbformat_minor": 2
}
