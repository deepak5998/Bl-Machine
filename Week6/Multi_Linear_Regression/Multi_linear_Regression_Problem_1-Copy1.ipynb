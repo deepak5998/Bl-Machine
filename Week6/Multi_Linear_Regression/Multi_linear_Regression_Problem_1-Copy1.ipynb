{
 "cells": [
  {
   "cell_type": "code",
   "execution_count": 1,
   "metadata": {},
   "outputs": [],
   "source": [
    "import matplotlib.pyplot as plt\n",
    "import pandas as pd\n",
    "import numpy as np"
   ]
  },
  {
   "cell_type": "markdown",
   "metadata": {},
   "source": [
    "loading data set"
   ]
  },
  {
   "cell_type": "code",
   "execution_count": 2,
   "metadata": {},
   "outputs": [
    {
     "data": {
      "text/html": [
       "<div>\n",
       "<style scoped>\n",
       "    .dataframe tbody tr th:only-of-type {\n",
       "        vertical-align: middle;\n",
       "    }\n",
       "\n",
       "    .dataframe tbody tr th {\n",
       "        vertical-align: top;\n",
       "    }\n",
       "\n",
       "    .dataframe thead th {\n",
       "        text-align: right;\n",
       "    }\n",
       "</style>\n",
       "<table border=\"1\" class=\"dataframe\">\n",
       "  <thead>\n",
       "    <tr style=\"text-align: right;\">\n",
       "      <th></th>\n",
       "      <th>Formatted Date</th>\n",
       "      <th>Summary</th>\n",
       "      <th>Precip Type</th>\n",
       "      <th>Temperature (C)</th>\n",
       "      <th>Apparent Temperature (C)</th>\n",
       "      <th>Humidity</th>\n",
       "      <th>Wind Speed (km/h)</th>\n",
       "      <th>Wind Bearing (degrees)</th>\n",
       "      <th>Visibility (km)</th>\n",
       "      <th>Loud Cover</th>\n",
       "      <th>Pressure (millibars)</th>\n",
       "      <th>Daily Summary</th>\n",
       "    </tr>\n",
       "  </thead>\n",
       "  <tbody>\n",
       "    <tr>\n",
       "      <th>0</th>\n",
       "      <td>2006-04-01 00:00:00.000 +0200</td>\n",
       "      <td>Partly Cloudy</td>\n",
       "      <td>rain</td>\n",
       "      <td>9.472222</td>\n",
       "      <td>7.388889</td>\n",
       "      <td>0.89</td>\n",
       "      <td>14.1197</td>\n",
       "      <td>251.0</td>\n",
       "      <td>15.8263</td>\n",
       "      <td>0.0</td>\n",
       "      <td>1015.13</td>\n",
       "      <td>Partly cloudy throughout the day.</td>\n",
       "    </tr>\n",
       "    <tr>\n",
       "      <th>1</th>\n",
       "      <td>2006-04-01 01:00:00.000 +0200</td>\n",
       "      <td>Partly Cloudy</td>\n",
       "      <td>rain</td>\n",
       "      <td>9.355556</td>\n",
       "      <td>7.227778</td>\n",
       "      <td>0.86</td>\n",
       "      <td>14.2646</td>\n",
       "      <td>259.0</td>\n",
       "      <td>15.8263</td>\n",
       "      <td>0.0</td>\n",
       "      <td>1015.63</td>\n",
       "      <td>Partly cloudy throughout the day.</td>\n",
       "    </tr>\n",
       "    <tr>\n",
       "      <th>2</th>\n",
       "      <td>2006-04-01 02:00:00.000 +0200</td>\n",
       "      <td>Mostly Cloudy</td>\n",
       "      <td>rain</td>\n",
       "      <td>9.377778</td>\n",
       "      <td>9.377778</td>\n",
       "      <td>0.89</td>\n",
       "      <td>3.9284</td>\n",
       "      <td>204.0</td>\n",
       "      <td>14.9569</td>\n",
       "      <td>0.0</td>\n",
       "      <td>1015.94</td>\n",
       "      <td>Partly cloudy throughout the day.</td>\n",
       "    </tr>\n",
       "    <tr>\n",
       "      <th>3</th>\n",
       "      <td>2006-04-01 03:00:00.000 +0200</td>\n",
       "      <td>Partly Cloudy</td>\n",
       "      <td>rain</td>\n",
       "      <td>8.288889</td>\n",
       "      <td>5.944444</td>\n",
       "      <td>0.83</td>\n",
       "      <td>14.1036</td>\n",
       "      <td>269.0</td>\n",
       "      <td>15.8263</td>\n",
       "      <td>0.0</td>\n",
       "      <td>1016.41</td>\n",
       "      <td>Partly cloudy throughout the day.</td>\n",
       "    </tr>\n",
       "    <tr>\n",
       "      <th>4</th>\n",
       "      <td>2006-04-01 04:00:00.000 +0200</td>\n",
       "      <td>Mostly Cloudy</td>\n",
       "      <td>rain</td>\n",
       "      <td>8.755556</td>\n",
       "      <td>6.977778</td>\n",
       "      <td>0.83</td>\n",
       "      <td>11.0446</td>\n",
       "      <td>259.0</td>\n",
       "      <td>15.8263</td>\n",
       "      <td>0.0</td>\n",
       "      <td>1016.51</td>\n",
       "      <td>Partly cloudy throughout the day.</td>\n",
       "    </tr>\n",
       "  </tbody>\n",
       "</table>\n",
       "</div>"
      ],
      "text/plain": [
       "                  Formatted Date        Summary Precip Type  Temperature (C)  \\\n",
       "0  2006-04-01 00:00:00.000 +0200  Partly Cloudy        rain         9.472222   \n",
       "1  2006-04-01 01:00:00.000 +0200  Partly Cloudy        rain         9.355556   \n",
       "2  2006-04-01 02:00:00.000 +0200  Mostly Cloudy        rain         9.377778   \n",
       "3  2006-04-01 03:00:00.000 +0200  Partly Cloudy        rain         8.288889   \n",
       "4  2006-04-01 04:00:00.000 +0200  Mostly Cloudy        rain         8.755556   \n",
       "\n",
       "   Apparent Temperature (C)  Humidity  Wind Speed (km/h)  \\\n",
       "0                  7.388889      0.89            14.1197   \n",
       "1                  7.227778      0.86            14.2646   \n",
       "2                  9.377778      0.89             3.9284   \n",
       "3                  5.944444      0.83            14.1036   \n",
       "4                  6.977778      0.83            11.0446   \n",
       "\n",
       "   Wind Bearing (degrees)  Visibility (km)  Loud Cover  Pressure (millibars)  \\\n",
       "0                   251.0          15.8263         0.0               1015.13   \n",
       "1                   259.0          15.8263         0.0               1015.63   \n",
       "2                   204.0          14.9569         0.0               1015.94   \n",
       "3                   269.0          15.8263         0.0               1016.41   \n",
       "4                   259.0          15.8263         0.0               1016.51   \n",
       "\n",
       "                       Daily Summary  \n",
       "0  Partly cloudy throughout the day.  \n",
       "1  Partly cloudy throughout the day.  \n",
       "2  Partly cloudy throughout the day.  \n",
       "3  Partly cloudy throughout the day.  \n",
       "4  Partly cloudy throughout the day.  "
      ]
     },
     "execution_count": 2,
     "metadata": {},
     "output_type": "execute_result"
    }
   ],
   "source": [
    "dataframe = pd.read_csv('weatherHistory.csv')\n",
    "dataframe.head()"
   ]
  },
  {
   "cell_type": "code",
   "execution_count": 3,
   "metadata": {},
   "outputs": [
    {
     "data": {
      "text/html": [
       "<div>\n",
       "<style scoped>\n",
       "    .dataframe tbody tr th:only-of-type {\n",
       "        vertical-align: middle;\n",
       "    }\n",
       "\n",
       "    .dataframe tbody tr th {\n",
       "        vertical-align: top;\n",
       "    }\n",
       "\n",
       "    .dataframe thead th {\n",
       "        text-align: right;\n",
       "    }\n",
       "</style>\n",
       "<table border=\"1\" class=\"dataframe\">\n",
       "  <thead>\n",
       "    <tr style=\"text-align: right;\">\n",
       "      <th></th>\n",
       "      <th>Temperature (C)</th>\n",
       "      <th>Apparent Temperature (C)</th>\n",
       "      <th>Humidity</th>\n",
       "      <th>Wind Speed (km/h)</th>\n",
       "      <th>Wind Bearing (degrees)</th>\n",
       "      <th>Visibility (km)</th>\n",
       "      <th>Pressure (millibars)</th>\n",
       "    </tr>\n",
       "  </thead>\n",
       "  <tbody>\n",
       "    <tr>\n",
       "      <th>0</th>\n",
       "      <td>9.472222</td>\n",
       "      <td>7.388889</td>\n",
       "      <td>0.89</td>\n",
       "      <td>14.1197</td>\n",
       "      <td>251.0</td>\n",
       "      <td>15.8263</td>\n",
       "      <td>1015.13</td>\n",
       "    </tr>\n",
       "    <tr>\n",
       "      <th>1</th>\n",
       "      <td>9.355556</td>\n",
       "      <td>7.227778</td>\n",
       "      <td>0.86</td>\n",
       "      <td>14.2646</td>\n",
       "      <td>259.0</td>\n",
       "      <td>15.8263</td>\n",
       "      <td>1015.63</td>\n",
       "    </tr>\n",
       "    <tr>\n",
       "      <th>2</th>\n",
       "      <td>9.377778</td>\n",
       "      <td>9.377778</td>\n",
       "      <td>0.89</td>\n",
       "      <td>3.9284</td>\n",
       "      <td>204.0</td>\n",
       "      <td>14.9569</td>\n",
       "      <td>1015.94</td>\n",
       "    </tr>\n",
       "    <tr>\n",
       "      <th>3</th>\n",
       "      <td>8.288889</td>\n",
       "      <td>5.944444</td>\n",
       "      <td>0.83</td>\n",
       "      <td>14.1036</td>\n",
       "      <td>269.0</td>\n",
       "      <td>15.8263</td>\n",
       "      <td>1016.41</td>\n",
       "    </tr>\n",
       "    <tr>\n",
       "      <th>4</th>\n",
       "      <td>8.755556</td>\n",
       "      <td>6.977778</td>\n",
       "      <td>0.83</td>\n",
       "      <td>11.0446</td>\n",
       "      <td>259.0</td>\n",
       "      <td>15.8263</td>\n",
       "      <td>1016.51</td>\n",
       "    </tr>\n",
       "  </tbody>\n",
       "</table>\n",
       "</div>"
      ],
      "text/plain": [
       "   Temperature (C)  Apparent Temperature (C)  Humidity  Wind Speed (km/h)  \\\n",
       "0         9.472222                  7.388889      0.89            14.1197   \n",
       "1         9.355556                  7.227778      0.86            14.2646   \n",
       "2         9.377778                  9.377778      0.89             3.9284   \n",
       "3         8.288889                  5.944444      0.83            14.1036   \n",
       "4         8.755556                  6.977778      0.83            11.0446   \n",
       "\n",
       "   Wind Bearing (degrees)  Visibility (km)  Pressure (millibars)  \n",
       "0                   251.0          15.8263               1015.13  \n",
       "1                   259.0          15.8263               1015.63  \n",
       "2                   204.0          14.9569               1015.94  \n",
       "3                   269.0          15.8263               1016.41  \n",
       "4                   259.0          15.8263               1016.51  "
      ]
     },
     "execution_count": 3,
     "metadata": {},
     "output_type": "execute_result"
    }
   ],
   "source": [
    "dataframe = dataframe.drop(['Formatted Date', 'Summary', 'Precip Type', 'Loud Cover', 'Daily Summary'], axis=1)\n",
    "dataframe.head()"
   ]
  },
  {
   "cell_type": "code",
   "execution_count": 4,
   "metadata": {},
   "outputs": [],
   "source": [
    "new_columns = {'Temperature (C)':'x1', 'Apparent Temperature (C)':'y', 'Humidity':'x2', 'Wind Speed (km/h)':'x3',\n",
    "          'Wind Bearing (degrees)':'x4', 'Visibility (km)':'x5', 'Pressure (millibars)':'x6'}"
   ]
  },
  {
   "cell_type": "code",
   "execution_count": 5,
   "metadata": {},
   "outputs": [],
   "source": [
    "dataframe.rename(columns=new_columns, inplace=True)"
   ]
  },
  {
   "cell_type": "code",
   "execution_count": 6,
   "metadata": {
    "scrolled": true
   },
   "outputs": [
    {
     "data": {
      "text/html": [
       "<div>\n",
       "<style scoped>\n",
       "    .dataframe tbody tr th:only-of-type {\n",
       "        vertical-align: middle;\n",
       "    }\n",
       "\n",
       "    .dataframe tbody tr th {\n",
       "        vertical-align: top;\n",
       "    }\n",
       "\n",
       "    .dataframe thead th {\n",
       "        text-align: right;\n",
       "    }\n",
       "</style>\n",
       "<table border=\"1\" class=\"dataframe\">\n",
       "  <thead>\n",
       "    <tr style=\"text-align: right;\">\n",
       "      <th></th>\n",
       "      <th>count</th>\n",
       "      <th>mean</th>\n",
       "      <th>std</th>\n",
       "      <th>min</th>\n",
       "      <th>25%</th>\n",
       "      <th>50%</th>\n",
       "      <th>75%</th>\n",
       "      <th>max</th>\n",
       "    </tr>\n",
       "  </thead>\n",
       "  <tbody>\n",
       "    <tr>\n",
       "      <th>x1</th>\n",
       "      <td>96453.0</td>\n",
       "      <td>11.932678</td>\n",
       "      <td>9.551546</td>\n",
       "      <td>-21.822222</td>\n",
       "      <td>4.688889</td>\n",
       "      <td>12.0000</td>\n",
       "      <td>18.838889</td>\n",
       "      <td>39.905556</td>\n",
       "    </tr>\n",
       "    <tr>\n",
       "      <th>y</th>\n",
       "      <td>96453.0</td>\n",
       "      <td>10.855029</td>\n",
       "      <td>10.696847</td>\n",
       "      <td>-27.716667</td>\n",
       "      <td>2.311111</td>\n",
       "      <td>12.0000</td>\n",
       "      <td>18.838889</td>\n",
       "      <td>39.344444</td>\n",
       "    </tr>\n",
       "    <tr>\n",
       "      <th>x2</th>\n",
       "      <td>96453.0</td>\n",
       "      <td>0.734899</td>\n",
       "      <td>0.195473</td>\n",
       "      <td>0.000000</td>\n",
       "      <td>0.600000</td>\n",
       "      <td>0.7800</td>\n",
       "      <td>0.890000</td>\n",
       "      <td>1.000000</td>\n",
       "    </tr>\n",
       "    <tr>\n",
       "      <th>x3</th>\n",
       "      <td>96453.0</td>\n",
       "      <td>10.810640</td>\n",
       "      <td>6.913571</td>\n",
       "      <td>0.000000</td>\n",
       "      <td>5.828200</td>\n",
       "      <td>9.9659</td>\n",
       "      <td>14.135800</td>\n",
       "      <td>63.852600</td>\n",
       "    </tr>\n",
       "    <tr>\n",
       "      <th>x4</th>\n",
       "      <td>96453.0</td>\n",
       "      <td>187.509232</td>\n",
       "      <td>107.383428</td>\n",
       "      <td>0.000000</td>\n",
       "      <td>116.000000</td>\n",
       "      <td>180.0000</td>\n",
       "      <td>290.000000</td>\n",
       "      <td>359.000000</td>\n",
       "    </tr>\n",
       "    <tr>\n",
       "      <th>x5</th>\n",
       "      <td>96453.0</td>\n",
       "      <td>10.347325</td>\n",
       "      <td>4.192123</td>\n",
       "      <td>0.000000</td>\n",
       "      <td>8.339800</td>\n",
       "      <td>10.0464</td>\n",
       "      <td>14.812000</td>\n",
       "      <td>16.100000</td>\n",
       "    </tr>\n",
       "    <tr>\n",
       "      <th>x6</th>\n",
       "      <td>96453.0</td>\n",
       "      <td>1003.235956</td>\n",
       "      <td>116.969906</td>\n",
       "      <td>0.000000</td>\n",
       "      <td>1011.900000</td>\n",
       "      <td>1016.4500</td>\n",
       "      <td>1021.090000</td>\n",
       "      <td>1046.380000</td>\n",
       "    </tr>\n",
       "  </tbody>\n",
       "</table>\n",
       "</div>"
      ],
      "text/plain": [
       "      count         mean         std        min          25%        50%  \\\n",
       "x1  96453.0    11.932678    9.551546 -21.822222     4.688889    12.0000   \n",
       "y   96453.0    10.855029   10.696847 -27.716667     2.311111    12.0000   \n",
       "x2  96453.0     0.734899    0.195473   0.000000     0.600000     0.7800   \n",
       "x3  96453.0    10.810640    6.913571   0.000000     5.828200     9.9659   \n",
       "x4  96453.0   187.509232  107.383428   0.000000   116.000000   180.0000   \n",
       "x5  96453.0    10.347325    4.192123   0.000000     8.339800    10.0464   \n",
       "x6  96453.0  1003.235956  116.969906   0.000000  1011.900000  1016.4500   \n",
       "\n",
       "            75%          max  \n",
       "x1    18.838889    39.905556  \n",
       "y     18.838889    39.344444  \n",
       "x2     0.890000     1.000000  \n",
       "x3    14.135800    63.852600  \n",
       "x4   290.000000   359.000000  \n",
       "x5    14.812000    16.100000  \n",
       "x6  1021.090000  1046.380000  "
      ]
     },
     "execution_count": 6,
     "metadata": {},
     "output_type": "execute_result"
    }
   ],
   "source": [
    "dataframe.describe().T"
   ]
  },
  {
   "cell_type": "code",
   "execution_count": 7,
   "metadata": {},
   "outputs": [
    {
     "data": {
      "text/plain": [
       "x1    0\n",
       "y     0\n",
       "x2    0\n",
       "x3    0\n",
       "x4    0\n",
       "x5    0\n",
       "x6    0\n",
       "dtype: int64"
      ]
     },
     "execution_count": 7,
     "metadata": {},
     "output_type": "execute_result"
    }
   ],
   "source": [
    "dataframe.isna().sum()"
   ]
  },
  {
   "cell_type": "code",
   "execution_count": null,
   "metadata": {},
   "outputs": [],
   "source": []
  },
  {
   "cell_type": "code",
   "execution_count": 8,
   "metadata": {},
   "outputs": [
    {
     "data": {
      "text/plain": [
       "<matplotlib.axes._subplots.AxesSubplot at 0x7fbd8600d278>"
      ]
     },
     "execution_count": 8,
     "metadata": {},
     "output_type": "execute_result"
    },
    {
     "data": {
      "image/png": "[encoded data removed]",
      "text/plain": [
       "<Figure size 432x288 with 1 Axes>"
      ]
     },
     "metadata": {
      "needs_background": "light"
     },
     "output_type": "display_data"
    }
   ],
   "source": [
    "dataframe.boxplot()"
   ]
  },
  {
   "cell_type": "code",
   "execution_count": null,
   "metadata": {},
   "outputs": [],
   "source": []
  },
  {
   "cell_type": "code",
   "execution_count": 9,
   "metadata": {
    "scrolled": true
   },
   "outputs": [],
   "source": [
    " dataframe=dataframe.head(2000)"
   ]
  },
  {
   "cell_type": "code",
   "execution_count": 10,
   "metadata": {},
   "outputs": [
    {
     "data": {
      "text/html": [
       "<div>\n",
       "<style scoped>\n",
       "    .dataframe tbody tr th:only-of-type {\n",
       "        vertical-align: middle;\n",
       "    }\n",
       "\n",
       "    .dataframe tbody tr th {\n",
       "        vertical-align: top;\n",
       "    }\n",
       "\n",
       "    .dataframe thead th {\n",
       "        text-align: right;\n",
       "    }\n",
       "</style>\n",
       "<table border=\"1\" class=\"dataframe\">\n",
       "  <thead>\n",
       "    <tr style=\"text-align: right;\">\n",
       "      <th></th>\n",
       "      <th>count</th>\n",
       "      <th>mean</th>\n",
       "      <th>std</th>\n",
       "      <th>min</th>\n",
       "      <th>25%</th>\n",
       "      <th>50%</th>\n",
       "      <th>75%</th>\n",
       "      <th>max</th>\n",
       "    </tr>\n",
       "  </thead>\n",
       "  <tbody>\n",
       "    <tr>\n",
       "      <th>x1</th>\n",
       "      <td>2000.0</td>\n",
       "      <td>12.057164</td>\n",
       "      <td>8.536671</td>\n",
       "      <td>-8.594444</td>\n",
       "      <td>4.900000</td>\n",
       "      <td>13.058333</td>\n",
       "      <td>17.872222</td>\n",
       "      <td>32.638889</td>\n",
       "    </tr>\n",
       "    <tr>\n",
       "      <th>y</th>\n",
       "      <td>2000.0</td>\n",
       "      <td>11.304911</td>\n",
       "      <td>9.509893</td>\n",
       "      <td>-11.911111</td>\n",
       "      <td>2.434722</td>\n",
       "      <td>13.058333</td>\n",
       "      <td>17.872222</td>\n",
       "      <td>35.494444</td>\n",
       "    </tr>\n",
       "    <tr>\n",
       "      <th>x2</th>\n",
       "      <td>2000.0</td>\n",
       "      <td>0.792105</td>\n",
       "      <td>0.171283</td>\n",
       "      <td>0.320000</td>\n",
       "      <td>0.670000</td>\n",
       "      <td>0.850000</td>\n",
       "      <td>0.930000</td>\n",
       "      <td>1.000000</td>\n",
       "    </tr>\n",
       "    <tr>\n",
       "      <th>x3</th>\n",
       "      <td>2000.0</td>\n",
       "      <td>9.755723</td>\n",
       "      <td>6.036682</td>\n",
       "      <td>0.000000</td>\n",
       "      <td>4.942700</td>\n",
       "      <td>9.064300</td>\n",
       "      <td>13.379100</td>\n",
       "      <td>36.386000</td>\n",
       "    </tr>\n",
       "    <tr>\n",
       "      <th>x4</th>\n",
       "      <td>2000.0</td>\n",
       "      <td>204.365000</td>\n",
       "      <td>96.594902</td>\n",
       "      <td>0.000000</td>\n",
       "      <td>142.000000</td>\n",
       "      <td>210.000000</td>\n",
       "      <td>288.250000</td>\n",
       "      <td>359.000000</td>\n",
       "    </tr>\n",
       "    <tr>\n",
       "      <th>x5</th>\n",
       "      <td>2000.0</td>\n",
       "      <td>9.359155</td>\n",
       "      <td>4.459319</td>\n",
       "      <td>0.000000</td>\n",
       "      <td>6.456100</td>\n",
       "      <td>9.982000</td>\n",
       "      <td>11.270000</td>\n",
       "      <td>16.100000</td>\n",
       "    </tr>\n",
       "    <tr>\n",
       "      <th>x6</th>\n",
       "      <td>2000.0</td>\n",
       "      <td>989.480730</td>\n",
       "      <td>168.278530</td>\n",
       "      <td>0.000000</td>\n",
       "      <td>1010.240000</td>\n",
       "      <td>1014.680000</td>\n",
       "      <td>1024.257500</td>\n",
       "      <td>1042.310000</td>\n",
       "    </tr>\n",
       "  </tbody>\n",
       "</table>\n",
       "</div>"
      ],
      "text/plain": [
       "     count        mean         std        min          25%          50%  \\\n",
       "x1  2000.0   12.057164    8.536671  -8.594444     4.900000    13.058333   \n",
       "y   2000.0   11.304911    9.509893 -11.911111     2.434722    13.058333   \n",
       "x2  2000.0    0.792105    0.171283   0.320000     0.670000     0.850000   \n",
       "x3  2000.0    9.755723    6.036682   0.000000     4.942700     9.064300   \n",
       "x4  2000.0  204.365000   96.594902   0.000000   142.000000   210.000000   \n",
       "x5  2000.0    9.359155    4.459319   0.000000     6.456100     9.982000   \n",
       "x6  2000.0  989.480730  168.278530   0.000000  1010.240000  1014.680000   \n",
       "\n",
       "            75%          max  \n",
       "x1    17.872222    32.638889  \n",
       "y     17.872222    35.494444  \n",
       "x2     0.930000     1.000000  \n",
       "x3    13.379100    36.386000  \n",
       "x4   288.250000   359.000000  \n",
       "x5    11.270000    16.100000  \n",
       "x6  1024.257500  1042.310000  "
      ]
     },
     "execution_count": 10,
     "metadata": {},
     "output_type": "execute_result"
    }
   ],
   "source": [
    "dataframe.describe().T"
   ]
  },
  {
   "cell_type": "code",
   "execution_count": 11,
   "metadata": {},
   "outputs": [
    {
     "data": {
      "text/plain": [
       "<matplotlib.axes._subplots.AxesSubplot at 0x7fbd845283c8>"
      ]
     },
     "execution_count": 11,
     "metadata": {},
     "output_type": "execute_result"
    },
    {
     "data": {
      "image/png": "[encoded data removed]",
      "text/plain": [
       "<Figure size 432x288 with 1 Axes>"
      ]
     },
     "metadata": {
      "needs_background": "light"
     },
     "output_type": "display_data"
    }
   ],
   "source": [
    "dataframe.boxplot()\n"
   ]
  },
  {
   "cell_type": "code",
   "execution_count": 12,
   "metadata": {},
   "outputs": [],
   "source": [
    "# Separating the output and the parameters data frame\n",
    "def separate(dataframe):\n",
    "    output = dataframe.y\n",
    "    return dataframe.drop('y', axis=1), output"
   ]
  },
  {
   "cell_type": "code",
   "execution_count": 13,
   "metadata": {},
   "outputs": [],
   "source": [
    "# dataframe = dataframe[(dataframe >= dataframe.quantile(0.25)) & (dataframe<dataframe.quantile(0.75))]\n",
    "# fucntion to get \n",
    "def remove_outlier(dataframe):\n",
    "    dataframe = dataframe[np.abs(dataframe - dataframe.mean()) <= (3 * dataframe.std())]\n",
    "    return dataframe"
   ]
  },
  {
   "cell_type": "code",
   "execution_count": 14,
   "metadata": {},
   "outputs": [],
   "source": [
    "def split(dataframe):\n",
    "    test_data = dataframe.tail(500).reset_index(drop=True)\n",
    "    return dataframe.head(len(dataframe)-500), test_data"
   ]
  },
  {
   "cell_type": "code",
   "execution_count": 15,
   "metadata": {},
   "outputs": [],
   "source": [
    "# using min max\n",
    "def feature_scaling_column(dataframe, column_scaling):\n",
    "    mean_of_col = dataframe[column_scaling].mean()\n",
    "    std_of_col = dataframe[column_scaling].std()\n",
    "    print('for col= {} mean= {} and std={} '.format(column_scaling,mean_of_col,std_of_col))\n",
    "    for counter in range(0, len(dataframe)):\n",
    "        dataframe.loc[counter, column_scaling] =  ((dataframe.loc[counter, column_scaling] - mean_of_col) / std_of_col)\n",
    "    print(\"successfully scaled column \",column_scaling)\n",
    "    return dataframe"
   ]
  },
  {
   "cell_type": "code",
   "execution_count": 16,
   "metadata": {},
   "outputs": [],
   "source": [
    "Ypred = pd.Series(np.zeros(len(dataframe)))\n"
   ]
  },
  {
   "cell_type": "code",
   "execution_count": 17,
   "metadata": {},
   "outputs": [],
   "source": [
    "dataframe = remove_outlier(dataframe)"
   ]
  },
  {
   "cell_type": "code",
   "execution_count": 18,
   "metadata": {},
   "outputs": [
    {
     "data": {
      "text/plain": [
       "<matplotlib.axes._subplots.AxesSubplot at 0x7fbd8443c630>"
      ]
     },
     "execution_count": 18,
     "metadata": {},
     "output_type": "execute_result"
    },
    {
     "data": {
      "image/png": "[encoded data removed]",
      "text/plain": [
       "<Figure size 432x288 with 1 Axes>"
      ]
     },
     "metadata": {
      "needs_background": "light"
     },
     "output_type": "display_data"
    }
   ],
   "source": [
    "dataframe.boxplot()"
   ]
  },
  {
   "cell_type": "code",
   "execution_count": 19,
   "metadata": {},
   "outputs": [
    {
     "data": {
      "text/plain": [
       "x1     0\n",
       "y      0\n",
       "x2     0\n",
       "x3    20\n",
       "x4     0\n",
       "x5     0\n",
       "x6    56\n",
       "dtype: int64"
      ]
     },
     "execution_count": 19,
     "metadata": {},
     "output_type": "execute_result"
    }
   ],
   "source": [
    "dataframe.isna().sum()"
   ]
  },
  {
   "cell_type": "code",
   "execution_count": 20,
   "metadata": {},
   "outputs": [],
   "source": [
    "dataframe = dataframe.dropna()\n",
    "dataframe = dataframe.reset_index(drop=True)"
   ]
  },
  {
   "cell_type": "code",
   "execution_count": 21,
   "metadata": {},
   "outputs": [],
   "source": [
    "class Multi_Linear_Regression():\n",
    "    \n",
    "    \n",
    "    def __init__(self):\n",
    "        self.learning_rate = 0.0009\n",
    "        self.iteration = 2000\n",
    "        self.ncols=6\n",
    "        self.fig = plt.figure()\n",
    "        self.fig, (self.ax1, self.ax2, self.ax3,self.ax4) = plt.subplots(nrows=4, ncols=1, figsize=(5, 10))\n",
    "        \n",
    "    def train(self, dataframe, output):\n",
    "        weights = np.full(self.ncols,1.2)\n",
    "        dframe_size = len(dataframe)\n",
    "        bais = 1.3\n",
    "\n",
    "        # Ypred = (dataframe.x1*weight1 + dataframe.x2*weight2 + dataframe.x3*weight3+ dataframe.x4*weight4 + dataframe.x5*weight5 + bais)\n",
    "        \n",
    "     \n",
    "        for iterations in range(0, self.iteration):\n",
    "            Ypred = self.classify(dataframe, weights,bais)\n",
    "            diff = np.subtract(Ypred,output)\n",
    "            # cost = sum(y^ -y)**2)/2m\n",
    "            cost = np.sum(np.square(diff))/(2*dframe_size)\n",
    "            if(iterations%100==0):\n",
    "                print('In training iteration: {}, cost {}, bais:{}'\n",
    "                      .format(iterations, cost,bais))           \n",
    "            if(iterations%20==0):\n",
    "                self.ax1.plot(weights[0],cost,markersize=1, marker='x', color='g')\n",
    "                self.ax1.set_title('weight1 vs cost')\n",
    "                self.ax2.plot(iterations,cost, markersize=1, marker='x', color='r')\n",
    "                self.ax2.set_title('iteration vs cost')\n",
    "                self.ax3.plot(bais,cost, markersize=1, marker = '+', color='#42f48c')\n",
    "                self.ax3.set_title('bais vs cost')\n",
    "            for counter1 in range(0, self.ncols):\n",
    "                weights[counter1] = np.subtract(weights[counter1],\n",
    "                                      np.multiply(self.learning_rate,np.sum(\n",
    "                        np.multiply(diff,dataframe.iloc[:,counter1]))))\n",
    "    \n",
    "            weights= np.divide(weights,dframe_size)\n",
    "            bais = np.subtract(bais,np.multiply(self.learning_rate,(np.sum(diff)/dframe_size)))\n",
    "            \n",
    "        return weights, bais\n",
    "        \n",
    "        \n",
    "    def classify(self, dataframe, weights, bais):\n",
    "        Ypred = pd.Series(np.zeros(len(dataframe)))\n",
    "        dframe_size = len(dataframe)\n",
    "        for counter1 in range(0, dframe_size):\n",
    "            for counter2 in range(0, self.ncols):\n",
    "                Ypred[counter1] = np.add(Ypred[counter1],\n",
    "                                         np.multiply(\n",
    "                                             weights[counter2],dataframe.iloc[counter1, counter2]))\n",
    "        Ypred = np.add(bais,Ypred)\n",
    "        return Ypred\n",
    "        \n",
    "    def accuracy(self,Ypred, y_output):\n",
    "#         for counter in range(0, len(Ypred)):\n",
    "#             Ypred[counter]= abs(Ypred[counter]-y_output[counter])/y_output[counter]\n",
    "        Ypred = np.divide(\n",
    "            abs(np.subtract(Ypred,y_output))\n",
    "            ,y_output)\n",
    "        self.ax4.scatter(np.linspace(-3,1,Ypred.shape[0]),Ypred, marker='+',color='g')\n",
    "        plt.subplots_adjust(hspace=0.5, wspace = 0.5)\n",
    "        plt.title(\"scattered points Ypred\")\n",
    "        plt.show()\n",
    "        self.ax4.set_title(\"predicted values vs original output\")\n",
    "        accuracy = (np.sum(Ypred))/len(Ypred)\n",
    "        return (accuracy)*100\n",
    "                "
   ]
  },
  {
   "cell_type": "code",
   "execution_count": 22,
   "metadata": {},
   "outputs": [],
   "source": [
    "def main(dataframe, test_data):\n",
    "    try:\n",
    "        dataframe, output = separate(dataframe)\n",
    "        regression_object = Multi_Linear_Regression()\n",
    "        # feature Scaling:\n",
    "        weights, bais = regression_object.train(dataframe,output)\n",
    "        print(weights,bais)\n",
    "        test_data = (test_data[test_data['y']!=0]).reset_index()\n",
    "        test_data, output = separate(test_data)\n",
    "        Ypred = regression_object.classify(test_data, weights, bais)\n",
    "        print(Ypred.head(),\"number of zeros in Ypredict:\",(Ypred==0).sum())\n",
    "        print(\"Accuracy = \", regression_object.accuracy(Ypred,output))\n",
    "    except Exception as e:\n",
    "        print('Process stopped because ',e)"
   ]
  },
  {
   "cell_type": "code",
   "execution_count": 23,
   "metadata": {},
   "outputs": [],
   "source": [
    "# plt.plot(np.random.rand(20))"
   ]
  },
  {
   "cell_type": "code",
   "execution_count": 24,
   "metadata": {},
   "outputs": [],
   "source": [
    "# np.add(4,dataframe)"
   ]
  },
  {
   "cell_type": "code",
   "execution_count": 25,
   "metadata": {},
   "outputs": [],
   "source": [
    "dataframe, test_data = split(dataframe)"
   ]
  },
  {
   "cell_type": "code",
   "execution_count": 26,
   "metadata": {
    "scrolled": true
   },
   "outputs": [
    {
     "name": "stdout",
     "output_type": "stream",
     "text": [
      "for col= x1 mean= 15.881054931335822 and std=5.998056713025051 \n",
      "successfully scaled column  x1\n",
      "for col= y mean= 15.642540574282142 and std=6.488412978484126 \n",
      "successfully scaled column  y\n",
      "for col= x2 mean= 0.750175561797752 and std=0.17274041901330772 \n",
      "successfully scaled column  x2\n",
      "for col= x3 mean= 9.840163974719088 and std=5.821187515706409 \n",
      "successfully scaled column  x3\n",
      "for col= x4 mean= 208.75140449438203 and std=92.20990291828151 \n",
      "successfully scaled column  x4\n",
      "for col= x5 mean= 10.989346699438208 and std=3.283134443008306 \n",
      "successfully scaled column  x5\n",
      "for col= x6 mean= 1012.8663834269664 and std=5.060837697182491 \n",
      "successfully scaled column  x6\n"
     ]
    }
   ],
   "source": [
    "for item in dataframe:\n",
    "    dataframe = feature_scaling_column(dataframe, item)"
   ]
  },
  {
   "cell_type": "code",
   "execution_count": 27,
   "metadata": {},
   "outputs": [],
   "source": [
    "# from IPython.core.debugger import Tracer; Tracer()()\n",
    "# dataframe.isnan().sum()\n"
   ]
  },
  {
   "cell_type": "code",
   "execution_count": null,
   "metadata": {},
   "outputs": [
    {
     "name": "stdout",
     "output_type": "stream",
     "text": [
      "In training iteration: 0, cost 3.157394621225488, bais:1.3\n",
      "In training iteration: 100, cost 1.2041581045782848, bais:1.18806239446066\n",
      "In training iteration: 200, cost 1.0878529190333486, bais:1.0857632716396908\n",
      "In training iteration: 300, cost 0.990714535367247, bais:0.9922727017859162\n",
      "In training iteration: 400, cost 0.9095843128664036, bais:0.9068322169551734\n",
      "In training iteration: 500, cost 0.8418241468576555, bais:0.8287486577306403\n",
      "In training iteration: 600, cost 0.7852306856788042, bais:0.7573885497765567\n",
      "In training iteration: 700, cost 0.7379636844765245, bais:0.6921729646035565\n",
      "In training iteration: 800, cost 0.6984861661180748, bais:0.6325728228521809\n",
      "In training iteration: 900, cost 0.6655144434341622, bais:0.5781046019911547\n",
      "In training iteration: 1000, cost 0.6379763776704073, bais:0.5283264136079525\n",
      "In training iteration: 1100, cost 0.6149765158409584, bais:0.4828344184675979\n",
      "In training iteration: 1200, cost 0.5957669733584945, bais:0.4412595502558733\n",
      "In training iteration: 1300, cost 0.5797231151335238, bais:0.40326452142740543\n",
      "In training iteration: 1400, cost 0.5663232443673181, bais:0.36854108686775033\n",
      "In training iteration: 1500, cost 0.555131638580653, bais:0.3368075431701798\n"
     ]
    }
   ],
   "source": [
    "main(dataframe,test_data)"
   ]
  }
 ],
 "metadata": {
  "kernelspec": {
   "display_name": "Python 3",
   "language": "python",
   "name": "python3"
  },
  "language_info": {
   "codemirror_mode": {
    "name": "ipython",
    "version": 3
   },
   "file_extension": ".py",
   "mimetype": "text/x-python",
   "name": "python",
   "nbconvert_exporter": "python",
   "pygments_lexer": "ipython3",
   "version": "3.7.2"
  }
 },
 "nbformat": 4,
 "nbformat_minor": 2
}
