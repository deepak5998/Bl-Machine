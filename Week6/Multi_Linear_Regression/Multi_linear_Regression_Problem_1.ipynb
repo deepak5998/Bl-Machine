{
 "cells": [
  {
   "cell_type": "code",
   "execution_count": 2067,
   "metadata": {},
   "outputs": [],
   "source": [
    "import matplotlib.pyplot as plt\n",
    "import pandas as pd\n",
    "import numpy as np"
   ]
  },
  {
   "cell_type": "markdown",
   "metadata": {},
   "source": [
    "loading data set"
   ]
  },
  {
   "cell_type": "code",
   "execution_count": 8,
   "metadata": {},
   "outputs": [
    {
     "data": {
      "text/html": [
       "<div>\n",
       "<style scoped>\n",
       "    .dataframe tbody tr th:only-of-type {\n",
       "        vertical-align: middle;\n",
       "    }\n",
       "\n",
       "    .dataframe tbody tr th {\n",
       "        vertical-align: top;\n",
       "    }\n",
       "\n",
       "    .dataframe thead th {\n",
       "        text-align: right;\n",
       "    }\n",
       "</style>\n",
       "<table border=\"1\" class=\"dataframe\">\n",
       "  <thead>\n",
       "    <tr style=\"text-align: right;\">\n",
       "      <th></th>\n",
       "      <th>Formatted Date</th>\n",
       "      <th>Summary</th>\n",
       "      <th>Precip Type</th>\n",
       "      <th>Temperature (C)</th>\n",
       "      <th>Apparent Temperature (C)</th>\n",
       "      <th>Humidity</th>\n",
       "      <th>Wind Speed (km/h)</th>\n",
       "      <th>Wind Bearing (degrees)</th>\n",
       "      <th>Visibility (km)</th>\n",
       "      <th>Loud Cover</th>\n",
       "      <th>Pressure (millibars)</th>\n",
       "      <th>Daily Summary</th>\n",
       "    </tr>\n",
       "  </thead>\n",
       "  <tbody>\n",
       "    <tr>\n",
       "      <th>0</th>\n",
       "      <td>2006-04-01 00:00:00.000 +0200</td>\n",
       "      <td>Partly Cloudy</td>\n",
       "      <td>rain</td>\n",
       "      <td>9.472222</td>\n",
       "      <td>7.388889</td>\n",
       "      <td>0.89</td>\n",
       "      <td>14.1197</td>\n",
       "      <td>251.0</td>\n",
       "      <td>15.8263</td>\n",
       "      <td>0.0</td>\n",
       "      <td>1015.13</td>\n",
       "      <td>Partly cloudy throughout the day.</td>\n",
       "    </tr>\n",
       "    <tr>\n",
       "      <th>1</th>\n",
       "      <td>2006-04-01 01:00:00.000 +0200</td>\n",
       "      <td>Partly Cloudy</td>\n",
       "      <td>rain</td>\n",
       "      <td>9.355556</td>\n",
       "      <td>7.227778</td>\n",
       "      <td>0.86</td>\n",
       "      <td>14.2646</td>\n",
       "      <td>259.0</td>\n",
       "      <td>15.8263</td>\n",
       "      <td>0.0</td>\n",
       "      <td>1015.63</td>\n",
       "      <td>Partly cloudy throughout the day.</td>\n",
       "    </tr>\n",
       "    <tr>\n",
       "      <th>2</th>\n",
       "      <td>2006-04-01 02:00:00.000 +0200</td>\n",
       "      <td>Mostly Cloudy</td>\n",
       "      <td>rain</td>\n",
       "      <td>9.377778</td>\n",
       "      <td>9.377778</td>\n",
       "      <td>0.89</td>\n",
       "      <td>3.9284</td>\n",
       "      <td>204.0</td>\n",
       "      <td>14.9569</td>\n",
       "      <td>0.0</td>\n",
       "      <td>1015.94</td>\n",
       "      <td>Partly cloudy throughout the day.</td>\n",
       "    </tr>\n",
       "    <tr>\n",
       "      <th>3</th>\n",
       "      <td>2006-04-01 03:00:00.000 +0200</td>\n",
       "      <td>Partly Cloudy</td>\n",
       "      <td>rain</td>\n",
       "      <td>8.288889</td>\n",
       "      <td>5.944444</td>\n",
       "      <td>0.83</td>\n",
       "      <td>14.1036</td>\n",
       "      <td>269.0</td>\n",
       "      <td>15.8263</td>\n",
       "      <td>0.0</td>\n",
       "      <td>1016.41</td>\n",
       "      <td>Partly cloudy throughout the day.</td>\n",
       "    </tr>\n",
       "    <tr>\n",
       "      <th>4</th>\n",
       "      <td>2006-04-01 04:00:00.000 +0200</td>\n",
       "      <td>Mostly Cloudy</td>\n",
       "      <td>rain</td>\n",
       "      <td>8.755556</td>\n",
       "      <td>6.977778</td>\n",
       "      <td>0.83</td>\n",
       "      <td>11.0446</td>\n",
       "      <td>259.0</td>\n",
       "      <td>15.8263</td>\n",
       "      <td>0.0</td>\n",
       "      <td>1016.51</td>\n",
       "      <td>Partly cloudy throughout the day.</td>\n",
       "    </tr>\n",
       "  </tbody>\n",
       "</table>\n",
       "</div>"
      ],
      "text/plain": [
       "                  Formatted Date        Summary Precip Type  Temperature (C)  \\\n",
       "0  2006-04-01 00:00:00.000 +0200  Partly Cloudy        rain         9.472222   \n",
       "1  2006-04-01 01:00:00.000 +0200  Partly Cloudy        rain         9.355556   \n",
       "2  2006-04-01 02:00:00.000 +0200  Mostly Cloudy        rain         9.377778   \n",
       "3  2006-04-01 03:00:00.000 +0200  Partly Cloudy        rain         8.288889   \n",
       "4  2006-04-01 04:00:00.000 +0200  Mostly Cloudy        rain         8.755556   \n",
       "\n",
       "   Apparent Temperature (C)  Humidity  Wind Speed (km/h)  \\\n",
       "0                  7.388889      0.89            14.1197   \n",
       "1                  7.227778      0.86            14.2646   \n",
       "2                  9.377778      0.89             3.9284   \n",
       "3                  5.944444      0.83            14.1036   \n",
       "4                  6.977778      0.83            11.0446   \n",
       "\n",
       "   Wind Bearing (degrees)  Visibility (km)  Loud Cover  Pressure (millibars)  \\\n",
       "0                   251.0          15.8263         0.0               1015.13   \n",
       "1                   259.0          15.8263         0.0               1015.63   \n",
       "2                   204.0          14.9569         0.0               1015.94   \n",
       "3                   269.0          15.8263         0.0               1016.41   \n",
       "4                   259.0          15.8263         0.0               1016.51   \n",
       "\n",
       "                       Daily Summary  \n",
       "0  Partly cloudy throughout the day.  \n",
       "1  Partly cloudy throughout the day.  \n",
       "2  Partly cloudy throughout the day.  \n",
       "3  Partly cloudy throughout the day.  \n",
       "4  Partly cloudy throughout the day.  "
      ]
     },
     "execution_count": 8,
     "metadata": {},
     "output_type": "execute_result"
    }
   ],
   "source": [
    "dataframe = pd.read_csv('weatherHistory.csv')\n",
    "dataframe.head()"
   ]
  },
  {
   "cell_type": "code",
   "execution_count": 9,
   "metadata": {},
   "outputs": [
    {
     "data": {
      "text/html": [
       "<div>\n",
       "<style scoped>\n",
       "    .dataframe tbody tr th:only-of-type {\n",
       "        vertical-align: middle;\n",
       "    }\n",
       "\n",
       "    .dataframe tbody tr th {\n",
       "        vertical-align: top;\n",
       "    }\n",
       "\n",
       "    .dataframe thead th {\n",
       "        text-align: right;\n",
       "    }\n",
       "</style>\n",
       "<table border=\"1\" class=\"dataframe\">\n",
       "  <thead>\n",
       "    <tr style=\"text-align: right;\">\n",
       "      <th></th>\n",
       "      <th>Temperature (C)</th>\n",
       "      <th>Apparent Temperature (C)</th>\n",
       "      <th>Humidity</th>\n",
       "      <th>Wind Speed (km/h)</th>\n",
       "      <th>Wind Bearing (degrees)</th>\n",
       "      <th>Visibility (km)</th>\n",
       "      <th>Pressure (millibars)</th>\n",
       "    </tr>\n",
       "  </thead>\n",
       "  <tbody>\n",
       "    <tr>\n",
       "      <th>0</th>\n",
       "      <td>9.472222</td>\n",
       "      <td>7.388889</td>\n",
       "      <td>0.89</td>\n",
       "      <td>14.1197</td>\n",
       "      <td>251.0</td>\n",
       "      <td>15.8263</td>\n",
       "      <td>1015.13</td>\n",
       "    </tr>\n",
       "    <tr>\n",
       "      <th>1</th>\n",
       "      <td>9.355556</td>\n",
       "      <td>7.227778</td>\n",
       "      <td>0.86</td>\n",
       "      <td>14.2646</td>\n",
       "      <td>259.0</td>\n",
       "      <td>15.8263</td>\n",
       "      <td>1015.63</td>\n",
       "    </tr>\n",
       "    <tr>\n",
       "      <th>2</th>\n",
       "      <td>9.377778</td>\n",
       "      <td>9.377778</td>\n",
       "      <td>0.89</td>\n",
       "      <td>3.9284</td>\n",
       "      <td>204.0</td>\n",
       "      <td>14.9569</td>\n",
       "      <td>1015.94</td>\n",
       "    </tr>\n",
       "    <tr>\n",
       "      <th>3</th>\n",
       "      <td>8.288889</td>\n",
       "      <td>5.944444</td>\n",
       "      <td>0.83</td>\n",
       "      <td>14.1036</td>\n",
       "      <td>269.0</td>\n",
       "      <td>15.8263</td>\n",
       "      <td>1016.41</td>\n",
       "    </tr>\n",
       "    <tr>\n",
       "      <th>4</th>\n",
       "      <td>8.755556</td>\n",
       "      <td>6.977778</td>\n",
       "      <td>0.83</td>\n",
       "      <td>11.0446</td>\n",
       "      <td>259.0</td>\n",
       "      <td>15.8263</td>\n",
       "      <td>1016.51</td>\n",
       "    </tr>\n",
       "  </tbody>\n",
       "</table>\n",
       "</div>"
      ],
      "text/plain": [
       "   Temperature (C)  Apparent Temperature (C)  Humidity  Wind Speed (km/h)  \\\n",
       "0         9.472222                  7.388889      0.89            14.1197   \n",
       "1         9.355556                  7.227778      0.86            14.2646   \n",
       "2         9.377778                  9.377778      0.89             3.9284   \n",
       "3         8.288889                  5.944444      0.83            14.1036   \n",
       "4         8.755556                  6.977778      0.83            11.0446   \n",
       "\n",
       "   Wind Bearing (degrees)  Visibility (km)  Pressure (millibars)  \n",
       "0                   251.0          15.8263               1015.13  \n",
       "1                   259.0          15.8263               1015.63  \n",
       "2                   204.0          14.9569               1015.94  \n",
       "3                   269.0          15.8263               1016.41  \n",
       "4                   259.0          15.8263               1016.51  "
      ]
     },
     "execution_count": 9,
     "metadata": {},
     "output_type": "execute_result"
    }
   ],
   "source": [
    "dataframe = dataframe.drop(['Formatted Date', 'Summary', 'Precip Type', 'Loud Cover', 'Daily Summary'], axis=1)\n",
    "dataframe.head()"
   ]
  },
  {
   "cell_type": "code",
   "execution_count": 10,
   "metadata": {},
   "outputs": [],
   "source": [
    "new_columns = {'Temperature (C)':'x1', 'Apparent Temperature (C)':'y', 'Humidity':'x2', 'Wind Speed (km/h)':'x3',\n",
    "          'Wind Bearing (degrees)':'x4', 'Visibility (km)':'x5', 'Pressure (millibars)':'x6'}"
   ]
  },
  {
   "cell_type": "code",
   "execution_count": 11,
   "metadata": {},
   "outputs": [],
   "source": [
    "dataframe.rename(columns=new_columns, inplace=True)"
   ]
  },
  {
   "cell_type": "code",
   "execution_count": 12,
   "metadata": {
    "scrolled": true
   },
   "outputs": [
    {
     "data": {
      "text/html": [
       "<div>\n",
       "<style scoped>\n",
       "    .dataframe tbody tr th:only-of-type {\n",
       "        vertical-align: middle;\n",
       "    }\n",
       "\n",
       "    .dataframe tbody tr th {\n",
       "        vertical-align: top;\n",
       "    }\n",
       "\n",
       "    .dataframe thead th {\n",
       "        text-align: right;\n",
       "    }\n",
       "</style>\n",
       "<table border=\"1\" class=\"dataframe\">\n",
       "  <thead>\n",
       "    <tr style=\"text-align: right;\">\n",
       "      <th></th>\n",
       "      <th>count</th>\n",
       "      <th>mean</th>\n",
       "      <th>std</th>\n",
       "      <th>min</th>\n",
       "      <th>25%</th>\n",
       "      <th>50%</th>\n",
       "      <th>75%</th>\n",
       "      <th>max</th>\n",
       "    </tr>\n",
       "  </thead>\n",
       "  <tbody>\n",
       "    <tr>\n",
       "      <th>x1</th>\n",
       "      <td>96453.0</td>\n",
       "      <td>11.932678</td>\n",
       "      <td>9.551546</td>\n",
       "      <td>-21.822222</td>\n",
       "      <td>4.688889</td>\n",
       "      <td>12.0000</td>\n",
       "      <td>18.838889</td>\n",
       "      <td>39.905556</td>\n",
       "    </tr>\n",
       "    <tr>\n",
       "      <th>y</th>\n",
       "      <td>96453.0</td>\n",
       "      <td>10.855029</td>\n",
       "      <td>10.696847</td>\n",
       "      <td>-27.716667</td>\n",
       "      <td>2.311111</td>\n",
       "      <td>12.0000</td>\n",
       "      <td>18.838889</td>\n",
       "      <td>39.344444</td>\n",
       "    </tr>\n",
       "    <tr>\n",
       "      <th>x2</th>\n",
       "      <td>96453.0</td>\n",
       "      <td>0.734899</td>\n",
       "      <td>0.195473</td>\n",
       "      <td>0.000000</td>\n",
       "      <td>0.600000</td>\n",
       "      <td>0.7800</td>\n",
       "      <td>0.890000</td>\n",
       "      <td>1.000000</td>\n",
       "    </tr>\n",
       "    <tr>\n",
       "      <th>x3</th>\n",
       "      <td>96453.0</td>\n",
       "      <td>10.810640</td>\n",
       "      <td>6.913571</td>\n",
       "      <td>0.000000</td>\n",
       "      <td>5.828200</td>\n",
       "      <td>9.9659</td>\n",
       "      <td>14.135800</td>\n",
       "      <td>63.852600</td>\n",
       "    </tr>\n",
       "    <tr>\n",
       "      <th>x4</th>\n",
       "      <td>96453.0</td>\n",
       "      <td>187.509232</td>\n",
       "      <td>107.383428</td>\n",
       "      <td>0.000000</td>\n",
       "      <td>116.000000</td>\n",
       "      <td>180.0000</td>\n",
       "      <td>290.000000</td>\n",
       "      <td>359.000000</td>\n",
       "    </tr>\n",
       "    <tr>\n",
       "      <th>x5</th>\n",
       "      <td>96453.0</td>\n",
       "      <td>10.347325</td>\n",
       "      <td>4.192123</td>\n",
       "      <td>0.000000</td>\n",
       "      <td>8.339800</td>\n",
       "      <td>10.0464</td>\n",
       "      <td>14.812000</td>\n",
       "      <td>16.100000</td>\n",
       "    </tr>\n",
       "    <tr>\n",
       "      <th>x6</th>\n",
       "      <td>96453.0</td>\n",
       "      <td>1003.235956</td>\n",
       "      <td>116.969906</td>\n",
       "      <td>0.000000</td>\n",
       "      <td>1011.900000</td>\n",
       "      <td>1016.4500</td>\n",
       "      <td>1021.090000</td>\n",
       "      <td>1046.380000</td>\n",
       "    </tr>\n",
       "  </tbody>\n",
       "</table>\n",
       "</div>"
      ],
      "text/plain": [
       "      count         mean         std        min          25%        50%  \\\n",
       "x1  96453.0    11.932678    9.551546 -21.822222     4.688889    12.0000   \n",
       "y   96453.0    10.855029   10.696847 -27.716667     2.311111    12.0000   \n",
       "x2  96453.0     0.734899    0.195473   0.000000     0.600000     0.7800   \n",
       "x3  96453.0    10.810640    6.913571   0.000000     5.828200     9.9659   \n",
       "x4  96453.0   187.509232  107.383428   0.000000   116.000000   180.0000   \n",
       "x5  96453.0    10.347325    4.192123   0.000000     8.339800    10.0464   \n",
       "x6  96453.0  1003.235956  116.969906   0.000000  1011.900000  1016.4500   \n",
       "\n",
       "            75%          max  \n",
       "x1    18.838889    39.905556  \n",
       "y     18.838889    39.344444  \n",
       "x2     0.890000     1.000000  \n",
       "x3    14.135800    63.852600  \n",
       "x4   290.000000   359.000000  \n",
       "x5    14.812000    16.100000  \n",
       "x6  1021.090000  1046.380000  "
      ]
     },
     "execution_count": 12,
     "metadata": {},
     "output_type": "execute_result"
    }
   ],
   "source": [
    "dataframe.describe().T"
   ]
  },
  {
   "cell_type": "code",
   "execution_count": 2073,
   "metadata": {},
   "outputs": [
    {
     "data": {
      "text/plain": [
       "x1    0\n",
       "y     0\n",
       "x2    0\n",
       "x3    0\n",
       "x4    0\n",
       "x5    0\n",
       "x6    0\n",
       "dtype: int64"
      ]
     },
     "execution_count": 2073,
     "metadata": {},
     "output_type": "execute_result"
    }
   ],
   "source": [
    "dataframe.isna().sum()"
   ]
  },
  {
   "cell_type": "code",
   "execution_count": null,
   "metadata": {},
   "outputs": [],
   "source": []
  },
  {
   "cell_type": "code",
   "execution_count": 2074,
   "metadata": {},
   "outputs": [
    {
     "data": {
      "text/plain": [
       "<matplotlib.axes._subplots.AxesSubplot at 0x7fb1d54d6e48>"
      ]
     },
     "execution_count": 2074,
     "metadata": {},
     "output_type": "execute_result"
    },
    {
     "data": {
      "image/png": "[encoded data removed]",
      "text/plain": [
       "<Figure size 432x288 with 1 Axes>"
      ]
     },
     "metadata": {
      "needs_background": "light"
     },
     "output_type": "display_data"
    }
   ],
   "source": [
    "dataframe.boxplot()"
   ]
  },
  {
   "cell_type": "code",
   "execution_count": null,
   "metadata": {},
   "outputs": [],
   "source": []
  },
  {
   "cell_type": "code",
   "execution_count": 2075,
   "metadata": {
    "scrolled": true
   },
   "outputs": [],
   "source": [
    " dataframe=dataframe.head(500)"
   ]
  },
  {
   "cell_type": "code",
   "execution_count": 2076,
   "metadata": {},
   "outputs": [
    {
     "data": {
      "text/html": [
       "<div>\n",
       "<style scoped>\n",
       "    .dataframe tbody tr th:only-of-type {\n",
       "        vertical-align: middle;\n",
       "    }\n",
       "\n",
       "    .dataframe tbody tr th {\n",
       "        vertical-align: top;\n",
       "    }\n",
       "\n",
       "    .dataframe thead th {\n",
       "        text-align: right;\n",
       "    }\n",
       "</style>\n",
       "<table border=\"1\" class=\"dataframe\">\n",
       "  <thead>\n",
       "    <tr style=\"text-align: right;\">\n",
       "      <th></th>\n",
       "      <th>count</th>\n",
       "      <th>mean</th>\n",
       "      <th>std</th>\n",
       "      <th>min</th>\n",
       "      <th>25%</th>\n",
       "      <th>50%</th>\n",
       "      <th>75%</th>\n",
       "      <th>max</th>\n",
       "    </tr>\n",
       "  </thead>\n",
       "  <tbody>\n",
       "    <tr>\n",
       "      <th>x1</th>\n",
       "      <td>500.0</td>\n",
       "      <td>13.687300</td>\n",
       "      <td>4.558239</td>\n",
       "      <td>3.722222</td>\n",
       "      <td>10.15000</td>\n",
       "      <td>13.022222</td>\n",
       "      <td>17.244444</td>\n",
       "      <td>25.044444</td>\n",
       "    </tr>\n",
       "    <tr>\n",
       "      <th>y</th>\n",
       "      <td>500.0</td>\n",
       "      <td>13.300889</td>\n",
       "      <td>5.129404</td>\n",
       "      <td>1.494444</td>\n",
       "      <td>10.15000</td>\n",
       "      <td>13.022222</td>\n",
       "      <td>17.244444</td>\n",
       "      <td>25.044444</td>\n",
       "    </tr>\n",
       "    <tr>\n",
       "      <th>x2</th>\n",
       "      <td>500.0</td>\n",
       "      <td>0.742740</td>\n",
       "      <td>0.167093</td>\n",
       "      <td>0.320000</td>\n",
       "      <td>0.62000</td>\n",
       "      <td>0.760000</td>\n",
       "      <td>0.890000</td>\n",
       "      <td>1.000000</td>\n",
       "    </tr>\n",
       "    <tr>\n",
       "      <th>x3</th>\n",
       "      <td>500.0</td>\n",
       "      <td>10.194134</td>\n",
       "      <td>6.764105</td>\n",
       "      <td>0.000000</td>\n",
       "      <td>4.78975</td>\n",
       "      <td>9.177000</td>\n",
       "      <td>14.063350</td>\n",
       "      <td>32.167800</td>\n",
       "    </tr>\n",
       "    <tr>\n",
       "      <th>x4</th>\n",
       "      <td>500.0</td>\n",
       "      <td>190.222000</td>\n",
       "      <td>103.717111</td>\n",
       "      <td>0.000000</td>\n",
       "      <td>132.75000</td>\n",
       "      <td>169.000000</td>\n",
       "      <td>289.000000</td>\n",
       "      <td>359.000000</td>\n",
       "    </tr>\n",
       "    <tr>\n",
       "      <th>x5</th>\n",
       "      <td>500.0</td>\n",
       "      <td>10.435118</td>\n",
       "      <td>3.708072</td>\n",
       "      <td>0.289800</td>\n",
       "      <td>9.98200</td>\n",
       "      <td>10.819200</td>\n",
       "      <td>11.447100</td>\n",
       "      <td>15.874600</td>\n",
       "    </tr>\n",
       "    <tr>\n",
       "      <th>x6</th>\n",
       "      <td>500.0</td>\n",
       "      <td>1013.524640</td>\n",
       "      <td>4.040835</td>\n",
       "      <td>1003.570000</td>\n",
       "      <td>1011.34500</td>\n",
       "      <td>1013.910000</td>\n",
       "      <td>1016.520000</td>\n",
       "      <td>1021.010000</td>\n",
       "    </tr>\n",
       "  </tbody>\n",
       "</table>\n",
       "</div>"
      ],
      "text/plain": [
       "    count         mean         std          min         25%          50%  \\\n",
       "x1  500.0    13.687300    4.558239     3.722222    10.15000    13.022222   \n",
       "y   500.0    13.300889    5.129404     1.494444    10.15000    13.022222   \n",
       "x2  500.0     0.742740    0.167093     0.320000     0.62000     0.760000   \n",
       "x3  500.0    10.194134    6.764105     0.000000     4.78975     9.177000   \n",
       "x4  500.0   190.222000  103.717111     0.000000   132.75000   169.000000   \n",
       "x5  500.0    10.435118    3.708072     0.289800     9.98200    10.819200   \n",
       "x6  500.0  1013.524640    4.040835  1003.570000  1011.34500  1013.910000   \n",
       "\n",
       "            75%          max  \n",
       "x1    17.244444    25.044444  \n",
       "y     17.244444    25.044444  \n",
       "x2     0.890000     1.000000  \n",
       "x3    14.063350    32.167800  \n",
       "x4   289.000000   359.000000  \n",
       "x5    11.447100    15.874600  \n",
       "x6  1016.520000  1021.010000  "
      ]
     },
     "execution_count": 2076,
     "metadata": {},
     "output_type": "execute_result"
    }
   ],
   "source": [
    "dataframe.describe().T"
   ]
  },
  {
   "cell_type": "code",
   "execution_count": 2077,
   "metadata": {},
   "outputs": [
    {
     "data": {
      "text/plain": [
       "<matplotlib.axes._subplots.AxesSubplot at 0x7fb1d4368be0>"
      ]
     },
     "execution_count": 2077,
     "metadata": {},
     "output_type": "execute_result"
    },
    {
     "data": {
      "image/png": "[encoded data removed]",
      "text/plain": [
       "<Figure size 432x288 with 1 Axes>"
      ]
     },
     "metadata": {
      "needs_background": "light"
     },
     "output_type": "display_data"
    }
   ],
   "source": [
    "dataframe.boxplot()\n"
   ]
  },
  {
   "cell_type": "code",
   "execution_count": 17,
   "metadata": {},
   "outputs": [],
   "source": [
    "# Separating the output and the parameters data frame\n",
    "def separate(dataframe):\n",
    "    output = dataframe.y\n",
    "    return dataframe.drop('y', axis=1), output"
   ]
  },
  {
   "cell_type": "code",
   "execution_count": 18,
   "metadata": {},
   "outputs": [],
   "source": [
    "# dataframe = dataframe[(dataframe >= dataframe.quantile(0.25)) & (dataframe<dataframe.quantile(0.75))]\n",
    "# fucntion to get \n",
    "def remove_outlier(dataframe):\n",
    "    dataframe = dataframe[np.abs(dataframe - dataframe.mean()) <= (3 * dataframe.std())]\n",
    "    return dataframe"
   ]
  },
  {
   "cell_type": "code",
   "execution_count": 19,
   "metadata": {},
   "outputs": [],
   "source": [
    "def split(dataframe):\n",
    "    test_data = dataframe.tail(30).reset_index(drop=True)\n",
    "    return dataframe.head(len(dataframe)-30), test_data"
   ]
  },
  {
   "cell_type": "code",
   "execution_count": 20,
   "metadata": {},
   "outputs": [],
   "source": [
    "# using min max\n",
    "def feature_scaling_column(dataframe, column_scaling):\n",
    "    mean_of_col = dataframe[column_scaling].mean()\n",
    "    std_of_col = dataframe[column_scaling].std()\n",
    "    print('for col= {} mean= {} and std={} '.format(column_scaling,mean_of_col,std_of_col))\n",
    "    for counter in range(0, len(dataframe)):\n",
    "        dataframe.loc[counter, column_scaling] =  ((dataframe.loc[counter, column_scaling] - mean_of_col) / std_of_col)\n",
    "    print(\"successfully scaled column \",column_scaling)\n",
    "    return dataframe"
   ]
  },
  {
   "cell_type": "code",
   "execution_count": 2082,
   "metadata": {},
   "outputs": [],
   "source": [
    "Ypred = pd.Series(np.zeros(len(dataframe)))\n"
   ]
  },
  {
   "cell_type": "code",
   "execution_count": 2083,
   "metadata": {},
   "outputs": [],
   "source": [
    "dataframe = remove_outlier(dataframe)"
   ]
  },
  {
   "cell_type": "code",
   "execution_count": 2084,
   "metadata": {},
   "outputs": [
    {
     "data": {
      "text/plain": [
       "<matplotlib.axes._subplots.AxesSubplot at 0x7fb1d42a87f0>"
      ]
     },
     "execution_count": 2084,
     "metadata": {},
     "output_type": "execute_result"
    },
    {
     "data": {
      "image/png": "[encoded data removed]",
      "text/plain": [
       "<Figure size 432x288 with 1 Axes>"
      ]
     },
     "metadata": {
      "needs_background": "light"
     },
     "output_type": "display_data"
    }
   ],
   "source": [
    "dataframe.boxplot()"
   ]
  },
  {
   "cell_type": "code",
   "execution_count": 2085,
   "metadata": {},
   "outputs": [
    {
     "data": {
      "text/plain": [
       "x1    0\n",
       "y     0\n",
       "x2    0\n",
       "x3    2\n",
       "x4    0\n",
       "x5    0\n",
       "x6    0\n",
       "dtype: int64"
      ]
     },
     "execution_count": 2085,
     "metadata": {},
     "output_type": "execute_result"
    }
   ],
   "source": [
    "dataframe.isna().sum()"
   ]
  },
  {
   "cell_type": "code",
   "execution_count": 16,
   "metadata": {},
   "outputs": [],
   "source": [
    "dataframe = dataframe.dropna()\n",
    "dataframe = dataframe.reset_index(drop=True)"
   ]
  },
  {
   "cell_type": "code",
   "execution_count": 2087,
   "metadata": {},
   "outputs": [],
   "source": [
    " dataframe=dataframe.head(500)"
   ]
  },
  {
   "cell_type": "code",
   "execution_count": 2088,
   "metadata": {},
   "outputs": [],
   "source": [
    "# fig = plt.figure()\n",
    "# fig, (ax0, ax1, ax2, ax3) = plt.subplots(nrows=4, ncols=1, figsize=(5, 10))\n",
    "# s = np.array(np.random.rand(20))\n",
    "# for i in range(20):\n",
    "#     ax1.scatter(i,s[i])\n",
    "\n",
    "# ax1.plot([0,3],[0,4])\n",
    "# plt.show()"
   ]
  },
  {
   "cell_type": "code",
   "execution_count": 2089,
   "metadata": {},
   "outputs": [],
   "source": [
    "class Multi_Linear_Regression():\n",
    "    \n",
    "    \n",
    "    def __init__(self):\n",
    "        self.learning_rate = 0.001\n",
    "        self.iteration = 10000\n",
    "        self.ncols=6\n",
    "        self.fig = plt.figure()\n",
    "        self.fig, (self.ax1, self.ax2, self.ax3,self.ax4) = plt.subplots(nrows=4, ncols=1, figsize=(5, 10))\n",
    "        \n",
    "    def train(self, dataframe, output):\n",
    "        weights = np.full(self.ncols,1.0)\n",
    "        dframe_size = len(dataframe)\n",
    "        bais = 1.0\n",
    "\n",
    "        # Ypred = (dataframe.x1*weight1 + dataframe.x2*weight2 + dataframe.x3*weight3+ dataframe.x4*weight4 + dataframe.x5*weight5 + bais)\n",
    "        \n",
    "        self.ax1.scatter(np.linspace(np.min(output),np.max(output),len(output)),output\n",
    "                         , marker='+', color='g')\n",
    "        self.ax1.set_title('points scarttered')\n",
    "        \n",
    "        for iterations in range(0, self.iteration):\n",
    "            Ypred = self.classify(dataframe, weights,bais)\n",
    "            diff = Ypred-output\n",
    "            # cost = sum(y^ -y)**2)/2m\n",
    "            cost = np.sum((diff)**2)/(2*dframe_size)\n",
    "            if(iterations%100==0):\n",
    "                print('In training iteration: {}, cost {}, bais:{}, weights:{}'\n",
    "                      .format(iterations, cost,bais,weights))\n",
    "            if(Ypred.isna().sum()>=1 or output.isna().sum()>=1 or bais == (-np.inf)):\n",
    "                print('In training iteration: {}, Ypred.isna().sum(): {}, output.isna().sum(): {}, bais:{}, weights:{}'.format(iterations,Ypred.isna().sum(),output.isna().sum(),bais,weights))\n",
    "                print(Ypred)\n",
    "                return weights, bais\n",
    "            \n",
    "            if(iterations%10==0):\n",
    "                self.ax2.plot(iterations,cost, markersize=0.3, marker='x', color='r')\n",
    "                self.ax2.set_title('iteration vs cost')\n",
    "                self.ax3.plot(bais,cost, markersize=0.3, marker = '+', color='#42f48c')\n",
    "                self.ax3.set_title('bais vs cost')\n",
    "#             print('iteration {} diff{} '.format(iterations,np.sum(diff)))\n",
    "            for counter1 in range(0, self.ncols):\n",
    "                weights[counter1] -= self.learning_rate*(np.sum(np.multiply(\n",
    "                                                    diff,dataframe.iloc[:,counter1])))/dframe_size\n",
    "            bais -= self.learning_rate*(np.sum(diff)/dframe_size)\n",
    "            \n",
    "        return weights, bais\n",
    "        \n",
    "    def classify(self, dataframe, weights, bais):\n",
    "        Ypred = pd.Series(np.zeros(len(dataframe)))\n",
    "        dframe_size = len(dataframe)\n",
    "        for counter1 in range(0, dframe_size):\n",
    "            for counter2 in range(0, self.ncols):\n",
    "                Ypred[counter1] += weights[counter2]*dataframe.iloc[counter1, counter2]\n",
    "        Ypred = np.add(bais,Ypred)\n",
    "        return Ypred\n",
    "        \n",
    "    def accuracy(self,Ypred, y_output):\n",
    "        for counter in range(0, len(Ypred)):\n",
    "            Ypred[counter]= abs(Ypred[counter]-y_output[counter])/y_output[counter]\n",
    "#         Ypred = np.divide(abs(Ypred-y_output),y_output)\n",
    "        self.ax4.scatter(Ypred,y_output, marker='+',color='g')\n",
    "        plt.subplots_adjust(hspace=0.5, wspace = 0.5)\n",
    "        plt.show()\n",
    "        self.ax4.set_title(\"predicted values vs original output\")\n",
    "        error = abs(np.sum(Ypred))/len(Ypred)\n",
    "        return (1-error)*100\n",
    "                "
   ]
  },
  {
   "cell_type": "code",
   "execution_count": 24,
   "metadata": {},
   "outputs": [],
   "source": [
    "def main(dataframe, test_data):\n",
    "    dataframe, output = separate(dataframe)\n",
    "    regression_object = Multi_Linear_Regression()\n",
    "    # feature Scaling:\n",
    "    weights, bais = regression_object.train(dataframe,output)\n",
    "    print(weights,bais)\n",
    "    test_data, output = separate(test_data)\n",
    "    Ypred = regression_object.classify(test_data, weights, bais)\n",
    "    print(\"Accuracy = \", regression_object.accuracy(Ypred,output)) "
   ]
  },
  {
   "cell_type": "code",
   "execution_count": 2091,
   "metadata": {},
   "outputs": [],
   "source": [
    "# plt.plot(np.random.rand(20))"
   ]
  },
  {
   "cell_type": "code",
   "execution_count": 2092,
   "metadata": {},
   "outputs": [],
   "source": [
    "# np.add(4,dataframe)"
   ]
  },
  {
   "cell_type": "code",
   "execution_count": 21,
   "metadata": {},
   "outputs": [],
   "source": [
    "dataframe, test_data = split(dataframe)"
   ]
  },
  {
   "cell_type": "code",
   "execution_count": 2094,
   "metadata": {
    "scrolled": true
   },
   "outputs": [
    {
     "name": "stdout",
     "output_type": "stream",
     "text": [
      "for col= x1 mean= 13.484603513770182 and std=4.527030087168115 \n",
      "successfully scaled column  x1\n",
      "for col= y mean= 13.091203703703705 and std=5.088003798341913 \n",
      "successfully scaled column  y\n",
      "for col= x2 mean= 0.7453632478632478 and std=0.16719398680738062 \n",
      "successfully scaled column  x2\n",
      "for col= x3 mean= 10.023316452991454 and std=6.6892966861053065 \n",
      "successfully scaled column  x3\n",
      "for col= x4 mean= 193.29273504273505 and std=105.37191088945363 \n",
      "successfully scaled column  x4\n",
      "for col= x5 mean= 10.393306837606838 and std=3.8075887175830565 \n",
      "successfully scaled column  x5\n",
      "for col= x6 mean= 1013.7181623931625 and std=4.069368843321262 \n",
      "successfully scaled column  x6\n"
     ]
    }
   ],
   "source": [
    "for item in dataframe:\n",
    "    dataframe = feature_scaling_column(dataframe, item)"
   ]
  },
  {
   "cell_type": "code",
   "execution_count": 2095,
   "metadata": {},
   "outputs": [],
   "source": [
    "# from IPython.core.debugger import Tracer; Tracer()()\n",
    "# dataframe.isnan().sum()\n"
   ]
  },
  {
   "cell_type": "code",
   "execution_count": 2096,
   "metadata": {},
   "outputs": [
    {
     "name": "stdout",
     "output_type": "stream",
     "text": [
      "In training iteration: 0, cost 1.9863876722767322, bais:1.0, weights:[1. 1. 1. 1. 1. 1.]\n",
      "In training iteration: 100, cost 1.6749883500278433, bais:0.9047921471137114, weights:[1.05682282 0.95971921 0.94367396 0.9018112  0.93960496 0.97268453]\n",
      "In training iteration: 200, cost 1.4207691009907149, bais:0.8186488294786407, weights:[1.10480167 0.92489832 0.89255166 0.81406062 0.88234671 0.94297649]\n",
      "In training iteration: 300, cost 1.211757061793063, bais:0.740707032156106, weights:[1.14538024 0.8945001  0.84594212 0.73551868 0.8282652  0.91166042]\n",
      "In training iteration: 400, cost 1.0388177374678245, bais:0.6701859060067493, weights:[1.17975054 0.8676884  0.80325732 0.66512011 0.77734281 0.87936532]\n",
      "In training iteration: 500, cost 0.8949050266503571, bais:0.6063789448611955, weights:[1.20889814 0.84378973 0.76399649 0.60193933 0.72951927 0.84659262]\n",
      "In training iteration: 600, cost 0.7745265015901236, bais:0.5486469074855088, weights:[1.2336392  0.82226202 0.7277328  0.54516979 0.68470337 0.81373913]\n",
      "In training iteration: 700, cost 0.6733586077618317, bais:0.4964114134311123, weights:[1.25465076 0.80266933 0.69410209 0.4941067  0.64278221 0.78111605]\n",
      "In training iteration: 800, cost 0.5879669833088039, bais:0.4491491486100892, weights:[1.2724955  0.78466139 0.66279335 0.44813245 0.60362845 0.74896469]\n",
      "In training iteration: 900, cost 0.5156010426347223, bais:0.4063866225452192, weights:[1.28764203 0.76795697 0.63354059 0.40670439 0.56710582 0.71746938]\n",
      "In training iteration: 1000, cost 0.45404146359238134, bais:0.36769542477097933, weights:[1.30048156 0.75233048 0.60611605 0.3693445  0.53307352 0.68676812]\n",
      "In training iteration: 1100, cost 0.4014857045875736, bais:0.3326879328624237, weights:[1.3113414  0.7376011  0.58032438 0.33563059 0.50138944 0.65696137]\n",
      "In training iteration: 1200, cost 0.35646112645168093, bais:0.30101342909341544, weights:[1.32049623 0.72362401 0.55599772 0.30518893 0.47191264 0.62811931]\n",
      "In training iteration: 1300, cost 0.3177583580070535, bais:0.2723545868194935, weights:[1.32817719 0.71028331 0.53299158 0.27768792 0.44450518 0.60028774]\n",
      "In training iteration: 1400, cost 0.2843796653367932, bais:0.24642429138467836, weights:[1.33457936 0.69748625 0.51118128 0.25283268 0.4190334  0.57349299]\n",
      "In training iteration: 1500, cost 0.25549856149053635, bais:0.2229627637029189, weights:[1.33986798 0.68515869 0.49045897 0.23036046 0.39536887 0.54774593]\n",
      "In training iteration: 1600, cost 0.23042792811078772, bais:0.20173495769717203, weights:[1.34418347 0.67324129 0.47073114 0.21003672 0.37338894 0.52304525]\n",
      "In training iteration: 1700, cost 0.20859465076639047, bais:0.18252820552271895, weights:[1.34764564 0.66168662 0.45191645 0.19165165 0.35297716 0.49938013]\n",
      "In training iteration: 1800, cost 0.18951928932276316, bais:0.16515008698371467, weights:[1.35035703 0.65045668 0.43394389 0.17501732 0.33402341 0.47673247]\n",
      "In training iteration: 1900, cost 0.17279967750177375, bais:0.14942650179801215, weights:[1.35240582 0.63952098 0.4167513  0.1599651  0.31642395 0.45507863]\n",
      "In training iteration: 2000, cost 0.15809761582104423, bais:0.13519992539751516, weights:[1.35386812 0.62885501 0.40028401 0.14634347 0.30008133 0.43439089]\n",
      "In training iteration: 2100, cost 0.14512801962159785, bais:0.1223278307900323, weights:[1.3548099  0.61843899 0.3844938  0.13401608 0.28490428 0.41463864]\n",
      "In training iteration: 2200, cost 0.1336500298493445, bais:0.11068126067227696, weights:[1.35528855 0.60825688 0.36933789 0.12286013 0.27080748 0.3957893 ]\n",
      "In training iteration: 2300, cost 0.123459703237634, bais:0.1001435354889227, weights:[1.35535426 0.59829558 0.35477821 0.11276484 0.25771133 0.37780907]\n",
      "In training iteration: 2400, cost 0.11438398076310201, bais:0.09060908449458135, weights:[1.35505105 0.58854431 0.34078069 0.10363024 0.24554167 0.36066356]\n",
      "In training iteration: 2500, cost 0.10627569592233742, bais:0.08198238810786082, weights:[1.35441772 0.57899409 0.32731471 0.09536597 0.23422951 0.34431822]\n",
      "In training iteration: 2600, cost 0.09900943262467149, bais:0.0741770209616218, weights:[1.35348858 0.56963739 0.31435261 0.08789033 0.22371076 0.32873876]\n",
      "In training iteration: 2700, cost 0.09247807998738669, bais:0.06711478606236536, weights:[1.3522941  0.56046774 0.30186927 0.08112935 0.21392592 0.31389139]\n",
      "In training iteration: 2800, cost 0.08658996070804141, bais:0.06072493138444564, weights:[1.35086145 0.55147955 0.28984179 0.07501608 0.2048198  0.29974307]\n",
      "In training iteration: 2900, cost 0.08126643291172718, bais:0.054943441050666016, weights:[1.34921491 0.5426679  0.27824917 0.06948984 0.19634126 0.28626165]\n",
      "In training iteration: 3000, cost 0.07643988385694489, bais:0.049712393998048374, weights:[1.34737627 0.53402835 0.26707206 0.06449561 0.18844293 0.273416  ]\n",
      "In training iteration: 3100, cost 0.07205204869564098, bais:0.04497938370365762, weights:[1.34536515 0.52555688 0.25629258 0.05998349 0.18108097 0.26117611]\n",
      "In training iteration: 3200, cost 0.06805259942045226, bais:0.04069699315708448, weights:[1.34319925 0.51724975 0.24589408 0.05590819 0.17421481 0.24951307]\n",
      "In training iteration: 3300, cost 0.06439795880283838, bais:0.0368223198196711, weights:[1.34089459 0.50910346 0.23586106 0.05222863 0.16780693 0.23839919]\n",
      "In training iteration: 3400, cost 0.06105030199545593, bais:0.03331654581134858, weights:[1.33846569 0.50111468 0.22617897 0.04890748 0.16182266 0.22780793]\n",
      "In training iteration: 3500, cost 0.0579767149015635, bais:0.030144549019062973, weights:[1.33592576 0.49328022 0.21683414 0.04591086 0.15622993 0.21771397]\n",
      "In training iteration: 3600, cost 0.05514848368510016, bais:0.027274551230733045, weights:[1.33328685 0.48559699 0.20781369 0.043208   0.15099913 0.2080931 ]\n",
      "In training iteration: 3700, cost 0.05254049412907055, bais:0.024677799769618407, weights:[1.33055992 0.47806199 0.19910543 0.04077093 0.14610291 0.1989223 ]\n",
      "In training iteration: 3800, cost 0.05013072312282109, bais:0.02232827943959579, weights:[1.32775501 0.47067229 0.19069777 0.03857425 0.14151599 0.19017962]\n",
      "In training iteration: 3900, cost 0.04789980751104809, bais:0.020202451895507286, weights:[1.32488131 0.46342499 0.18257971 0.03659488 0.13721505 0.18184421]\n",
      "In training iteration: 4000, cost 0.04583067798163721, bais:0.018279019827497963, weights:[1.32194722 0.45631727 0.17474076 0.03481187 0.13317856 0.17389623]\n",
      "In training iteration: 4100, cost 0.04390824769666833, bais:0.01653871359685644, weights:[1.31896046 0.44934634 0.16717091 0.03320616 0.12938663 0.16631684]\n",
      "In training iteration: 4200, cost 0.04211914705490283, bais:0.014964098185798884, weights:[1.31592813 0.44250943 0.15986056 0.03176046 0.12582091 0.15908816]\n",
      "In training iteration: 4300, cost 0.04045149737487664, bais:0.013539398527149773, weights:[1.31285671 0.43580384 0.15280053 0.03045904 0.12246448 0.15219322]\n",
      "In training iteration: 4400, cost 0.038894717454436394, bais:0.012250341464008462, weights:[1.30975221 0.42922687 0.14598201 0.02928765 0.1193017  0.14561589]\n",
      "In training iteration: 4500, cost 0.03743935793541921, bais:0.011084012756096717, weights:[1.30662012 0.4227759  0.13939652 0.02823332 0.11631817 0.13934089]\n",
      "In training iteration: 4600, cost 0.0360769592142521, bais:0.010028727700224876, weights:[1.30346551 0.41644832 0.13303594 0.0272843  0.11350057 0.13335371]\n",
      "In training iteration: 4700, cost 0.03479992931778584, bais:0.00907391406870556, weights:[1.30029302 0.41024155 0.12689243 0.02642991 0.11083664 0.12764061]\n",
      "In training iteration: 4800, cost 0.033601438731160345, bais:0.008210006192949754, weights:[1.29710695 0.40415306 0.12095843 0.02566048 0.10831505 0.12218851]\n",
      "In training iteration: 4900, cost 0.0324753296395327, bais:0.007428349131136202, weights:[1.29391125 0.39818038 0.11522668 0.02496721 0.10592536 0.11698504]\n",
      "In training iteration: 5000, cost 0.03141603744348014, bais:0.006721111959871302, weights:[1.29070953 0.39232105 0.10969017 0.02434216 0.10365794 0.11201845]\n",
      "In training iteration: 5100, cost 0.030418522741602946, bais:0.006081209321163897, weights:[1.28750515 0.38657267 0.10434213 0.02377811 0.1015039  0.10727758]\n",
      "In training iteration: 5200, cost 0.029478212253905223, bais:0.005502230438744083, weights:[1.28430116 0.38093288 0.09917604 0.02326853 0.09945505 0.10275186]\n"
     ]
    },
    {
     "name": "stdout",
     "output_type": "stream",
     "text": [
      "In training iteration: 5300, cost 0.02859094739474422, bais:0.004978374892585953, weights:[1.2811004  0.37539936 0.09418559 0.02280752 0.09750382 0.09843122]\n",
      "In training iteration: 5400, cost 0.027752939401861916, bais:0.0045043945082000976, weights:[1.27790547 0.36996983 0.08936472 0.02238973 0.09564325 0.09430614]\n",
      "In training iteration: 5500, cost 0.02696073009435204, bais:0.004075540778521834, weights:[1.27471873 0.36464208 0.08470753 0.02201032 0.09386689 0.09036756]\n",
      "In training iteration: 5600, cost 0.026211157472480467, bais:0.0036875172916485018, weights:[1.27154238 0.35941391 0.08020837 0.02166493 0.09216883 0.08660686]\n",
      "In training iteration: 5700, cost 0.025501325490314024, bais:0.003336436687829818, weights:[1.26837842 0.35428319 0.07586176 0.02134961 0.09054357 0.08301588]\n",
      "In training iteration: 5800, cost 0.02482857743168221, bais:0.003018781714490727, weights:[1.26522869 0.34924782 0.0716624  0.02106082 0.08898609 0.07958684]\n",
      "In training iteration: 5900, cost 0.02419047240406023, bais:0.0027313699891218924, weights:[1.26209486 0.34430577 0.06760518 0.02079535 0.08749172 0.07631237]\n",
      "In training iteration: 6000, cost 0.023584764536006865, bais:0.0024713221170197582, weights:[1.25897847 0.33945502 0.06368517 0.02055032 0.08605617 0.07318543]\n",
      "In training iteration: 6100, cost 0.023009384523894203, bais:0.002236032844468109, weights:[1.25588092 0.33469363 0.0598976  0.02032313 0.08467547 0.07019934]\n",
      "In training iteration: 6200, cost 0.02246242322456225, bais:0.002023144958363271, weights:[1.25280349 0.33001968 0.05623787 0.02011147 0.08334597 0.06734776]\n",
      "In training iteration: 6300, cost 0.02194211703368278, bais:0.0018305256707999676, weights:[1.24974732 0.32543129 0.05270151 0.01991323 0.0820643  0.06462464]\n",
      "In training iteration: 6400, cost 0.021446834826241306, bais:0.0016562452520300463, weights:[1.24671348 0.32092665 0.04928424 0.01972656 0.08082735 0.06202421]\n",
      "In training iteration: 6500, cost 0.02097506626666785, bais:0.0014985576977313258, weights:[1.24370292 0.31650398 0.04598191 0.01954978 0.07963225 0.05954101]\n",
      "In training iteration: 6600, cost 0.02052541132262819, bais:0.0013558832369042705, weights:[1.24071649 0.31216153 0.0427905  0.0193814  0.07847635 0.05716981]\n",
      "In training iteration: 6700, cost 0.02009657083904756, bais:0.0012267925051542613, weights:[1.23775497 0.3078976  0.03970615 0.01922008 0.07735719 0.05490563]\n",
      "In training iteration: 6800, cost 0.019687338048185076, bais:0.0011099922248016842, weights:[1.23481905 0.30371054 0.03672512 0.01906465 0.07627253 0.05274376]\n",
      "In training iteration: 6900, cost 0.01929659090802307, bais:0.0010043122483579866, weights:[1.23190934 0.29959872 0.03384379 0.01891406 0.07522029 0.05067965]\n",
      "In training iteration: 7000, cost 0.018923285175303974, bais:0.0009086938355645614, weights:[1.22902641 0.29556057 0.03105869 0.01876738 0.07419853 0.04870902]\n",
      "In training iteration: 7100, cost 0.018566448131607342, bais:0.0008221790465495876, weights:[1.22617073 0.29159455 0.02836644 0.01862379 0.07320547 0.04682776]\n",
      "In training iteration: 7200, cost 0.0182251728912107, bais:0.0007439011448396343, weights:[1.22334273 0.28769916 0.02576381 0.01848257 0.07223949 0.04503195]\n",
      "In training iteration: 7300, cost 0.017898613228377273, bais:0.0006730759140799259, weights:[1.22054278 0.28387292 0.02324765 0.01834309 0.07129906 0.04331786]\n",
      "In training iteration: 7400, cost 0.017585978869382297, bais:0.0006089938014710201, weights:[1.2177712  0.2801144  0.02081494 0.0182048  0.07038278 0.04168191]\n",
      "In training iteration: 7500, cost 0.01728653120120462, bais:0.0005510128092120214, weights:[1.21502827 0.27642221 0.01846276 0.01806723 0.06948936 0.04012072]\n",
      "In training iteration: 7600, cost 0.016999579354531922, bais:0.0004985520627342141, weights:[1.21231421 0.27279498 0.01618828 0.01792996 0.06861759 0.03863102]\n",
      "In training iteration: 7700, cost 0.0167244766236831, bais:0.00045108599128936667, weights:[1.20962921 0.26923139 0.0139888  0.01779264 0.06776636 0.03720973]\n",
      "In training iteration: 7800, cost 0.01646061719035356, bais:0.0004081390625917264, weights:[1.20697342 0.26573014 0.01186168 0.01765497 0.06693467 0.03585386]\n",
      "In training iteration: 7900, cost 0.01620743312183057, bais:0.0003692810187634454, weights:[1.20434695 0.26228997 0.00980439 0.01751669 0.06612154 0.0345606 ]\n",
      "In training iteration: 8000, cost 0.015964391617587975, bais:0.0003341225658554128, weights:[1.20174989 0.25890963 0.00781449 0.0173776  0.06532611 0.03332724]\n",
      "In training iteration: 8100, cost 0.01573099248101859, bais:0.0003023114737595539, weights:[1.19918229 0.25558792 0.00588963 0.01723753 0.06454756 0.0321512 ]\n",
      "In training iteration: 8200, cost 0.015506765795555846, bais:0.00027352904744010637, weights:[1.19664417 0.25232367 0.00402751 0.01709633 0.06378513 0.03103   ]\n",
      "In training iteration: 8300, cost 0.015291269786625854, bais:0.00024748693413138856, weights:[1.19413553 0.24911573 0.00222596 0.0169539  0.06303813 0.02996128]\n",
      "In training iteration: 8400, cost 0.015084088852793965, bais:0.0002239242345154126, weights:[1.19165635e+00 2.45962979e-01 4.82858874e-04 1.68101479e-02\n",
      " 6.23058979e-02 2.89427910e-02]\n",
      "In training iteration: 8500, cost 0.01488483175116532, bais:0.00020260488893807522, weights:[ 1.18920657  0.24286432 -0.00120384  0.01666503  0.06158784  0.02797236]\n",
      "In training iteration: 8600, cost 0.014693129923597146, bais:0.00018331531247809486, weights:[ 1.18678613  0.2398187  -0.00283611  0.0165185   0.06088339  0.02704793]\n",
      "In training iteration: 8700, cost 0.014508635951604594, bais:0.00016586225517595162, weights:[ 1.18439494  0.23682506 -0.00441583  0.01637054  0.06019203  0.02616753]\n",
      "In training iteration: 8800, cost 0.01433102212901839, bais:0.00015007086598584497, weights:[ 1.1820329   0.2338824  -0.00594486  0.01622115  0.05951327  0.02532926]\n",
      "In training iteration: 8900, cost 0.014159979142497173, bais:0.0001357829410546177, weights:[ 1.17969989  0.23098971 -0.00742494  0.01607035  0.05884666  0.02453131]\n",
      "In training iteration: 9000, cost 0.013995214850928188, bais:0.00012285533877829142, weights:[ 1.17739577  0.22814603 -0.00885779  0.01591815  0.05819178  0.02377195]\n",
      "In training iteration: 9100, cost 0.01383645315558147, bais:0.00011115854575765967, weights:[ 1.17512038  0.22535041 -0.01024505  0.01576459  0.05754824  0.02304953]\n",
      "In training iteration: 9200, cost 0.01368343295362523, bais:0.00010057537928617552, weights:[ 1.17287358  0.22260192 -0.0115883   0.01560972  0.05691566  0.02236245]\n",
      "In training iteration: 9300, cost 0.013535907168277187, bais:9.099981337117754e-05, weights:[ 1.17065519  0.21989967 -0.01288907  0.01545359  0.05629371  0.02170921]\n",
      "In training iteration: 9400, cost 0.013393641849464033, bais:8.233591652711582e-05, weights:[ 1.16846502  0.21724277 -0.01414883  0.01529625  0.05568207  0.02108834]\n",
      "In training iteration: 9500, cost 0.01325641533939984, bais:7.449689069920409e-05, weights:[ 1.16630289  0.21463036 -0.015369    0.01513777  0.05508042  0.02049845]\n"
     ]
    },
    {
     "ename": "KeyboardInterrupt",
     "evalue": "",
     "output_type": "error",
     "traceback": [
      "\u001b[0;31m---------------------------------------------------------------------------\u001b[0m",
      "\u001b[0;31mKeyboardInterrupt\u001b[0m                         Traceback (most recent call last)",
      "\u001b[0;32m<ipython-input-2096-250f432bab72>\u001b[0m in \u001b[0;36m<module>\u001b[0;34m\u001b[0m\n\u001b[0;32m----> 1\u001b[0;31m \u001b[0mmain\u001b[0m\u001b[0;34m(\u001b[0m\u001b[0mdataframe\u001b[0m\u001b[0;34m,\u001b[0m\u001b[0mtest_data\u001b[0m\u001b[0;34m)\u001b[0m\u001b[0;34m\u001b[0m\u001b[0;34m\u001b[0m\u001b[0m\n\u001b[0m",
      "\u001b[0;32m<ipython-input-2090-0467fcb778c5>\u001b[0m in \u001b[0;36mmain\u001b[0;34m(dataframe, test_data)\u001b[0m\n\u001b[1;32m      3\u001b[0m     \u001b[0mregression_object\u001b[0m \u001b[0;34m=\u001b[0m \u001b[0mMulti_Linear_Regression\u001b[0m\u001b[0;34m(\u001b[0m\u001b[0;34m)\u001b[0m\u001b[0;34m\u001b[0m\u001b[0;34m\u001b[0m\u001b[0m\n\u001b[1;32m      4\u001b[0m     \u001b[0;31m# feature Scaling:\u001b[0m\u001b[0;34m\u001b[0m\u001b[0;34m\u001b[0m\u001b[0;34m\u001b[0m\u001b[0m\n\u001b[0;32m----> 5\u001b[0;31m     \u001b[0mweights\u001b[0m\u001b[0;34m,\u001b[0m \u001b[0mbais\u001b[0m \u001b[0;34m=\u001b[0m \u001b[0mregression_object\u001b[0m\u001b[0;34m.\u001b[0m\u001b[0mtrain\u001b[0m\u001b[0;34m(\u001b[0m\u001b[0mdataframe\u001b[0m\u001b[0;34m,\u001b[0m\u001b[0moutput\u001b[0m\u001b[0;34m)\u001b[0m\u001b[0;34m\u001b[0m\u001b[0;34m\u001b[0m\u001b[0m\n\u001b[0m\u001b[1;32m      6\u001b[0m     \u001b[0mprint\u001b[0m\u001b[0;34m(\u001b[0m\u001b[0mweights\u001b[0m\u001b[0;34m,\u001b[0m\u001b[0mbais\u001b[0m\u001b[0;34m)\u001b[0m\u001b[0;34m\u001b[0m\u001b[0;34m\u001b[0m\u001b[0m\n\u001b[1;32m      7\u001b[0m     \u001b[0mtest_data\u001b[0m\u001b[0;34m,\u001b[0m \u001b[0moutput\u001b[0m \u001b[0;34m=\u001b[0m \u001b[0mseparate\u001b[0m\u001b[0;34m(\u001b[0m\u001b[0mtest_data\u001b[0m\u001b[0;34m)\u001b[0m\u001b[0;34m\u001b[0m\u001b[0;34m\u001b[0m\u001b[0m\n",
      "\u001b[0;32m<ipython-input-2089-d4f16f7d7a06>\u001b[0m in \u001b[0;36mtrain\u001b[0;34m(self, dataframe, output)\u001b[0m\n\u001b[1;32m     21\u001b[0m \u001b[0;34m\u001b[0m\u001b[0m\n\u001b[1;32m     22\u001b[0m         \u001b[0;32mfor\u001b[0m \u001b[0miterations\u001b[0m \u001b[0;32min\u001b[0m \u001b[0mrange\u001b[0m\u001b[0;34m(\u001b[0m\u001b[0;36m0\u001b[0m\u001b[0;34m,\u001b[0m \u001b[0mself\u001b[0m\u001b[0;34m.\u001b[0m\u001b[0miteration\u001b[0m\u001b[0;34m)\u001b[0m\u001b[0;34m:\u001b[0m\u001b[0;34m\u001b[0m\u001b[0;34m\u001b[0m\u001b[0m\n\u001b[0;32m---> 23\u001b[0;31m             \u001b[0mYpred\u001b[0m \u001b[0;34m=\u001b[0m \u001b[0mself\u001b[0m\u001b[0;34m.\u001b[0m\u001b[0mclassify\u001b[0m\u001b[0;34m(\u001b[0m\u001b[0mdataframe\u001b[0m\u001b[0;34m,\u001b[0m \u001b[0mweights\u001b[0m\u001b[0;34m,\u001b[0m\u001b[0mbais\u001b[0m\u001b[0;34m)\u001b[0m\u001b[0;34m\u001b[0m\u001b[0;34m\u001b[0m\u001b[0m\n\u001b[0m\u001b[1;32m     24\u001b[0m             \u001b[0mdiff\u001b[0m \u001b[0;34m=\u001b[0m \u001b[0mYpred\u001b[0m\u001b[0;34m-\u001b[0m\u001b[0moutput\u001b[0m\u001b[0;34m\u001b[0m\u001b[0;34m\u001b[0m\u001b[0m\n\u001b[1;32m     25\u001b[0m             \u001b[0;31m# cost = sum(y^ -y)**2)/2m\u001b[0m\u001b[0;34m\u001b[0m\u001b[0;34m\u001b[0m\u001b[0;34m\u001b[0m\u001b[0m\n",
      "\u001b[0;32m<ipython-input-2089-d4f16f7d7a06>\u001b[0m in \u001b[0;36mclassify\u001b[0;34m(self, dataframe, weights, bais)\u001b[0m\n\u001b[1;32m     50\u001b[0m         \u001b[0;32mfor\u001b[0m \u001b[0mcounter1\u001b[0m \u001b[0;32min\u001b[0m \u001b[0mrange\u001b[0m\u001b[0;34m(\u001b[0m\u001b[0;36m0\u001b[0m\u001b[0;34m,\u001b[0m \u001b[0mdframe_size\u001b[0m\u001b[0;34m)\u001b[0m\u001b[0;34m:\u001b[0m\u001b[0;34m\u001b[0m\u001b[0;34m\u001b[0m\u001b[0m\n\u001b[1;32m     51\u001b[0m             \u001b[0;32mfor\u001b[0m \u001b[0mcounter2\u001b[0m \u001b[0;32min\u001b[0m \u001b[0mrange\u001b[0m\u001b[0;34m(\u001b[0m\u001b[0;36m0\u001b[0m\u001b[0;34m,\u001b[0m \u001b[0mself\u001b[0m\u001b[0;34m.\u001b[0m\u001b[0mncols\u001b[0m\u001b[0;34m)\u001b[0m\u001b[0;34m:\u001b[0m\u001b[0;34m\u001b[0m\u001b[0;34m\u001b[0m\u001b[0m\n\u001b[0;32m---> 52\u001b[0;31m                 \u001b[0mYpred\u001b[0m\u001b[0;34m[\u001b[0m\u001b[0mcounter1\u001b[0m\u001b[0;34m]\u001b[0m \u001b[0;34m+=\u001b[0m \u001b[0mweights\u001b[0m\u001b[0;34m[\u001b[0m\u001b[0mcounter2\u001b[0m\u001b[0;34m]\u001b[0m\u001b[0;34m*\u001b[0m\u001b[0mdataframe\u001b[0m\u001b[0;34m.\u001b[0m\u001b[0miloc\u001b[0m\u001b[0;34m[\u001b[0m\u001b[0mcounter1\u001b[0m\u001b[0;34m,\u001b[0m \u001b[0mcounter2\u001b[0m\u001b[0;34m]\u001b[0m\u001b[0;34m\u001b[0m\u001b[0;34m\u001b[0m\u001b[0m\n\u001b[0m\u001b[1;32m     53\u001b[0m         \u001b[0mYpred\u001b[0m \u001b[0;34m=\u001b[0m \u001b[0mnp\u001b[0m\u001b[0;34m.\u001b[0m\u001b[0madd\u001b[0m\u001b[0;34m(\u001b[0m\u001b[0mbais\u001b[0m\u001b[0;34m,\u001b[0m\u001b[0mYpred\u001b[0m\u001b[0;34m)\u001b[0m\u001b[0;34m\u001b[0m\u001b[0;34m\u001b[0m\u001b[0m\n\u001b[1;32m     54\u001b[0m         \u001b[0;32mreturn\u001b[0m \u001b[0mYpred\u001b[0m\u001b[0;34m\u001b[0m\u001b[0;34m\u001b[0m\u001b[0m\n",
      "\u001b[0;32m~/.local/lib/python3.6/site-packages/pandas/core/indexing.py\u001b[0m in \u001b[0;36m__getitem__\u001b[0;34m(self, key)\u001b[0m\n\u001b[1;32m   1488\u001b[0m                         for x in key)\n\u001b[1;32m   1489\u001b[0m             \u001b[0;32mtry\u001b[0m\u001b[0;34m:\u001b[0m\u001b[0;34m\u001b[0m\u001b[0;34m\u001b[0m\u001b[0m\n\u001b[0;32m-> 1490\u001b[0;31m                 \u001b[0;32mif\u001b[0m \u001b[0mself\u001b[0m\u001b[0;34m.\u001b[0m\u001b[0m_is_scalar_access\u001b[0m\u001b[0;34m(\u001b[0m\u001b[0mkey\u001b[0m\u001b[0;34m)\u001b[0m\u001b[0;34m:\u001b[0m\u001b[0;34m\u001b[0m\u001b[0;34m\u001b[0m\u001b[0m\n\u001b[0m\u001b[1;32m   1491\u001b[0m                     \u001b[0;32mreturn\u001b[0m \u001b[0mself\u001b[0m\u001b[0;34m.\u001b[0m\u001b[0m_getitem_scalar\u001b[0m\u001b[0;34m(\u001b[0m\u001b[0mkey\u001b[0m\u001b[0;34m)\u001b[0m\u001b[0;34m\u001b[0m\u001b[0;34m\u001b[0m\u001b[0m\n\u001b[1;32m   1492\u001b[0m             \u001b[0;32mexcept\u001b[0m \u001b[0;34m(\u001b[0m\u001b[0mKeyError\u001b[0m\u001b[0;34m,\u001b[0m \u001b[0mIndexError\u001b[0m\u001b[0;34m,\u001b[0m \u001b[0mAttributeError\u001b[0m\u001b[0;34m)\u001b[0m\u001b[0;34m:\u001b[0m\u001b[0;34m\u001b[0m\u001b[0;34m\u001b[0m\u001b[0m\n",
      "\u001b[0;32m~/.local/lib/python3.6/site-packages/pandas/core/indexing.py\u001b[0m in \u001b[0;36m_is_scalar_access\u001b[0;34m(self, key)\u001b[0m\n\u001b[1;32m   2099\u001b[0m \u001b[0;34m\u001b[0m\u001b[0m\n\u001b[1;32m   2100\u001b[0m         \u001b[0;32mfor\u001b[0m \u001b[0mi\u001b[0m\u001b[0;34m,\u001b[0m \u001b[0mk\u001b[0m \u001b[0;32min\u001b[0m \u001b[0menumerate\u001b[0m\u001b[0;34m(\u001b[0m\u001b[0mkey\u001b[0m\u001b[0;34m)\u001b[0m\u001b[0;34m:\u001b[0m\u001b[0;34m\u001b[0m\u001b[0;34m\u001b[0m\u001b[0m\n\u001b[0;32m-> 2101\u001b[0;31m             \u001b[0;32mif\u001b[0m \u001b[0;32mnot\u001b[0m \u001b[0mis_integer\u001b[0m\u001b[0;34m(\u001b[0m\u001b[0mk\u001b[0m\u001b[0;34m)\u001b[0m\u001b[0;34m:\u001b[0m\u001b[0;34m\u001b[0m\u001b[0;34m\u001b[0m\u001b[0m\n\u001b[0m\u001b[1;32m   2102\u001b[0m                 \u001b[0;32mreturn\u001b[0m \u001b[0;32mFalse\u001b[0m\u001b[0;34m\u001b[0m\u001b[0;34m\u001b[0m\u001b[0m\n\u001b[1;32m   2103\u001b[0m \u001b[0;34m\u001b[0m\u001b[0m\n",
      "\u001b[0;31mKeyboardInterrupt\u001b[0m: "
     ]
    },
    {
     "data": {
      "text/plain": [
       "<Figure size 432x288 with 0 Axes>"
      ]
     },
     "metadata": {},
     "output_type": "display_data"
    },
    {
     "data": {
      "image/png": "[encoded data removed]",
      "text/plain": [
       "<Figure size 360x720 with 4 Axes>"
      ]
     },
     "metadata": {
      "needs_background": "light"
     },
     "output_type": "display_data"
    }
   ],
   "source": [
    "main(dataframe,test_data)"
   ]
  },
  {
   "cell_type": "code",
   "execution_count": null,
   "metadata": {},
   "outputs": [],
   "source": [
    "yd = pd.Series(dataframe.x1)"
   ]
  },
  {
   "cell_type": "code",
   "execution_count": null,
   "metadata": {},
   "outputs": [],
   "source": []
  },
  {
   "cell_type": "code",
   "execution_count": null,
   "metadata": {},
   "outputs": [],
   "source": [
    "yd.head()"
   ]
  },
  {
   "cell_type": "code",
   "execution_count": 2099,
   "metadata": {},
   "outputs": [
    {
     "data": {
      "text/html": [
       "<div>\n",
       "<style scoped>\n",
       "    .dataframe tbody tr th:only-of-type {\n",
       "        vertical-align: middle;\n",
       "    }\n",
       "\n",
       "    .dataframe tbody tr th {\n",
       "        vertical-align: top;\n",
       "    }\n",
       "\n",
       "    .dataframe thead th {\n",
       "        text-align: right;\n",
       "    }\n",
       "</style>\n",
       "<table border=\"1\" class=\"dataframe\">\n",
       "  <thead>\n",
       "    <tr style=\"text-align: right;\">\n",
       "      <th></th>\n",
       "      <th>Temperature (C)</th>\n",
       "      <th>Apparent Temperature (C)</th>\n",
       "      <th>Humidity</th>\n",
       "      <th>Wind Speed (km/h)</th>\n",
       "      <th>Wind Bearing (degrees)</th>\n",
       "      <th>Visibility (km)</th>\n",
       "      <th>Pressure (millibars)</th>\n",
       "    </tr>\n",
       "  </thead>\n",
       "  <tbody>\n",
       "    <tr>\n",
       "      <th>0</th>\n",
       "      <td>9.472222</td>\n",
       "      <td>7.388889</td>\n",
       "      <td>0.89</td>\n",
       "      <td>14.1197</td>\n",
       "      <td>251.0</td>\n",
       "      <td>15.8263</td>\n",
       "      <td>1015.13</td>\n",
       "    </tr>\n",
       "    <tr>\n",
       "      <th>1</th>\n",
       "      <td>9.355556</td>\n",
       "      <td>7.227778</td>\n",
       "      <td>0.86</td>\n",
       "      <td>14.2646</td>\n",
       "      <td>259.0</td>\n",
       "      <td>15.8263</td>\n",
       "      <td>1015.63</td>\n",
       "    </tr>\n",
       "    <tr>\n",
       "      <th>2</th>\n",
       "      <td>9.377778</td>\n",
       "      <td>9.377778</td>\n",
       "      <td>0.89</td>\n",
       "      <td>3.9284</td>\n",
       "      <td>204.0</td>\n",
       "      <td>14.9569</td>\n",
       "      <td>1015.94</td>\n",
       "    </tr>\n",
       "    <tr>\n",
       "      <th>3</th>\n",
       "      <td>8.288889</td>\n",
       "      <td>5.944444</td>\n",
       "      <td>0.83</td>\n",
       "      <td>14.1036</td>\n",
       "      <td>269.0</td>\n",
       "      <td>15.8263</td>\n",
       "      <td>1016.41</td>\n",
       "    </tr>\n",
       "    <tr>\n",
       "      <th>4</th>\n",
       "      <td>8.755556</td>\n",
       "      <td>6.977778</td>\n",
       "      <td>0.83</td>\n",
       "      <td>11.0446</td>\n",
       "      <td>259.0</td>\n",
       "      <td>15.8263</td>\n",
       "      <td>1016.51</td>\n",
       "    </tr>\n",
       "  </tbody>\n",
       "</table>\n",
       "</div>"
      ],
      "text/plain": [
       "   Temperature (C)  Apparent Temperature (C)  Humidity  Wind Speed (km/h)  \\\n",
       "0         9.472222                  7.388889      0.89            14.1197   \n",
       "1         9.355556                  7.227778      0.86            14.2646   \n",
       "2         9.377778                  9.377778      0.89             3.9284   \n",
       "3         8.288889                  5.944444      0.83            14.1036   \n",
       "4         8.755556                  6.977778      0.83            11.0446   \n",
       "\n",
       "   Wind Bearing (degrees)  Visibility (km)  Pressure (millibars)  \n",
       "0                   251.0          15.8263               1015.13  \n",
       "1                   259.0          15.8263               1015.63  \n",
       "2                   204.0          14.9569               1015.94  \n",
       "3                   269.0          15.8263               1016.41  \n",
       "4                   259.0          15.8263               1016.51  "
      ]
     },
     "execution_count": 2099,
     "metadata": {},
     "output_type": "execute_result"
    }
   ],
   "source": [
    "dataframe.head()"
   ]
  },
  {
   "cell_type": "code",
   "execution_count": 1,
   "metadata": {},
   "outputs": [],
   "source": [
    "import pandas as pd\n",
    "import numpy as np\n",
    "dataframe = pd.read_csv(\"weatherHistory.csv\")\n",
    "X = dataframe.drop(columns=\"Apparent Temperature (C)\")\n",
    "y = dataframe[\"Apparent Temperature (C)\"]"
   ]
  },
  {
   "cell_type": "code",
   "execution_count": 3,
   "metadata": {},
   "outputs": [
    {
     "ename": "ModuleNotFoundError",
     "evalue": "No module named 'sklearn'",
     "output_type": "error",
     "traceback": [
      "\u001b[0;31m---------------------------------------------------------------------------\u001b[0m",
      "\u001b[0;31mModuleNotFoundError\u001b[0m                       Traceback (most recent call last)",
      "\u001b[0;32m<ipython-input-3-7d211c1b0221>\u001b[0m in \u001b[0;36m<module>\u001b[0;34m\u001b[0m\n\u001b[0;32m----> 1\u001b[0;31m \u001b[0;32mfrom\u001b[0m \u001b[0msklearn\u001b[0m\u001b[0;34m.\u001b[0m\u001b[0mpreprocessing\u001b[0m \u001b[0;32mimport\u001b[0m \u001b[0mtrain_test_split\u001b[0m\u001b[0;34m\u001b[0m\u001b[0;34m\u001b[0m\u001b[0m\n\u001b[0m\u001b[1;32m      2\u001b[0m \u001b[0mX_train\u001b[0m\u001b[0;34m,\u001b[0m \u001b[0mX_test\u001b[0m\u001b[0;34m,\u001b[0m \u001b[0my_train\u001b[0m\u001b[0;34m,\u001b[0m \u001b[0my_test\u001b[0m \u001b[0;34m=\u001b[0m \u001b[0mtrain_test_split\u001b[0m\u001b[0;34m(\u001b[0m\u001b[0mX\u001b[0m\u001b[0;34m,\u001b[0m \u001b[0my\u001b[0m\u001b[0;34m,\u001b[0m \u001b[0mtest_set\u001b[0m \u001b[0;34m=\u001b[0m \u001b[0;36m0.3\u001b[0m\u001b[0;34m)\u001b[0m\u001b[0;34m\u001b[0m\u001b[0;34m\u001b[0m\u001b[0m\n",
      "\u001b[0;31mModuleNotFoundError\u001b[0m: No module named 'sklearn'"
     ]
    }
   ],
   "source": [
    "from sklearn.preprocessing import train_test_split\n",
    "X_train, X_test, y_train, y_test = train_test_split(X, y, test_set = 0.3)"
   ]
  },
  {
   "cell_type": "code",
   "execution_count": 5,
   "metadata": {},
   "outputs": [
    {
     "name": "stdout",
     "output_type": "stream",
     "text": [
      "/bin/sh: 1: /home/admin1/PycharmProjects/Machine: not found\n",
      "Note: you may need to restart the kernel to use updated packages.\n"
     ]
    }
   ],
   "source": [
    "pip install sklearn"
   ]
  },
  {
   "cell_type": "code",
   "execution_count": 26,
   "metadata": {},
   "outputs": [
    {
     "data": {
      "text/html": [
       "<div>\n",
       "<style scoped>\n",
       "    .dataframe tbody tr th:only-of-type {\n",
       "        vertical-align: middle;\n",
       "    }\n",
       "\n",
       "    .dataframe tbody tr th {\n",
       "        vertical-align: top;\n",
       "    }\n",
       "\n",
       "    .dataframe thead th {\n",
       "        text-align: right;\n",
       "    }\n",
       "</style>\n",
       "<table border=\"1\" class=\"dataframe\">\n",
       "  <thead>\n",
       "    <tr style=\"text-align: right;\">\n",
       "      <th></th>\n",
       "      <th>x1</th>\n",
       "      <th>x2</th>\n",
       "      <th>x3</th>\n",
       "      <th>x4</th>\n",
       "      <th>x5</th>\n",
       "      <th>x6</th>\n",
       "    </tr>\n",
       "  </thead>\n",
       "  <tbody>\n",
       "    <tr>\n",
       "      <th>0</th>\n",
       "      <td>9.472222</td>\n",
       "      <td>0.89</td>\n",
       "      <td>14.1197</td>\n",
       "      <td>251.0</td>\n",
       "      <td>15.8263</td>\n",
       "      <td>1015.13</td>\n",
       "    </tr>\n",
       "    <tr>\n",
       "      <th>1</th>\n",
       "      <td>9.355556</td>\n",
       "      <td>0.86</td>\n",
       "      <td>14.2646</td>\n",
       "      <td>259.0</td>\n",
       "      <td>15.8263</td>\n",
       "      <td>1015.63</td>\n",
       "    </tr>\n",
       "    <tr>\n",
       "      <th>2</th>\n",
       "      <td>9.377778</td>\n",
       "      <td>0.89</td>\n",
       "      <td>3.9284</td>\n",
       "      <td>204.0</td>\n",
       "      <td>14.9569</td>\n",
       "      <td>1015.94</td>\n",
       "    </tr>\n",
       "    <tr>\n",
       "      <th>3</th>\n",
       "      <td>8.288889</td>\n",
       "      <td>0.83</td>\n",
       "      <td>14.1036</td>\n",
       "      <td>269.0</td>\n",
       "      <td>15.8263</td>\n",
       "      <td>1016.41</td>\n",
       "    </tr>\n",
       "    <tr>\n",
       "      <th>4</th>\n",
       "      <td>8.755556</td>\n",
       "      <td>0.83</td>\n",
       "      <td>11.0446</td>\n",
       "      <td>259.0</td>\n",
       "      <td>15.8263</td>\n",
       "      <td>1016.51</td>\n",
       "    </tr>\n",
       "  </tbody>\n",
       "</table>\n",
       "</div>"
      ],
      "text/plain": [
       "         x1    x2       x3     x4       x5       x6\n",
       "0  9.472222  0.89  14.1197  251.0  15.8263  1015.13\n",
       "1  9.355556  0.86  14.2646  259.0  15.8263  1015.63\n",
       "2  9.377778  0.89   3.9284  204.0  14.9569  1015.94\n",
       "3  8.288889  0.83  14.1036  269.0  15.8263  1016.41\n",
       "4  8.755556  0.83  11.0446  259.0  15.8263  1016.51"
      ]
     },
     "execution_count": 26,
     "metadata": {},
     "output_type": "execute_result"
    }
   ],
   "source": [
    "dataframe, output = separate(dataframe)\n",
    "\n",
    "dataframe.head()"
   ]
  },
  {
   "cell_type": "code",
   "execution_count": 27,
   "metadata": {},
   "outputs": [
    {
     "data": {
      "text/plain": [
       "0    7.388889\n",
       "1    7.227778\n",
       "2    9.377778\n",
       "3    5.944444\n",
       "4    6.977778\n",
       "Name: y, dtype: float64"
      ]
     },
     "execution_count": 27,
     "metadata": {},
     "output_type": "execute_result"
    }
   ],
   "source": [
    "output.head()"
   ]
  },
  {
   "cell_type": "code",
   "execution_count": 29,
   "metadata": {},
   "outputs": [
    {
     "data": {
      "text/plain": [
       "0    9.472222\n",
       "1    9.355556\n",
       "2    9.377778\n",
       "3    8.288889\n",
       "4    8.755556\n",
       "Name: x1, dtype: float64"
      ]
     },
     "execution_count": 29,
     "metadata": {},
     "output_type": "execute_result"
    }
   ],
   "source": [
    "dataframe.iloc[:,0].head()"
   ]
  },
  {
   "cell_type": "code",
   "execution_count": 30,
   "metadata": {},
   "outputs": [
    {
     "data": {
      "text/plain": [
       "14.2646"
      ]
     },
     "execution_count": 30,
     "metadata": {},
     "output_type": "execute_result"
    }
   ],
   "source": [
    "dataframe.iloc[1, 2]"
   ]
  },
  {
   "cell_type": "code",
   "execution_count": null,
   "metadata": {},
   "outputs": [],
   "source": []
  }
 ],
 "metadata": {
  "kernelspec": {
   "display_name": "Python 3",
   "language": "python",
   "name": "python3"
  },
  "language_info": {
   "codemirror_mode": {
    "name": "ipython",
    "version": 3
   },
   "file_extension": ".py",
   "mimetype": "text/x-python",
   "name": "python",
   "nbconvert_exporter": "python",
   "pygments_lexer": "ipython3",
   "version": "3.6.7rc1"
  }
 },
 "nbformat": 4,
 "nbformat_minor": 1
}
