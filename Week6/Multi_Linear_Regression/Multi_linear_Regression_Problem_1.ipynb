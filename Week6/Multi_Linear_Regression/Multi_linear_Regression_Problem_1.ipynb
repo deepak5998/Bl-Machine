{
 "cells": [
  {
   "cell_type": "code",
   "execution_count": 122,
   "metadata": {},
   "outputs": [],
   "source": [
    "import matplotlib.pyplot as plt\n",
    "import pandas as pd\n",
    "import numpy as np"
   ]
  },
  {
   "cell_type": "markdown",
   "metadata": {},
   "source": [
    "loading data set"
   ]
  },
  {
   "cell_type": "code",
   "execution_count": 123,
   "metadata": {},
   "outputs": [
    {
     "data": {
      "text/html": [
       "<div>\n",
       "<style scoped>\n",
       "    .dataframe tbody tr th:only-of-type {\n",
       "        vertical-align: middle;\n",
       "    }\n",
       "\n",
       "    .dataframe tbody tr th {\n",
       "        vertical-align: top;\n",
       "    }\n",
       "\n",
       "    .dataframe thead th {\n",
       "        text-align: right;\n",
       "    }\n",
       "</style>\n",
       "<table border=\"1\" class=\"dataframe\">\n",
       "  <thead>\n",
       "    <tr style=\"text-align: right;\">\n",
       "      <th></th>\n",
       "      <th>Formatted Date</th>\n",
       "      <th>Summary</th>\n",
       "      <th>Precip Type</th>\n",
       "      <th>Temperature (C)</th>\n",
       "      <th>Apparent Temperature (C)</th>\n",
       "      <th>Humidity</th>\n",
       "      <th>Wind Speed (km/h)</th>\n",
       "      <th>Wind Bearing (degrees)</th>\n",
       "      <th>Visibility (km)</th>\n",
       "      <th>Loud Cover</th>\n",
       "      <th>Pressure (millibars)</th>\n",
       "      <th>Daily Summary</th>\n",
       "    </tr>\n",
       "  </thead>\n",
       "  <tbody>\n",
       "    <tr>\n",
       "      <th>0</th>\n",
       "      <td>2006-04-01 00:00:00.000 +0200</td>\n",
       "      <td>Partly Cloudy</td>\n",
       "      <td>rain</td>\n",
       "      <td>9.472222</td>\n",
       "      <td>7.388889</td>\n",
       "      <td>0.89</td>\n",
       "      <td>14.1197</td>\n",
       "      <td>251.0</td>\n",
       "      <td>15.8263</td>\n",
       "      <td>0.0</td>\n",
       "      <td>1015.13</td>\n",
       "      <td>Partly cloudy throughout the day.</td>\n",
       "    </tr>\n",
       "    <tr>\n",
       "      <th>1</th>\n",
       "      <td>2006-04-01 01:00:00.000 +0200</td>\n",
       "      <td>Partly Cloudy</td>\n",
       "      <td>rain</td>\n",
       "      <td>9.355556</td>\n",
       "      <td>7.227778</td>\n",
       "      <td>0.86</td>\n",
       "      <td>14.2646</td>\n",
       "      <td>259.0</td>\n",
       "      <td>15.8263</td>\n",
       "      <td>0.0</td>\n",
       "      <td>1015.63</td>\n",
       "      <td>Partly cloudy throughout the day.</td>\n",
       "    </tr>\n",
       "    <tr>\n",
       "      <th>2</th>\n",
       "      <td>2006-04-01 02:00:00.000 +0200</td>\n",
       "      <td>Mostly Cloudy</td>\n",
       "      <td>rain</td>\n",
       "      <td>9.377778</td>\n",
       "      <td>9.377778</td>\n",
       "      <td>0.89</td>\n",
       "      <td>3.9284</td>\n",
       "      <td>204.0</td>\n",
       "      <td>14.9569</td>\n",
       "      <td>0.0</td>\n",
       "      <td>1015.94</td>\n",
       "      <td>Partly cloudy throughout the day.</td>\n",
       "    </tr>\n",
       "    <tr>\n",
       "      <th>3</th>\n",
       "      <td>2006-04-01 03:00:00.000 +0200</td>\n",
       "      <td>Partly Cloudy</td>\n",
       "      <td>rain</td>\n",
       "      <td>8.288889</td>\n",
       "      <td>5.944444</td>\n",
       "      <td>0.83</td>\n",
       "      <td>14.1036</td>\n",
       "      <td>269.0</td>\n",
       "      <td>15.8263</td>\n",
       "      <td>0.0</td>\n",
       "      <td>1016.41</td>\n",
       "      <td>Partly cloudy throughout the day.</td>\n",
       "    </tr>\n",
       "    <tr>\n",
       "      <th>4</th>\n",
       "      <td>2006-04-01 04:00:00.000 +0200</td>\n",
       "      <td>Mostly Cloudy</td>\n",
       "      <td>rain</td>\n",
       "      <td>8.755556</td>\n",
       "      <td>6.977778</td>\n",
       "      <td>0.83</td>\n",
       "      <td>11.0446</td>\n",
       "      <td>259.0</td>\n",
       "      <td>15.8263</td>\n",
       "      <td>0.0</td>\n",
       "      <td>1016.51</td>\n",
       "      <td>Partly cloudy throughout the day.</td>\n",
       "    </tr>\n",
       "  </tbody>\n",
       "</table>\n",
       "</div>"
      ],
      "text/plain": [
       "                  Formatted Date        Summary Precip Type  Temperature (C)  \\\n",
       "0  2006-04-01 00:00:00.000 +0200  Partly Cloudy        rain         9.472222   \n",
       "1  2006-04-01 01:00:00.000 +0200  Partly Cloudy        rain         9.355556   \n",
       "2  2006-04-01 02:00:00.000 +0200  Mostly Cloudy        rain         9.377778   \n",
       "3  2006-04-01 03:00:00.000 +0200  Partly Cloudy        rain         8.288889   \n",
       "4  2006-04-01 04:00:00.000 +0200  Mostly Cloudy        rain         8.755556   \n",
       "\n",
       "   Apparent Temperature (C)  Humidity  Wind Speed (km/h)  \\\n",
       "0                  7.388889      0.89            14.1197   \n",
       "1                  7.227778      0.86            14.2646   \n",
       "2                  9.377778      0.89             3.9284   \n",
       "3                  5.944444      0.83            14.1036   \n",
       "4                  6.977778      0.83            11.0446   \n",
       "\n",
       "   Wind Bearing (degrees)  Visibility (km)  Loud Cover  Pressure (millibars)  \\\n",
       "0                   251.0          15.8263         0.0               1015.13   \n",
       "1                   259.0          15.8263         0.0               1015.63   \n",
       "2                   204.0          14.9569         0.0               1015.94   \n",
       "3                   269.0          15.8263         0.0               1016.41   \n",
       "4                   259.0          15.8263         0.0               1016.51   \n",
       "\n",
       "                       Daily Summary  \n",
       "0  Partly cloudy throughout the day.  \n",
       "1  Partly cloudy throughout the day.  \n",
       "2  Partly cloudy throughout the day.  \n",
       "3  Partly cloudy throughout the day.  \n",
       "4  Partly cloudy throughout the day.  "
      ]
     },
     "execution_count": 123,
     "metadata": {},
     "output_type": "execute_result"
    }
   ],
   "source": [
    "dataframe = pd.read_csv('weatherHistory.csv')\n",
    "dataframe.head()"
   ]
  },
  {
   "cell_type": "code",
   "execution_count": 124,
   "metadata": {},
   "outputs": [
    {
     "data": {
      "text/html": [
       "<div>\n",
       "<style scoped>\n",
       "    .dataframe tbody tr th:only-of-type {\n",
       "        vertical-align: middle;\n",
       "    }\n",
       "\n",
       "    .dataframe tbody tr th {\n",
       "        vertical-align: top;\n",
       "    }\n",
       "\n",
       "    .dataframe thead th {\n",
       "        text-align: right;\n",
       "    }\n",
       "</style>\n",
       "<table border=\"1\" class=\"dataframe\">\n",
       "  <thead>\n",
       "    <tr style=\"text-align: right;\">\n",
       "      <th></th>\n",
       "      <th>Temperature (C)</th>\n",
       "      <th>Apparent Temperature (C)</th>\n",
       "      <th>Humidity</th>\n",
       "      <th>Wind Speed (km/h)</th>\n",
       "      <th>Wind Bearing (degrees)</th>\n",
       "      <th>Visibility (km)</th>\n",
       "      <th>Pressure (millibars)</th>\n",
       "    </tr>\n",
       "  </thead>\n",
       "  <tbody>\n",
       "    <tr>\n",
       "      <th>0</th>\n",
       "      <td>9.472222</td>\n",
       "      <td>7.388889</td>\n",
       "      <td>0.89</td>\n",
       "      <td>14.1197</td>\n",
       "      <td>251.0</td>\n",
       "      <td>15.8263</td>\n",
       "      <td>1015.13</td>\n",
       "    </tr>\n",
       "    <tr>\n",
       "      <th>1</th>\n",
       "      <td>9.355556</td>\n",
       "      <td>7.227778</td>\n",
       "      <td>0.86</td>\n",
       "      <td>14.2646</td>\n",
       "      <td>259.0</td>\n",
       "      <td>15.8263</td>\n",
       "      <td>1015.63</td>\n",
       "    </tr>\n",
       "    <tr>\n",
       "      <th>2</th>\n",
       "      <td>9.377778</td>\n",
       "      <td>9.377778</td>\n",
       "      <td>0.89</td>\n",
       "      <td>3.9284</td>\n",
       "      <td>204.0</td>\n",
       "      <td>14.9569</td>\n",
       "      <td>1015.94</td>\n",
       "    </tr>\n",
       "    <tr>\n",
       "      <th>3</th>\n",
       "      <td>8.288889</td>\n",
       "      <td>5.944444</td>\n",
       "      <td>0.83</td>\n",
       "      <td>14.1036</td>\n",
       "      <td>269.0</td>\n",
       "      <td>15.8263</td>\n",
       "      <td>1016.41</td>\n",
       "    </tr>\n",
       "    <tr>\n",
       "      <th>4</th>\n",
       "      <td>8.755556</td>\n",
       "      <td>6.977778</td>\n",
       "      <td>0.83</td>\n",
       "      <td>11.0446</td>\n",
       "      <td>259.0</td>\n",
       "      <td>15.8263</td>\n",
       "      <td>1016.51</td>\n",
       "    </tr>\n",
       "  </tbody>\n",
       "</table>\n",
       "</div>"
      ],
      "text/plain": [
       "   Temperature (C)  Apparent Temperature (C)  Humidity  Wind Speed (km/h)  \\\n",
       "0         9.472222                  7.388889      0.89            14.1197   \n",
       "1         9.355556                  7.227778      0.86            14.2646   \n",
       "2         9.377778                  9.377778      0.89             3.9284   \n",
       "3         8.288889                  5.944444      0.83            14.1036   \n",
       "4         8.755556                  6.977778      0.83            11.0446   \n",
       "\n",
       "   Wind Bearing (degrees)  Visibility (km)  Pressure (millibars)  \n",
       "0                   251.0          15.8263               1015.13  \n",
       "1                   259.0          15.8263               1015.63  \n",
       "2                   204.0          14.9569               1015.94  \n",
       "3                   269.0          15.8263               1016.41  \n",
       "4                   259.0          15.8263               1016.51  "
      ]
     },
     "execution_count": 124,
     "metadata": {},
     "output_type": "execute_result"
    }
   ],
   "source": [
    "dataframe = dataframe.drop(['Formatted Date', 'Summary', 'Precip Type', 'Loud Cover', 'Daily Summary'], axis=1)\n",
    "dataframe.head()"
   ]
  },
  {
   "cell_type": "code",
   "execution_count": 125,
   "metadata": {},
   "outputs": [],
   "source": [
    "new_columns = {'Temperature (C)':'x1', 'Apparent Temperature (C)':'y', 'Humidity':'x2', 'Wind Speed (km/h)':'x3',\n",
    "          'Wind Bearing (degrees)':'x4', 'Visibility (km)':'x5', 'Pressure (millibars)':'x6'}"
   ]
  },
  {
   "cell_type": "code",
   "execution_count": 126,
   "metadata": {},
   "outputs": [],
   "source": [
    "dataframe.rename(columns=new_columns, inplace=True)"
   ]
  },
  {
   "cell_type": "code",
   "execution_count": 127,
   "metadata": {
    "scrolled": true
   },
   "outputs": [
    {
     "data": {
      "text/html": [
       "<div>\n",
       "<style scoped>\n",
       "    .dataframe tbody tr th:only-of-type {\n",
       "        vertical-align: middle;\n",
       "    }\n",
       "\n",
       "    .dataframe tbody tr th {\n",
       "        vertical-align: top;\n",
       "    }\n",
       "\n",
       "    .dataframe thead th {\n",
       "        text-align: right;\n",
       "    }\n",
       "</style>\n",
       "<table border=\"1\" class=\"dataframe\">\n",
       "  <thead>\n",
       "    <tr style=\"text-align: right;\">\n",
       "      <th></th>\n",
       "      <th>count</th>\n",
       "      <th>mean</th>\n",
       "      <th>std</th>\n",
       "      <th>min</th>\n",
       "      <th>25%</th>\n",
       "      <th>50%</th>\n",
       "      <th>75%</th>\n",
       "      <th>max</th>\n",
       "    </tr>\n",
       "  </thead>\n",
       "  <tbody>\n",
       "    <tr>\n",
       "      <th>x1</th>\n",
       "      <td>96453.0</td>\n",
       "      <td>11.932678</td>\n",
       "      <td>9.551546</td>\n",
       "      <td>-21.822222</td>\n",
       "      <td>4.688889</td>\n",
       "      <td>12.0000</td>\n",
       "      <td>18.838889</td>\n",
       "      <td>39.905556</td>\n",
       "    </tr>\n",
       "    <tr>\n",
       "      <th>y</th>\n",
       "      <td>96453.0</td>\n",
       "      <td>10.855029</td>\n",
       "      <td>10.696847</td>\n",
       "      <td>-27.716667</td>\n",
       "      <td>2.311111</td>\n",
       "      <td>12.0000</td>\n",
       "      <td>18.838889</td>\n",
       "      <td>39.344444</td>\n",
       "    </tr>\n",
       "    <tr>\n",
       "      <th>x2</th>\n",
       "      <td>96453.0</td>\n",
       "      <td>0.734899</td>\n",
       "      <td>0.195473</td>\n",
       "      <td>0.000000</td>\n",
       "      <td>0.600000</td>\n",
       "      <td>0.7800</td>\n",
       "      <td>0.890000</td>\n",
       "      <td>1.000000</td>\n",
       "    </tr>\n",
       "    <tr>\n",
       "      <th>x3</th>\n",
       "      <td>96453.0</td>\n",
       "      <td>10.810640</td>\n",
       "      <td>6.913571</td>\n",
       "      <td>0.000000</td>\n",
       "      <td>5.828200</td>\n",
       "      <td>9.9659</td>\n",
       "      <td>14.135800</td>\n",
       "      <td>63.852600</td>\n",
       "    </tr>\n",
       "    <tr>\n",
       "      <th>x4</th>\n",
       "      <td>96453.0</td>\n",
       "      <td>187.509232</td>\n",
       "      <td>107.383428</td>\n",
       "      <td>0.000000</td>\n",
       "      <td>116.000000</td>\n",
       "      <td>180.0000</td>\n",
       "      <td>290.000000</td>\n",
       "      <td>359.000000</td>\n",
       "    </tr>\n",
       "    <tr>\n",
       "      <th>x5</th>\n",
       "      <td>96453.0</td>\n",
       "      <td>10.347325</td>\n",
       "      <td>4.192123</td>\n",
       "      <td>0.000000</td>\n",
       "      <td>8.339800</td>\n",
       "      <td>10.0464</td>\n",
       "      <td>14.812000</td>\n",
       "      <td>16.100000</td>\n",
       "    </tr>\n",
       "    <tr>\n",
       "      <th>x6</th>\n",
       "      <td>96453.0</td>\n",
       "      <td>1003.235956</td>\n",
       "      <td>116.969906</td>\n",
       "      <td>0.000000</td>\n",
       "      <td>1011.900000</td>\n",
       "      <td>1016.4500</td>\n",
       "      <td>1021.090000</td>\n",
       "      <td>1046.380000</td>\n",
       "    </tr>\n",
       "  </tbody>\n",
       "</table>\n",
       "</div>"
      ],
      "text/plain": [
       "      count         mean         std        min          25%        50%  \\\n",
       "x1  96453.0    11.932678    9.551546 -21.822222     4.688889    12.0000   \n",
       "y   96453.0    10.855029   10.696847 -27.716667     2.311111    12.0000   \n",
       "x2  96453.0     0.734899    0.195473   0.000000     0.600000     0.7800   \n",
       "x3  96453.0    10.810640    6.913571   0.000000     5.828200     9.9659   \n",
       "x4  96453.0   187.509232  107.383428   0.000000   116.000000   180.0000   \n",
       "x5  96453.0    10.347325    4.192123   0.000000     8.339800    10.0464   \n",
       "x6  96453.0  1003.235956  116.969906   0.000000  1011.900000  1016.4500   \n",
       "\n",
       "            75%          max  \n",
       "x1    18.838889    39.905556  \n",
       "y     18.838889    39.344444  \n",
       "x2     0.890000     1.000000  \n",
       "x3    14.135800    63.852600  \n",
       "x4   290.000000   359.000000  \n",
       "x5    14.812000    16.100000  \n",
       "x6  1021.090000  1046.380000  "
      ]
     },
     "execution_count": 127,
     "metadata": {},
     "output_type": "execute_result"
    }
   ],
   "source": [
    "dataframe.describe().T"
   ]
  },
  {
   "cell_type": "code",
   "execution_count": 128,
   "metadata": {},
   "outputs": [
    {
     "data": {
      "text/plain": [
       "x1    0\n",
       "y     0\n",
       "x2    0\n",
       "x3    0\n",
       "x4    0\n",
       "x5    0\n",
       "x6    0\n",
       "dtype: int64"
      ]
     },
     "execution_count": 128,
     "metadata": {},
     "output_type": "execute_result"
    }
   ],
   "source": [
    "dataframe.isna().sum()"
   ]
  },
  {
   "cell_type": "code",
   "execution_count": null,
   "metadata": {},
   "outputs": [],
   "source": []
  },
  {
   "cell_type": "code",
   "execution_count": 129,
   "metadata": {},
   "outputs": [
    {
     "data": {
      "text/plain": [
       "<matplotlib.axes._subplots.AxesSubplot at 0x29f6f731710>"
      ]
     },
     "execution_count": 129,
     "metadata": {},
     "output_type": "execute_result"
    },
    {
     "data": {
      "image/png": "[encoded data removed]",
      "text/plain": [
       "<Figure size 432x288 with 1 Axes>"
      ]
     },
     "metadata": {
      "needs_background": "light"
     },
     "output_type": "display_data"
    }
   ],
   "source": [
    "dataframe.boxplot()"
   ]
  },
  {
   "cell_type": "code",
   "execution_count": 130,
   "metadata": {},
   "outputs": [],
   "source": [
    "dataframe = dataframe.head(500)"
   ]
  },
  {
   "cell_type": "code",
   "execution_count": 131,
   "metadata": {},
   "outputs": [
    {
     "data": {
      "text/html": [
       "<div>\n",
       "<style scoped>\n",
       "    .dataframe tbody tr th:only-of-type {\n",
       "        vertical-align: middle;\n",
       "    }\n",
       "\n",
       "    .dataframe tbody tr th {\n",
       "        vertical-align: top;\n",
       "    }\n",
       "\n",
       "    .dataframe thead th {\n",
       "        text-align: right;\n",
       "    }\n",
       "</style>\n",
       "<table border=\"1\" class=\"dataframe\">\n",
       "  <thead>\n",
       "    <tr style=\"text-align: right;\">\n",
       "      <th></th>\n",
       "      <th>count</th>\n",
       "      <th>mean</th>\n",
       "      <th>std</th>\n",
       "      <th>min</th>\n",
       "      <th>25%</th>\n",
       "      <th>50%</th>\n",
       "      <th>75%</th>\n",
       "      <th>max</th>\n",
       "    </tr>\n",
       "  </thead>\n",
       "  <tbody>\n",
       "    <tr>\n",
       "      <th>x1</th>\n",
       "      <td>500.0</td>\n",
       "      <td>13.687300</td>\n",
       "      <td>4.558239</td>\n",
       "      <td>3.722222</td>\n",
       "      <td>10.15000</td>\n",
       "      <td>13.022222</td>\n",
       "      <td>17.244444</td>\n",
       "      <td>25.044444</td>\n",
       "    </tr>\n",
       "    <tr>\n",
       "      <th>y</th>\n",
       "      <td>500.0</td>\n",
       "      <td>13.300889</td>\n",
       "      <td>5.129404</td>\n",
       "      <td>1.494444</td>\n",
       "      <td>10.15000</td>\n",
       "      <td>13.022222</td>\n",
       "      <td>17.244444</td>\n",
       "      <td>25.044444</td>\n",
       "    </tr>\n",
       "    <tr>\n",
       "      <th>x2</th>\n",
       "      <td>500.0</td>\n",
       "      <td>0.742740</td>\n",
       "      <td>0.167093</td>\n",
       "      <td>0.320000</td>\n",
       "      <td>0.62000</td>\n",
       "      <td>0.760000</td>\n",
       "      <td>0.890000</td>\n",
       "      <td>1.000000</td>\n",
       "    </tr>\n",
       "    <tr>\n",
       "      <th>x3</th>\n",
       "      <td>500.0</td>\n",
       "      <td>10.194134</td>\n",
       "      <td>6.764105</td>\n",
       "      <td>0.000000</td>\n",
       "      <td>4.78975</td>\n",
       "      <td>9.177000</td>\n",
       "      <td>14.063350</td>\n",
       "      <td>32.167800</td>\n",
       "    </tr>\n",
       "    <tr>\n",
       "      <th>x4</th>\n",
       "      <td>500.0</td>\n",
       "      <td>190.222000</td>\n",
       "      <td>103.717111</td>\n",
       "      <td>0.000000</td>\n",
       "      <td>132.75000</td>\n",
       "      <td>169.000000</td>\n",
       "      <td>289.000000</td>\n",
       "      <td>359.000000</td>\n",
       "    </tr>\n",
       "    <tr>\n",
       "      <th>x5</th>\n",
       "      <td>500.0</td>\n",
       "      <td>10.435118</td>\n",
       "      <td>3.708072</td>\n",
       "      <td>0.289800</td>\n",
       "      <td>9.98200</td>\n",
       "      <td>10.819200</td>\n",
       "      <td>11.447100</td>\n",
       "      <td>15.874600</td>\n",
       "    </tr>\n",
       "    <tr>\n",
       "      <th>x6</th>\n",
       "      <td>500.0</td>\n",
       "      <td>1013.524640</td>\n",
       "      <td>4.040835</td>\n",
       "      <td>1003.570000</td>\n",
       "      <td>1011.34500</td>\n",
       "      <td>1013.910000</td>\n",
       "      <td>1016.520000</td>\n",
       "      <td>1021.010000</td>\n",
       "    </tr>\n",
       "  </tbody>\n",
       "</table>\n",
       "</div>"
      ],
      "text/plain": [
       "    count         mean         std          min         25%          50%  \\\n",
       "x1  500.0    13.687300    4.558239     3.722222    10.15000    13.022222   \n",
       "y   500.0    13.300889    5.129404     1.494444    10.15000    13.022222   \n",
       "x2  500.0     0.742740    0.167093     0.320000     0.62000     0.760000   \n",
       "x3  500.0    10.194134    6.764105     0.000000     4.78975     9.177000   \n",
       "x4  500.0   190.222000  103.717111     0.000000   132.75000   169.000000   \n",
       "x5  500.0    10.435118    3.708072     0.289800     9.98200    10.819200   \n",
       "x6  500.0  1013.524640    4.040835  1003.570000  1011.34500  1013.910000   \n",
       "\n",
       "            75%          max  \n",
       "x1    17.244444    25.044444  \n",
       "y     17.244444    25.044444  \n",
       "x2     0.890000     1.000000  \n",
       "x3    14.063350    32.167800  \n",
       "x4   289.000000   359.000000  \n",
       "x5    11.447100    15.874600  \n",
       "x6  1016.520000  1021.010000  "
      ]
     },
     "execution_count": 131,
     "metadata": {},
     "output_type": "execute_result"
    }
   ],
   "source": [
    "dataframe.describe().T"
   ]
  },
  {
   "cell_type": "code",
   "execution_count": 132,
   "metadata": {},
   "outputs": [
    {
     "data": {
      "text/plain": [
       "<matplotlib.axes._subplots.AxesSubplot at 0x29f6f71b518>"
      ]
     },
     "execution_count": 132,
     "metadata": {},
     "output_type": "execute_result"
    },
    {
     "data": {
      "image/png": "[encoded data removed]",
      "text/plain": [
       "<Figure size 432x288 with 1 Axes>"
      ]
     },
     "metadata": {
      "needs_background": "light"
     },
     "output_type": "display_data"
    }
   ],
   "source": [
    "dataframe.boxplot()\n"
   ]
  },
  {
   "cell_type": "code",
   "execution_count": 133,
   "metadata": {},
   "outputs": [],
   "source": [
    "# Separating the output and the parameters data frame\n",
    "def separate(dataframe):\n",
    "    output = dataframe.y\n",
    "    return dataframe.drop('y', axis=1), output"
   ]
  },
  {
   "cell_type": "code",
   "execution_count": 134,
   "metadata": {},
   "outputs": [],
   "source": [
    "# dataframe = dataframe[(dataframe >= dataframe.quantile(0.25)) & (dataframe<dataframe.quantile(0.75))]\n",
    "# fucntion to get \n",
    "def remove_outlier(dataframe):\n",
    "    dataframe = dataframe[np.abs(dataframe - dataframe.mean()) <= (3 * dataframe.std())]\n",
    "    return dataframe"
   ]
  },
  {
   "cell_type": "code",
   "execution_count": 135,
   "metadata": {},
   "outputs": [],
   "source": [
    "def split(dataframe):\n",
    "    test_data = dataframe.tail(50).reset_index(drop=True)\n",
    "    return dataframe.head(len(dataframe)-50), test_data"
   ]
  },
  {
   "cell_type": "code",
   "execution_count": 163,
   "metadata": {},
   "outputs": [],
   "source": [
    "# using min max\n",
    "def feature_scaling_column(dataframe, column):\n",
    "    x_min = np.subtract(dataframe[column],dataframe[column].min())\n",
    "    max_min = np.subtract(dataframe[column].max(),dataframe[column].min())\n",
    "    dataframe[column] = np.divide(x_min,max_min)\n",
    "    print(\"successfully scaled column \",column)\n",
    "    return dataframe"
   ]
  },
  {
   "cell_type": "code",
   "execution_count": 164,
   "metadata": {},
   "outputs": [],
   "source": [
    "Ypred = pd.Series(np.zeros(len(dataframe)))\n"
   ]
  },
  {
   "cell_type": "code",
   "execution_count": 165,
   "metadata": {},
   "outputs": [],
   "source": [
    "dataframe = remove_outlier(dataframe)"
   ]
  },
  {
   "cell_type": "code",
   "execution_count": 166,
   "metadata": {},
   "outputs": [
    {
     "data": {
      "text/plain": [
       "<matplotlib.axes._subplots.AxesSubplot at 0x29f75ae0a58>"
      ]
     },
     "execution_count": 166,
     "metadata": {},
     "output_type": "execute_result"
    },
    {
     "data": {
      "image/png": "[encoded data removed]",
      "text/plain": [
       "<Figure size 432x288 with 1 Axes>"
      ]
     },
     "metadata": {
      "needs_background": "light"
     },
     "output_type": "display_data"
    }
   ],
   "source": [
    "dataframe.boxplot()"
   ]
  },
  {
   "cell_type": "code",
   "execution_count": 167,
   "metadata": {},
   "outputs": [
    {
     "data": {
      "text/plain": [
       "x1    0\n",
       "y     0\n",
       "x2    0\n",
       "x3    0\n",
       "x4    0\n",
       "x5    0\n",
       "x6    0\n",
       "dtype: int64"
      ]
     },
     "execution_count": 167,
     "metadata": {},
     "output_type": "execute_result"
    }
   ],
   "source": [
    "dataframe.isna().sum()"
   ]
  },
  {
   "cell_type": "code",
   "execution_count": 168,
   "metadata": {},
   "outputs": [],
   "source": [
    "dataframe = dataframe.dropna()\n",
    "dataframe = dataframe.reset_index(drop=True)"
   ]
  },
  {
   "cell_type": "code",
   "execution_count": null,
   "metadata": {},
   "outputs": [],
   "source": []
  },
  {
   "cell_type": "code",
   "execution_count": 169,
   "metadata": {},
   "outputs": [],
   "source": [
    "# fig = plt.figure()\n",
    "# fig, (ax0, ax1, ax2, ax3) = plt.subplots(nrows=4, ncols=1, figsize=(5, 10))\n",
    "# s = np.array(np.random.rand(20))\n",
    "# for i in range(20):\n",
    "#     ax1.scatter(i,s[i])\n",
    "\n",
    "# ax1.plot([0,3],[0,4])\n",
    "# plt.show()"
   ]
  },
  {
   "cell_type": "code",
   "execution_count": 170,
   "metadata": {},
   "outputs": [],
   "source": [
    "class Multi_Linear_Regression():\n",
    "    \n",
    "    \n",
    "    def __init__(self):\n",
    "        self.learning_rate = 0.001\n",
    "        self.iteration = 10000\n",
    "        self.ncols=6\n",
    "        self.fig = plt.figure()\n",
    "        self.fig, (self.ax1, self.ax2, self.ax3,self.ax4) = plt.subplots(nrows=4, ncols=1, figsize=(5, 10))\n",
    "        \n",
    "    def train(self, dataframe, output):\n",
    "        weights = np.full(self.ncols,1.0)\n",
    "        dframe_size = dataframe.shape[0]\n",
    "        bais = 1.0\n",
    "\n",
    "        # Ypred = (dataframe.x1*weight1 + dataframe.x2*weight2 + dataframe.x3*weight3+ dataframe.x4*weight4 + dataframe.x5*weight5 + bais)\n",
    "        \n",
    "        self.ax1.scatter(np.linspace(np.min(output),np.max(output),len(output)),output\n",
    "                         , marker='+', color='g')\n",
    "        self.ax1.set_title('points scarttered')\n",
    "        \n",
    "        for iterations in range(0, self.iteration):\n",
    "            Ypred = self.classify(dataframe, weights,bais)\n",
    "            diff = np.subtract(Ypred,output)\n",
    "            # cost = sum(y^ -y)**2)/2m\n",
    "            cost = np.divide(np.sum(np.power((diff),2)),(2*dframe_size))\n",
    "            if(iterations%100==0):\n",
    "                print('In training iteration: {}, cost {}, bais:{}, weights:{}'\n",
    "                      .format(iterations, cost,bais,weights))\n",
    "            if(Ypred.isna().sum()>=1 or output.isna().sum()>=1 or bais == (-np.inf)):\n",
    "                print('In training iteration: {}, Ypred.isna().sum(): {}, output.isna().sum(): {}, bais:{}, weights:{}'.format(iterations,Ypred.isna().sum(),output.isna().sum(),bais,weights))\n",
    "                print(Ypred)\n",
    "                return weights, bais\n",
    "            \n",
    "            if(iterations%10==0):\n",
    "                self.ax2.plot(iterations,cost, markersize=0.3, marker='x', color='r')\n",
    "                self.ax2.set_title('iteration vs cost')\n",
    "                self.ax3.plot(bais,cost, markersize=0.3, marker = '+', color='#42f48c')\n",
    "                self.ax3.set_title('bais vs cost')\n",
    "#             print('iteration {} diff{} '.format(iterations,np.sum(diff)))\n",
    "            for counter1 in range(0, self.ncols):\n",
    "                # w = w - @*1/m() sum(y^-y)x)\n",
    "                weights[counter1] = np.subtract(weights[counter1]\n",
    "                                                ,np.divide(\n",
    "                                                    np.multiply(\n",
    "                                                        self.learning_rate,\n",
    "                                                            np.sum(\n",
    "                                                                np.multiply(\n",
    "                                                    diff,dataframe.iloc[:,counter1]))),dframe_size\n",
    "                                                )\n",
    "                                               )\n",
    "            \n",
    "            bais -= self.learning_rate*(np.sum(diff)/dframe_size)\n",
    "            \n",
    "        return weights, bais\n",
    "        \n",
    "    def classify(self, dataframe, weights, bais):\n",
    "        Ypred = pd.Series(np.zeros(len(dataframe)))\n",
    "        dframe_size = len(dataframe)\n",
    "        for counter1 in range(0, dframe_size):\n",
    "            for counter2 in range(0, self.ncols):\n",
    "                Ypred[counter1] = np.add(np.multiply(dataframe.iloc[counter1, counter2],weights[counter2]),Ypred[counter1])\n",
    "        Ypred = np.add(bais,Ypred)\n",
    "        return Ypred\n",
    "        \n",
    "    def accuracy(self,Ypred, y_output):\n",
    "        Ypred= np.divide(abs(np.subtract(Ypred,y_output)),y_output)\n",
    "        self.ax4.scatter(Ypred,y_output, marker='+',color='g')\n",
    "        plt.subplots_adjust(hspace=0.5, wspace = 0.5)\n",
    "        plt.show()\n",
    "        self.ax4.set_title(\"predicted values vs original output\")\n",
    "        error = abs(np.sum(Ypred))/len(Ypred)\n",
    "        return (1-error)*100\n",
    "                "
   ]
  },
  {
   "cell_type": "code",
   "execution_count": 171,
   "metadata": {},
   "outputs": [],
   "source": [
    "def main(dataframe, test_data):\n",
    "    dataframe, output = separate(dataframe)\n",
    "    regression_object = Multi_Linear_Regression()\n",
    "    # feature Scaling:\n",
    "    weights, bais = regression_object.train(dataframe,output)\n",
    "    print(weights,bais)\n",
    "    test_data, output = separate(test_data)\n",
    "    Ypred = regression_object.classify(test_data, weights, bais)\n",
    "    print(\"Accuracy = \", regression_object.accuracy(Ypred,output)) "
   ]
  },
  {
   "cell_type": "code",
   "execution_count": 172,
   "metadata": {},
   "outputs": [],
   "source": [
    "# plt.plot(np.random.rand(20))"
   ]
  },
  {
   "cell_type": "code",
   "execution_count": 173,
   "metadata": {},
   "outputs": [],
   "source": [
    "# np.add(4,dataframe)"
   ]
  },
  {
   "cell_type": "code",
   "execution_count": 174,
   "metadata": {},
   "outputs": [],
   "source": [
    "dataframe, test_data = split(dataframe)"
   ]
  },
  {
   "cell_type": "code",
   "execution_count": 175,
   "metadata": {
    "scrolled": true
   },
   "outputs": [
    {
     "name": "stdout",
     "output_type": "stream",
     "text": [
      "successfully scaled column  x1\n",
      "successfully scaled column  y\n",
      "successfully scaled column  x2\n",
      "successfully scaled column  x3\n",
      "successfully scaled column  x4\n",
      "successfully scaled column  x5\n",
      "successfully scaled column  x6\n"
     ]
    }
   ],
   "source": [
    "for item in dataframe:\n",
    "    dataframe = feature_scaling_column(dataframe, item)"
   ]
  },
  {
   "cell_type": "code",
   "execution_count": 176,
   "metadata": {},
   "outputs": [
    {
     "data": {
      "text/html": [
       "<div>\n",
       "<style scoped>\n",
       "    .dataframe tbody tr th:only-of-type {\n",
       "        vertical-align: middle;\n",
       "    }\n",
       "\n",
       "    .dataframe tbody tr th {\n",
       "        vertical-align: top;\n",
       "    }\n",
       "\n",
       "    .dataframe thead th {\n",
       "        text-align: right;\n",
       "    }\n",
       "</style>\n",
       "<table border=\"1\" class=\"dataframe\">\n",
       "  <thead>\n",
       "    <tr style=\"text-align: right;\">\n",
       "      <th></th>\n",
       "      <th>x1</th>\n",
       "      <th>y</th>\n",
       "      <th>x2</th>\n",
       "      <th>x3</th>\n",
       "      <th>x4</th>\n",
       "      <th>x5</th>\n",
       "      <th>x6</th>\n",
       "    </tr>\n",
       "  </thead>\n",
       "  <tbody>\n",
       "    <tr>\n",
       "      <th>0</th>\n",
       "      <td>0.329303</td>\n",
       "      <td>0.294402</td>\n",
       "      <td>0.828125</td>\n",
       "      <td>0.467540</td>\n",
       "      <td>0.699164</td>\n",
       "      <td>0.996901</td>\n",
       "      <td>0.666667</td>\n",
       "    </tr>\n",
       "    <tr>\n",
       "      <th>1</th>\n",
       "      <td>0.322622</td>\n",
       "      <td>0.286161</td>\n",
       "      <td>0.781250</td>\n",
       "      <td>0.472450</td>\n",
       "      <td>0.721448</td>\n",
       "      <td>0.996901</td>\n",
       "      <td>0.695502</td>\n",
       "    </tr>\n",
       "    <tr>\n",
       "      <th>2</th>\n",
       "      <td>0.323894</td>\n",
       "      <td>0.396135</td>\n",
       "      <td>0.828125</td>\n",
       "      <td>0.122204</td>\n",
       "      <td>0.568245</td>\n",
       "      <td>0.941116</td>\n",
       "      <td>0.713379</td>\n",
       "    </tr>\n",
       "    <tr>\n",
       "      <th>3</th>\n",
       "      <td>0.261534</td>\n",
       "      <td>0.220517</td>\n",
       "      <td>0.734375</td>\n",
       "      <td>0.466994</td>\n",
       "      <td>0.749304</td>\n",
       "      <td>0.996901</td>\n",
       "      <td>0.740484</td>\n",
       "    </tr>\n",
       "    <tr>\n",
       "      <th>4</th>\n",
       "      <td>0.288260</td>\n",
       "      <td>0.273373</td>\n",
       "      <td>0.734375</td>\n",
       "      <td>0.363339</td>\n",
       "      <td>0.721448</td>\n",
       "      <td>0.996901</td>\n",
       "      <td>0.746251</td>\n",
       "    </tr>\n",
       "  </tbody>\n",
       "</table>\n",
       "</div>"
      ],
      "text/plain": [
       "         x1         y        x2        x3        x4        x5        x6\n",
       "0  0.329303  0.294402  0.828125  0.467540  0.699164  0.996901  0.666667\n",
       "1  0.322622  0.286161  0.781250  0.472450  0.721448  0.996901  0.695502\n",
       "2  0.323894  0.396135  0.828125  0.122204  0.568245  0.941116  0.713379\n",
       "3  0.261534  0.220517  0.734375  0.466994  0.749304  0.996901  0.740484\n",
       "4  0.288260  0.273373  0.734375  0.363339  0.721448  0.996901  0.746251"
      ]
     },
     "execution_count": 176,
     "metadata": {},
     "output_type": "execute_result"
    }
   ],
   "source": [
    "# from IPython.core.debugger import Tracer; Tracer()()\n",
    "# dataframe.isnan().sum()\n",
    "dataframe.head()"
   ]
  },
  {
   "cell_type": "code",
   "execution_count": null,
   "metadata": {},
   "outputs": [
    {
     "name": "stdout",
     "output_type": "stream",
     "text": [
      "In training iteration: 0, cost 7.02686847946339, bais:1.0, weights:[1. 1. 1. 1. 1. 1.]\n",
      "In training iteration: 100, cost 4.00292906671455, bais:0.6754184752022033, weights:[0.84234806 0.7936317  0.87408106 0.80452624 0.78891929 0.82851577]\n",
      "In training iteration: 200, cost 2.2843444651255895, bais:0.43090097229609875, weights:[0.72438736 0.63772849 0.7787317  0.65654004 0.62981895 0.69947377]\n",
      "In training iteration: 300, cost 1.3075801570822752, bais:0.24673890043970148, weights:[0.63634178 0.51987216 0.70642892 0.54435876 0.5099019  0.60242356]\n",
      "In training iteration: 400, cost 0.7523857728787334, bais:0.10807495765893516, weights:[0.57084163 0.4307012  0.65150151 0.45917538 0.4195211  0.52948712]\n",
      "In training iteration: 500, cost 0.4367665922436033, bais:0.0037089826559579464, weights:[0.52233134 0.36315841 0.60967425 0.39435066 0.35140416 0.47472563]\n",
      "In training iteration: 600, cost 0.2572970282722111, bais:-0.0748022529699315, weights:[0.48662288 0.31192367 0.57772423 0.34487957 0.30006884 0.43366213]\n",
      "In training iteration: 700, cost 0.15520145070205232, bais:-0.1338236657268559, weights:[0.46055919 0.27298639 0.55322188 0.30698899 0.26138237 0.40292172]\n",
      "In training iteration: 800, cost 0.09707829873153676, bais:-0.1781534381998488, weights:[0.44176033 0.24332313 0.53433564 0.27783451 0.23222931 0.37996024]\n",
      "In training iteration: 900, cost 0.06394581082035908, bais:-0.21140867174513353, weights:[0.42843228 0.22065465 0.5196848  0.2552718  0.21026112 0.36285981]\n",
      "In training iteration: 1000, cost 0.04501683595654966, bais:-0.23631611050372137, weights:[0.41922263 0.20326269 0.5082285  0.2376843  0.19370737 0.35017466]\n",
      "In training iteration: 1100, cost 0.03416112880661101, bais:-0.25493130349544185, weights:[0.41311194 0.1898519  0.4991821  0.22385332 0.18123348 0.34081492]\n",
      "In training iteration: 1200, cost 0.02789491177217007, bais:-0.2688038198099385, weights:[0.40933175 0.17944577 0.49195406 0.21286007 0.17183337 0.33395903]\n",
      "In training iteration: 1300, cost 0.02423836567633095, bais:-0.2791017959625301, weights:[0.4073028  0.17130809 0.48609846 0.20401188 0.16474866 0.32898768]\n",
      "In training iteration: 1400, cost 0.022066354542365708, bais:-0.28670582583098453, weights:[0.40658847 0.16488385 0.48127915 0.19678651 0.15940769 0.32543401]\n",
      "In training iteration: 1500, cost 0.020739449767534817, bais:-0.2922797395183537, weights:[0.40685965 0.1597546  0.47724269 0.19079022 0.1553795  0.32294613]\n",
      "In training iteration: 1600, cost 0.01989424529518507, bais:-0.2963239599488765, weights:[0.40786829 0.15560488 0.47379805 0.18572613 0.15233928 0.32125878]\n",
      "In training iteration: 1700, cost 0.019324196072294998, bais:-0.29921572570013866, weights:[0.40942747 0.15219681 0.47080117 0.18137039 0.15004219 0.32017201]\n",
      "In training iteration: 1800, cost 0.018911899873626598, bais:-0.3012394129566174, weights:[0.41139628 0.14935107 0.4681435  0.17755418 0.14830366 0.31953512]\n",
      "In training iteration: 1900, cost 0.018590613813527664, bais:-0.3026093936928111, weights:[0.41366859 0.14693241 0.46574316 0.17415018 0.14698461 0.31923454]\n",
      "In training iteration: 2000, cost 0.018322384602567122, bais:-0.30348726729825976, weights:[0.4161644  0.14483885 0.46353843 0.17106236 0.14598021 0.31918466]\n",
      "In training iteration: 2100, cost 0.018085620208948144, bais:-0.303994850625669, weights:[0.41882347 0.14299348 0.46148278 0.16821828 0.14521145 0.31932097]\n",
      "In training iteration: 2200, cost 0.017868026964397786, bais:-0.30422397052926436, weights:[0.42160041 0.14133827 0.45954114 0.16556327 0.14461882 0.31959489]\n",
      "In training iteration: 2300, cost 0.017662595792069663, bais:-0.3042438459626402, weights:[0.42446108 0.13982947 0.45768703 0.16305607 0.14415746 0.31996978]\n",
      "In training iteration: 2400, cost 0.017465321216415447, bais:-0.30410665296772255, weights:[0.42737977 0.13843404 0.45590052 0.16066551 0.14379359 0.32041807]\n",
      "In training iteration: 2500, cost 0.017273905093759014, bais:-0.30385171983747095, weights:[0.43033712 0.13712704 0.45416656 0.15836805 0.14350176 0.320919  ]\n",
      "In training iteration: 2600, cost 0.017087019948754053, bais:-0.3035086896360177, weights:[0.43331861 0.13588966 0.4524738  0.15614589 0.14326283 0.32145692]\n",
      "In training iteration: 2700, cost 0.01690389032874462, bais:-0.30309990426192923, weights:[0.43631333 0.13470766 0.45081367 0.15398557 0.14306237 0.32202008]\n",
      "In training iteration: 2800, cost 0.016724054884289154, bais:-0.30264220167230504, weights:[0.43931308 0.13357028 0.44917972 0.15187688 0.14288954 0.32259964]\n",
      "In training iteration: 2900, cost 0.01654723115449132, bais:-0.3021482707185806, weights:[0.44231173 0.13246939 0.44756707 0.14981207 0.14273619 0.32318894]\n"
     ]
    }
   ],
   "source": [
    "main(dataframe,test_data)"
   ]
  },
  {
   "cell_type": "code",
   "execution_count": null,
   "metadata": {},
   "outputs": [],
   "source": []
  },
  {
   "cell_type": "code",
   "execution_count": 115,
   "metadata": {},
   "outputs": [],
   "source": [
    "yd = pd.Series(dataframe.x1)"
   ]
  },
  {
   "cell_type": "code",
   "execution_count": null,
   "metadata": {},
   "outputs": [],
   "source": []
  },
  {
   "cell_type": "code",
   "execution_count": 116,
   "metadata": {},
   "outputs": [
    {
     "data": {
      "text/plain": [
       "0   -0.855038\n",
       "1   -0.880714\n",
       "2   -0.875823\n",
       "3   -1.115469\n",
       "4   -1.012763\n",
       "Name: x1, dtype: float64"
      ]
     },
     "execution_count": 116,
     "metadata": {},
     "output_type": "execute_result"
    }
   ],
   "source": [
    "yd.head()"
   ]
  },
  {
   "cell_type": "code",
   "execution_count": 117,
   "metadata": {},
   "outputs": [
    {
     "data": {
      "text/html": [
       "<div>\n",
       "<style scoped>\n",
       "    .dataframe tbody tr th:only-of-type {\n",
       "        vertical-align: middle;\n",
       "    }\n",
       "\n",
       "    .dataframe tbody tr th {\n",
       "        vertical-align: top;\n",
       "    }\n",
       "\n",
       "    .dataframe thead th {\n",
       "        text-align: right;\n",
       "    }\n",
       "</style>\n",
       "<table border=\"1\" class=\"dataframe\">\n",
       "  <thead>\n",
       "    <tr style=\"text-align: right;\">\n",
       "      <th></th>\n",
       "      <th>x1</th>\n",
       "      <th>y</th>\n",
       "      <th>x2</th>\n",
       "      <th>x3</th>\n",
       "      <th>x4</th>\n",
       "      <th>x5</th>\n",
       "      <th>x6</th>\n",
       "    </tr>\n",
       "  </thead>\n",
       "  <tbody>\n",
       "    <tr>\n",
       "      <th>0</th>\n",
       "      <td>-0.855038</td>\n",
       "      <td>-2.697934</td>\n",
       "      <td>-9.462010</td>\n",
       "      <td>-1.612617</td>\n",
       "      <td>-1.893830</td>\n",
       "      <td>-2.908468</td>\n",
       "      <td>-244.053119</td>\n",
       "    </tr>\n",
       "    <tr>\n",
       "      <th>1</th>\n",
       "      <td>-0.880714</td>\n",
       "      <td>-2.702953</td>\n",
       "      <td>-9.613756</td>\n",
       "      <td>-1.616399</td>\n",
       "      <td>-1.894075</td>\n",
       "      <td>-2.915140</td>\n",
       "      <td>-244.059295</td>\n",
       "    </tr>\n",
       "    <tr>\n",
       "      <th>2</th>\n",
       "      <td>-0.875823</td>\n",
       "      <td>-2.701997</td>\n",
       "      <td>-9.584852</td>\n",
       "      <td>-1.615679</td>\n",
       "      <td>-1.894029</td>\n",
       "      <td>-2.913869</td>\n",
       "      <td>-244.058118</td>\n",
       "    </tr>\n",
       "    <tr>\n",
       "      <th>3</th>\n",
       "      <td>-1.115469</td>\n",
       "      <td>-2.748843</td>\n",
       "      <td>-11.001152</td>\n",
       "      <td>-1.650978</td>\n",
       "      <td>-1.896314</td>\n",
       "      <td>-2.976140</td>\n",
       "      <td>-244.115763</td>\n",
       "    </tr>\n",
       "    <tr>\n",
       "      <th>4</th>\n",
       "      <td>-1.012763</td>\n",
       "      <td>-2.728766</td>\n",
       "      <td>-10.394167</td>\n",
       "      <td>-1.635850</td>\n",
       "      <td>-1.895334</td>\n",
       "      <td>-2.949452</td>\n",
       "      <td>-244.091058</td>\n",
       "    </tr>\n",
       "  </tbody>\n",
       "</table>\n",
       "</div>"
      ],
      "text/plain": [
       "         x1         y         x2        x3        x4        x5          x6\n",
       "0 -0.855038 -2.697934  -9.462010 -1.612617 -1.893830 -2.908468 -244.053119\n",
       "1 -0.880714 -2.702953  -9.613756 -1.616399 -1.894075 -2.915140 -244.059295\n",
       "2 -0.875823 -2.701997  -9.584852 -1.615679 -1.894029 -2.913869 -244.058118\n",
       "3 -1.115469 -2.748843 -11.001152 -1.650978 -1.896314 -2.976140 -244.115763\n",
       "4 -1.012763 -2.728766 -10.394167 -1.635850 -1.895334 -2.949452 -244.091058"
      ]
     },
     "execution_count": 117,
     "metadata": {},
     "output_type": "execute_result"
    }
   ],
   "source": [
    "dataframe.head()"
   ]
  },
  {
   "cell_type": "code",
   "execution_count": 118,
   "metadata": {},
   "outputs": [],
   "source": [
    "# import pandas as pd\n",
    "# import numpy as np\n",
    "# dataframe = pd.read_csv(\"weatherHistory.csv\")\n",
    "# X = dataframe.drop(columns=\"Apparent Temperature (C)\")\n",
    "# y = dataframe[\"Apparent Temperature (C)\"]"
   ]
  },
  {
   "cell_type": "code",
   "execution_count": 119,
   "metadata": {},
   "outputs": [],
   "source": [
    "# from sklearn.preprocessing import MinMaxScaler\n"
   ]
  },
  {
   "cell_type": "code",
   "execution_count": null,
   "metadata": {},
   "outputs": [],
   "source": []
  },
  {
   "cell_type": "code",
   "execution_count": 120,
   "metadata": {},
   "outputs": [],
   "source": [
    "# dataframe, output = separate(dataframe)\n",
    "\n",
    "# dataframe.head()"
   ]
  },
  {
   "cell_type": "code",
   "execution_count": null,
   "metadata": {},
   "outputs": [],
   "source": []
  },
  {
   "cell_type": "code",
   "execution_count": null,
   "metadata": {},
   "outputs": [],
   "source": []
  },
  {
   "cell_type": "code",
   "execution_count": null,
   "metadata": {},
   "outputs": [],
   "source": []
  },
  {
   "cell_type": "code",
   "execution_count": null,
   "metadata": {},
   "outputs": [],
   "source": []
  }
 ],
 "metadata": {
  "kernelspec": {
   "display_name": "Python 3",
   "language": "python",
   "name": "python3"
  },
  "language_info": {
   "codemirror_mode": {
    "name": "ipython",
    "version": 3
   },
   "file_extension": ".py",
   "mimetype": "text/x-python",
   "name": "python",
   "nbconvert_exporter": "python",
   "pygments_lexer": "ipython3",
   "version": "3.7.1"
  }
 },
 "nbformat": 4,
 "nbformat_minor": 2
}
