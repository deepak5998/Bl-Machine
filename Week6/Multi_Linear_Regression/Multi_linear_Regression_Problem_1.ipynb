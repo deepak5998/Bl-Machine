{
 "cells": [
  {
   "cell_type": "code",
   "execution_count": 3,
   "metadata": {},
   "outputs": [],
   "source": [
    "import matplotlib.pyplot as plt\n",
    "import pandas as pd\n",
    "import numpy as np"
   ]
  },
  {
   "cell_type": "markdown",
   "metadata": {},
   "source": [
    "loading data set"
   ]
  },
  {
   "cell_type": "code",
   "execution_count": 4,
   "metadata": {},
   "outputs": [
    {
     "data": {
      "text/html": [
       "<div>\n",
       "<style scoped>\n",
       "    .dataframe tbody tr th:only-of-type {\n",
       "        vertical-align: middle;\n",
       "    }\n",
       "\n",
       "    .dataframe tbody tr th {\n",
       "        vertical-align: top;\n",
       "    }\n",
       "\n",
       "    .dataframe thead th {\n",
       "        text-align: right;\n",
       "    }\n",
       "</style>\n",
       "<table border=\"1\" class=\"dataframe\">\n",
       "  <thead>\n",
       "    <tr style=\"text-align: right;\">\n",
       "      <th></th>\n",
       "      <th>Formatted Date</th>\n",
       "      <th>Summary</th>\n",
       "      <th>Precip Type</th>\n",
       "      <th>Temperature (C)</th>\n",
       "      <th>Apparent Temperature (C)</th>\n",
       "      <th>Humidity</th>\n",
       "      <th>Wind Speed (km/h)</th>\n",
       "      <th>Wind Bearing (degrees)</th>\n",
       "      <th>Visibility (km)</th>\n",
       "      <th>Loud Cover</th>\n",
       "      <th>Pressure (millibars)</th>\n",
       "      <th>Daily Summary</th>\n",
       "    </tr>\n",
       "  </thead>\n",
       "  <tbody>\n",
       "    <tr>\n",
       "      <th>0</th>\n",
       "      <td>2006-04-01 00:00:00.000 +0200</td>\n",
       "      <td>Partly Cloudy</td>\n",
       "      <td>rain</td>\n",
       "      <td>9.472222</td>\n",
       "      <td>7.388889</td>\n",
       "      <td>0.89</td>\n",
       "      <td>14.1197</td>\n",
       "      <td>251.0</td>\n",
       "      <td>15.8263</td>\n",
       "      <td>0.0</td>\n",
       "      <td>1015.13</td>\n",
       "      <td>Partly cloudy throughout the day.</td>\n",
       "    </tr>\n",
       "    <tr>\n",
       "      <th>1</th>\n",
       "      <td>2006-04-01 01:00:00.000 +0200</td>\n",
       "      <td>Partly Cloudy</td>\n",
       "      <td>rain</td>\n",
       "      <td>9.355556</td>\n",
       "      <td>7.227778</td>\n",
       "      <td>0.86</td>\n",
       "      <td>14.2646</td>\n",
       "      <td>259.0</td>\n",
       "      <td>15.8263</td>\n",
       "      <td>0.0</td>\n",
       "      <td>1015.63</td>\n",
       "      <td>Partly cloudy throughout the day.</td>\n",
       "    </tr>\n",
       "    <tr>\n",
       "      <th>2</th>\n",
       "      <td>2006-04-01 02:00:00.000 +0200</td>\n",
       "      <td>Mostly Cloudy</td>\n",
       "      <td>rain</td>\n",
       "      <td>9.377778</td>\n",
       "      <td>9.377778</td>\n",
       "      <td>0.89</td>\n",
       "      <td>3.9284</td>\n",
       "      <td>204.0</td>\n",
       "      <td>14.9569</td>\n",
       "      <td>0.0</td>\n",
       "      <td>1015.94</td>\n",
       "      <td>Partly cloudy throughout the day.</td>\n",
       "    </tr>\n",
       "    <tr>\n",
       "      <th>3</th>\n",
       "      <td>2006-04-01 03:00:00.000 +0200</td>\n",
       "      <td>Partly Cloudy</td>\n",
       "      <td>rain</td>\n",
       "      <td>8.288889</td>\n",
       "      <td>5.944444</td>\n",
       "      <td>0.83</td>\n",
       "      <td>14.1036</td>\n",
       "      <td>269.0</td>\n",
       "      <td>15.8263</td>\n",
       "      <td>0.0</td>\n",
       "      <td>1016.41</td>\n",
       "      <td>Partly cloudy throughout the day.</td>\n",
       "    </tr>\n",
       "    <tr>\n",
       "      <th>4</th>\n",
       "      <td>2006-04-01 04:00:00.000 +0200</td>\n",
       "      <td>Mostly Cloudy</td>\n",
       "      <td>rain</td>\n",
       "      <td>8.755556</td>\n",
       "      <td>6.977778</td>\n",
       "      <td>0.83</td>\n",
       "      <td>11.0446</td>\n",
       "      <td>259.0</td>\n",
       "      <td>15.8263</td>\n",
       "      <td>0.0</td>\n",
       "      <td>1016.51</td>\n",
       "      <td>Partly cloudy throughout the day.</td>\n",
       "    </tr>\n",
       "  </tbody>\n",
       "</table>\n",
       "</div>"
      ],
      "text/plain": [
       "                  Formatted Date        Summary Precip Type  Temperature (C)  \\\n",
       "0  2006-04-01 00:00:00.000 +0200  Partly Cloudy        rain         9.472222   \n",
       "1  2006-04-01 01:00:00.000 +0200  Partly Cloudy        rain         9.355556   \n",
       "2  2006-04-01 02:00:00.000 +0200  Mostly Cloudy        rain         9.377778   \n",
       "3  2006-04-01 03:00:00.000 +0200  Partly Cloudy        rain         8.288889   \n",
       "4  2006-04-01 04:00:00.000 +0200  Mostly Cloudy        rain         8.755556   \n",
       "\n",
       "   Apparent Temperature (C)  Humidity  Wind Speed (km/h)  \\\n",
       "0                  7.388889      0.89            14.1197   \n",
       "1                  7.227778      0.86            14.2646   \n",
       "2                  9.377778      0.89             3.9284   \n",
       "3                  5.944444      0.83            14.1036   \n",
       "4                  6.977778      0.83            11.0446   \n",
       "\n",
       "   Wind Bearing (degrees)  Visibility (km)  Loud Cover  Pressure (millibars)  \\\n",
       "0                   251.0          15.8263         0.0               1015.13   \n",
       "1                   259.0          15.8263         0.0               1015.63   \n",
       "2                   204.0          14.9569         0.0               1015.94   \n",
       "3                   269.0          15.8263         0.0               1016.41   \n",
       "4                   259.0          15.8263         0.0               1016.51   \n",
       "\n",
       "                       Daily Summary  \n",
       "0  Partly cloudy throughout the day.  \n",
       "1  Partly cloudy throughout the day.  \n",
       "2  Partly cloudy throughout the day.  \n",
       "3  Partly cloudy throughout the day.  \n",
       "4  Partly cloudy throughout the day.  "
      ]
     },
     "execution_count": 4,
     "metadata": {},
     "output_type": "execute_result"
    }
   ],
   "source": [
    "dataframe = pd.read_csv('weatherHistory.csv')\n",
    "dataframe.head()"
   ]
  },
  {
   "cell_type": "code",
   "execution_count": 5,
   "metadata": {},
   "outputs": [
    {
     "data": {
      "text/html": [
       "<div>\n",
       "<style scoped>\n",
       "    .dataframe tbody tr th:only-of-type {\n",
       "        vertical-align: middle;\n",
       "    }\n",
       "\n",
       "    .dataframe tbody tr th {\n",
       "        vertical-align: top;\n",
       "    }\n",
       "\n",
       "    .dataframe thead th {\n",
       "        text-align: right;\n",
       "    }\n",
       "</style>\n",
       "<table border=\"1\" class=\"dataframe\">\n",
       "  <thead>\n",
       "    <tr style=\"text-align: right;\">\n",
       "      <th></th>\n",
       "      <th>Temperature (C)</th>\n",
       "      <th>Apparent Temperature (C)</th>\n",
       "      <th>Humidity</th>\n",
       "      <th>Wind Speed (km/h)</th>\n",
       "      <th>Wind Bearing (degrees)</th>\n",
       "      <th>Visibility (km)</th>\n",
       "      <th>Pressure (millibars)</th>\n",
       "    </tr>\n",
       "  </thead>\n",
       "  <tbody>\n",
       "    <tr>\n",
       "      <th>0</th>\n",
       "      <td>9.472222</td>\n",
       "      <td>7.388889</td>\n",
       "      <td>0.89</td>\n",
       "      <td>14.1197</td>\n",
       "      <td>251.0</td>\n",
       "      <td>15.8263</td>\n",
       "      <td>1015.13</td>\n",
       "    </tr>\n",
       "    <tr>\n",
       "      <th>1</th>\n",
       "      <td>9.355556</td>\n",
       "      <td>7.227778</td>\n",
       "      <td>0.86</td>\n",
       "      <td>14.2646</td>\n",
       "      <td>259.0</td>\n",
       "      <td>15.8263</td>\n",
       "      <td>1015.63</td>\n",
       "    </tr>\n",
       "    <tr>\n",
       "      <th>2</th>\n",
       "      <td>9.377778</td>\n",
       "      <td>9.377778</td>\n",
       "      <td>0.89</td>\n",
       "      <td>3.9284</td>\n",
       "      <td>204.0</td>\n",
       "      <td>14.9569</td>\n",
       "      <td>1015.94</td>\n",
       "    </tr>\n",
       "    <tr>\n",
       "      <th>3</th>\n",
       "      <td>8.288889</td>\n",
       "      <td>5.944444</td>\n",
       "      <td>0.83</td>\n",
       "      <td>14.1036</td>\n",
       "      <td>269.0</td>\n",
       "      <td>15.8263</td>\n",
       "      <td>1016.41</td>\n",
       "    </tr>\n",
       "    <tr>\n",
       "      <th>4</th>\n",
       "      <td>8.755556</td>\n",
       "      <td>6.977778</td>\n",
       "      <td>0.83</td>\n",
       "      <td>11.0446</td>\n",
       "      <td>259.0</td>\n",
       "      <td>15.8263</td>\n",
       "      <td>1016.51</td>\n",
       "    </tr>\n",
       "  </tbody>\n",
       "</table>\n",
       "</div>"
      ],
      "text/plain": [
       "   Temperature (C)  Apparent Temperature (C)  Humidity  Wind Speed (km/h)  \\\n",
       "0         9.472222                  7.388889      0.89            14.1197   \n",
       "1         9.355556                  7.227778      0.86            14.2646   \n",
       "2         9.377778                  9.377778      0.89             3.9284   \n",
       "3         8.288889                  5.944444      0.83            14.1036   \n",
       "4         8.755556                  6.977778      0.83            11.0446   \n",
       "\n",
       "   Wind Bearing (degrees)  Visibility (km)  Pressure (millibars)  \n",
       "0                   251.0          15.8263               1015.13  \n",
       "1                   259.0          15.8263               1015.63  \n",
       "2                   204.0          14.9569               1015.94  \n",
       "3                   269.0          15.8263               1016.41  \n",
       "4                   259.0          15.8263               1016.51  "
      ]
     },
     "execution_count": 5,
     "metadata": {},
     "output_type": "execute_result"
    }
   ],
   "source": [
    "dataframe = dataframe.drop(['Formatted Date', 'Summary', 'Precip Type', 'Loud Cover', 'Daily Summary'], axis=1)\n",
    "dataframe.head()"
   ]
  },
  {
   "cell_type": "code",
   "execution_count": 6,
   "metadata": {},
   "outputs": [],
   "source": [
    "new_columns = {'Temperature (C)':'x1', 'Apparent Temperature (C)':'y', 'Humidity':'x2', 'Wind Speed (km/h)':'x3',\n",
    "          'Wind Bearing (degrees)':'x4', 'Visibility (km)':'x5', 'Pressure (millibars)':'x6'}"
   ]
  },
  {
   "cell_type": "code",
   "execution_count": 7,
   "metadata": {},
   "outputs": [],
   "source": [
    "dataframe.rename(columns=new_columns, inplace=True)"
   ]
  },
  {
   "cell_type": "code",
   "execution_count": 8,
   "metadata": {
    "scrolled": true
   },
   "outputs": [
    {
     "data": {
      "text/html": [
       "<div>\n",
       "<style scoped>\n",
       "    .dataframe tbody tr th:only-of-type {\n",
       "        vertical-align: middle;\n",
       "    }\n",
       "\n",
       "    .dataframe tbody tr th {\n",
       "        vertical-align: top;\n",
       "    }\n",
       "\n",
       "    .dataframe thead th {\n",
       "        text-align: right;\n",
       "    }\n",
       "</style>\n",
       "<table border=\"1\" class=\"dataframe\">\n",
       "  <thead>\n",
       "    <tr style=\"text-align: right;\">\n",
       "      <th></th>\n",
       "      <th>count</th>\n",
       "      <th>mean</th>\n",
       "      <th>std</th>\n",
       "      <th>min</th>\n",
       "      <th>25%</th>\n",
       "      <th>50%</th>\n",
       "      <th>75%</th>\n",
       "      <th>max</th>\n",
       "    </tr>\n",
       "  </thead>\n",
       "  <tbody>\n",
       "    <tr>\n",
       "      <th>x1</th>\n",
       "      <td>96453.0</td>\n",
       "      <td>11.932678</td>\n",
       "      <td>9.551546</td>\n",
       "      <td>-21.822222</td>\n",
       "      <td>4.688889</td>\n",
       "      <td>12.0000</td>\n",
       "      <td>18.838889</td>\n",
       "      <td>39.905556</td>\n",
       "    </tr>\n",
       "    <tr>\n",
       "      <th>y</th>\n",
       "      <td>96453.0</td>\n",
       "      <td>10.855029</td>\n",
       "      <td>10.696847</td>\n",
       "      <td>-27.716667</td>\n",
       "      <td>2.311111</td>\n",
       "      <td>12.0000</td>\n",
       "      <td>18.838889</td>\n",
       "      <td>39.344444</td>\n",
       "    </tr>\n",
       "    <tr>\n",
       "      <th>x2</th>\n",
       "      <td>96453.0</td>\n",
       "      <td>0.734899</td>\n",
       "      <td>0.195473</td>\n",
       "      <td>0.000000</td>\n",
       "      <td>0.600000</td>\n",
       "      <td>0.7800</td>\n",
       "      <td>0.890000</td>\n",
       "      <td>1.000000</td>\n",
       "    </tr>\n",
       "    <tr>\n",
       "      <th>x3</th>\n",
       "      <td>96453.0</td>\n",
       "      <td>10.810640</td>\n",
       "      <td>6.913571</td>\n",
       "      <td>0.000000</td>\n",
       "      <td>5.828200</td>\n",
       "      <td>9.9659</td>\n",
       "      <td>14.135800</td>\n",
       "      <td>63.852600</td>\n",
       "    </tr>\n",
       "    <tr>\n",
       "      <th>x4</th>\n",
       "      <td>96453.0</td>\n",
       "      <td>187.509232</td>\n",
       "      <td>107.383428</td>\n",
       "      <td>0.000000</td>\n",
       "      <td>116.000000</td>\n",
       "      <td>180.0000</td>\n",
       "      <td>290.000000</td>\n",
       "      <td>359.000000</td>\n",
       "    </tr>\n",
       "    <tr>\n",
       "      <th>x5</th>\n",
       "      <td>96453.0</td>\n",
       "      <td>10.347325</td>\n",
       "      <td>4.192123</td>\n",
       "      <td>0.000000</td>\n",
       "      <td>8.339800</td>\n",
       "      <td>10.0464</td>\n",
       "      <td>14.812000</td>\n",
       "      <td>16.100000</td>\n",
       "    </tr>\n",
       "    <tr>\n",
       "      <th>x6</th>\n",
       "      <td>96453.0</td>\n",
       "      <td>1003.235956</td>\n",
       "      <td>116.969906</td>\n",
       "      <td>0.000000</td>\n",
       "      <td>1011.900000</td>\n",
       "      <td>1016.4500</td>\n",
       "      <td>1021.090000</td>\n",
       "      <td>1046.380000</td>\n",
       "    </tr>\n",
       "  </tbody>\n",
       "</table>\n",
       "</div>"
      ],
      "text/plain": [
       "      count         mean         std        min          25%        50%  \\\n",
       "x1  96453.0    11.932678    9.551546 -21.822222     4.688889    12.0000   \n",
       "y   96453.0    10.855029   10.696847 -27.716667     2.311111    12.0000   \n",
       "x2  96453.0     0.734899    0.195473   0.000000     0.600000     0.7800   \n",
       "x3  96453.0    10.810640    6.913571   0.000000     5.828200     9.9659   \n",
       "x4  96453.0   187.509232  107.383428   0.000000   116.000000   180.0000   \n",
       "x5  96453.0    10.347325    4.192123   0.000000     8.339800    10.0464   \n",
       "x6  96453.0  1003.235956  116.969906   0.000000  1011.900000  1016.4500   \n",
       "\n",
       "            75%          max  \n",
       "x1    18.838889    39.905556  \n",
       "y     18.838889    39.344444  \n",
       "x2     0.890000     1.000000  \n",
       "x3    14.135800    63.852600  \n",
       "x4   290.000000   359.000000  \n",
       "x5    14.812000    16.100000  \n",
       "x6  1021.090000  1046.380000  "
      ]
     },
     "execution_count": 8,
     "metadata": {},
     "output_type": "execute_result"
    }
   ],
   "source": [
    "dataframe.describe().T"
   ]
  },
  {
   "cell_type": "code",
   "execution_count": 9,
   "metadata": {},
   "outputs": [
    {
     "data": {
      "text/plain": [
       "x1    0\n",
       "y     0\n",
       "x2    0\n",
       "x3    0\n",
       "x4    0\n",
       "x5    0\n",
       "x6    0\n",
       "dtype: int64"
      ]
     },
     "execution_count": 9,
     "metadata": {},
     "output_type": "execute_result"
    }
   ],
   "source": [
    "dataframe.isna().sum()"
   ]
  },
  {
   "cell_type": "code",
   "execution_count": null,
   "metadata": {},
   "outputs": [],
   "source": []
  },
  {
   "cell_type": "code",
   "execution_count": 10,
   "metadata": {},
   "outputs": [
    {
     "data": {
      "text/plain": [
       "<matplotlib.axes._subplots.AxesSubplot at 0x7f10a1ad4ba8>"
      ]
     },
     "execution_count": 10,
     "metadata": {},
     "output_type": "execute_result"
    },
    {
     "data": {
      "image/png": "[encoded data removed]",
      "text/plain": [
       "<Figure size 432x288 with 1 Axes>"
      ]
     },
     "metadata": {
      "needs_background": "light"
     },
     "output_type": "display_data"
    }
   ],
   "source": [
    "dataframe.boxplot()"
   ]
  },
  {
   "cell_type": "code",
   "execution_count": 11,
   "metadata": {},
   "outputs": [],
   "source": [
    "# dataframe = dataframe.head(500)"
   ]
  },
  {
   "cell_type": "code",
   "execution_count": 12,
   "metadata": {},
   "outputs": [
    {
     "data": {
      "text/html": [
       "<div>\n",
       "<style scoped>\n",
       "    .dataframe tbody tr th:only-of-type {\n",
       "        vertical-align: middle;\n",
       "    }\n",
       "\n",
       "    .dataframe tbody tr th {\n",
       "        vertical-align: top;\n",
       "    }\n",
       "\n",
       "    .dataframe thead th {\n",
       "        text-align: right;\n",
       "    }\n",
       "</style>\n",
       "<table border=\"1\" class=\"dataframe\">\n",
       "  <thead>\n",
       "    <tr style=\"text-align: right;\">\n",
       "      <th></th>\n",
       "      <th>count</th>\n",
       "      <th>mean</th>\n",
       "      <th>std</th>\n",
       "      <th>min</th>\n",
       "      <th>25%</th>\n",
       "      <th>50%</th>\n",
       "      <th>75%</th>\n",
       "      <th>max</th>\n",
       "    </tr>\n",
       "  </thead>\n",
       "  <tbody>\n",
       "    <tr>\n",
       "      <th>x1</th>\n",
       "      <td>96453.0</td>\n",
       "      <td>11.932678</td>\n",
       "      <td>9.551546</td>\n",
       "      <td>-21.822222</td>\n",
       "      <td>4.688889</td>\n",
       "      <td>12.0000</td>\n",
       "      <td>18.838889</td>\n",
       "      <td>39.905556</td>\n",
       "    </tr>\n",
       "    <tr>\n",
       "      <th>y</th>\n",
       "      <td>96453.0</td>\n",
       "      <td>10.855029</td>\n",
       "      <td>10.696847</td>\n",
       "      <td>-27.716667</td>\n",
       "      <td>2.311111</td>\n",
       "      <td>12.0000</td>\n",
       "      <td>18.838889</td>\n",
       "      <td>39.344444</td>\n",
       "    </tr>\n",
       "    <tr>\n",
       "      <th>x2</th>\n",
       "      <td>96453.0</td>\n",
       "      <td>0.734899</td>\n",
       "      <td>0.195473</td>\n",
       "      <td>0.000000</td>\n",
       "      <td>0.600000</td>\n",
       "      <td>0.7800</td>\n",
       "      <td>0.890000</td>\n",
       "      <td>1.000000</td>\n",
       "    </tr>\n",
       "    <tr>\n",
       "      <th>x3</th>\n",
       "      <td>96453.0</td>\n",
       "      <td>10.810640</td>\n",
       "      <td>6.913571</td>\n",
       "      <td>0.000000</td>\n",
       "      <td>5.828200</td>\n",
       "      <td>9.9659</td>\n",
       "      <td>14.135800</td>\n",
       "      <td>63.852600</td>\n",
       "    </tr>\n",
       "    <tr>\n",
       "      <th>x4</th>\n",
       "      <td>96453.0</td>\n",
       "      <td>187.509232</td>\n",
       "      <td>107.383428</td>\n",
       "      <td>0.000000</td>\n",
       "      <td>116.000000</td>\n",
       "      <td>180.0000</td>\n",
       "      <td>290.000000</td>\n",
       "      <td>359.000000</td>\n",
       "    </tr>\n",
       "    <tr>\n",
       "      <th>x5</th>\n",
       "      <td>96453.0</td>\n",
       "      <td>10.347325</td>\n",
       "      <td>4.192123</td>\n",
       "      <td>0.000000</td>\n",
       "      <td>8.339800</td>\n",
       "      <td>10.0464</td>\n",
       "      <td>14.812000</td>\n",
       "      <td>16.100000</td>\n",
       "    </tr>\n",
       "    <tr>\n",
       "      <th>x6</th>\n",
       "      <td>96453.0</td>\n",
       "      <td>1003.235956</td>\n",
       "      <td>116.969906</td>\n",
       "      <td>0.000000</td>\n",
       "      <td>1011.900000</td>\n",
       "      <td>1016.4500</td>\n",
       "      <td>1021.090000</td>\n",
       "      <td>1046.380000</td>\n",
       "    </tr>\n",
       "  </tbody>\n",
       "</table>\n",
       "</div>"
      ],
      "text/plain": [
       "      count         mean         std        min          25%        50%  \\\n",
       "x1  96453.0    11.932678    9.551546 -21.822222     4.688889    12.0000   \n",
       "y   96453.0    10.855029   10.696847 -27.716667     2.311111    12.0000   \n",
       "x2  96453.0     0.734899    0.195473   0.000000     0.600000     0.7800   \n",
       "x3  96453.0    10.810640    6.913571   0.000000     5.828200     9.9659   \n",
       "x4  96453.0   187.509232  107.383428   0.000000   116.000000   180.0000   \n",
       "x5  96453.0    10.347325    4.192123   0.000000     8.339800    10.0464   \n",
       "x6  96453.0  1003.235956  116.969906   0.000000  1011.900000  1016.4500   \n",
       "\n",
       "            75%          max  \n",
       "x1    18.838889    39.905556  \n",
       "y     18.838889    39.344444  \n",
       "x2     0.890000     1.000000  \n",
       "x3    14.135800    63.852600  \n",
       "x4   290.000000   359.000000  \n",
       "x5    14.812000    16.100000  \n",
       "x6  1021.090000  1046.380000  "
      ]
     },
     "execution_count": 12,
     "metadata": {},
     "output_type": "execute_result"
    }
   ],
   "source": [
    "dataframe.describe().T"
   ]
  },
  {
   "cell_type": "code",
   "execution_count": 13,
   "metadata": {},
   "outputs": [
    {
     "data": {
      "text/plain": [
       "<matplotlib.axes._subplots.AxesSubplot at 0x7f109ffb79b0>"
      ]
     },
     "execution_count": 13,
     "metadata": {},
     "output_type": "execute_result"
    },
    {
     "data": {
      "image/png": "[encoded data removed]",
      "text/plain": [
       "<Figure size 432x288 with 1 Axes>"
      ]
     },
     "metadata": {
      "needs_background": "light"
     },
     "output_type": "display_data"
    }
   ],
   "source": [
    "dataframe.boxplot()\n"
   ]
  },
  {
   "cell_type": "code",
   "execution_count": 14,
   "metadata": {},
   "outputs": [],
   "source": [
    "# Separating the output and the parameters data frame\n",
    "def separate(dataframe):\n",
    "    output = dataframe.y\n",
    "    return dataframe.drop('y', axis=1), output"
   ]
  },
  {
   "cell_type": "code",
   "execution_count": 15,
   "metadata": {},
   "outputs": [],
   "source": [
    "# dataframe = dataframe[(dataframe >= dataframe.quantile(0.25)) & (dataframe<dataframe.quantile(0.75))]\n",
    "# fucntion to get \n",
    "def remove_outlier(dataframe):\n",
    "    dataframe = dataframe[np.abs(dataframe - dataframe.mean()) <= (3 * dataframe.std())]\n",
    "    return dataframe"
   ]
  },
  {
   "cell_type": "code",
   "execution_count": 16,
   "metadata": {},
   "outputs": [],
   "source": [
    "def split(dataframe):\n",
    "    test_data = dataframe.tail(30).reset_index(drop=True)\n",
    "    return dataframe.head(len(dataframe)-30), test_data"
   ]
  },
  {
   "cell_type": "code",
   "execution_count": 17,
   "metadata": {},
   "outputs": [],
   "source": [
    "# using min max\n",
    "def feature_scaling_column(dataframe, column_scaling):\n",
    "    mean_of_col = dataframe[column_scaling].mean()\n",
    "    std_of_col = dataframe[column_scaling].std()\n",
    "    print('for col= {} mean= {} and std={} '.format(column_scaling,mean_of_col,std_of_col))\n",
    "    for counter in range(0, len(dataframe)):\n",
    "        dataframe.loc[counter, column_scaling] =  ((dataframe.loc[counter, column_scaling] - mean_of_col) / std_of_col)\n",
    "    print(\"successfully scaled column \",column_scaling)\n",
    "    return dataframe"
   ]
  },
  {
   "cell_type": "code",
   "execution_count": 18,
   "metadata": {},
   "outputs": [],
   "source": [
    "Ypred = pd.Series(np.zeros(len(dataframe)))\n"
   ]
  },
  {
   "cell_type": "code",
   "execution_count": 19,
   "metadata": {},
   "outputs": [],
   "source": [
    "dataframe = remove_outlier(dataframe)"
   ]
  },
  {
   "cell_type": "code",
   "execution_count": 20,
   "metadata": {},
   "outputs": [
    {
     "data": {
      "text/plain": [
       "<matplotlib.axes._subplots.AxesSubplot at 0x7f109fed0710>"
      ]
     },
     "execution_count": 20,
     "metadata": {},
     "output_type": "execute_result"
    },
    {
     "data": {
      "image/png": "[encoded data removed]",
      "text/plain": [
       "<Figure size 432x288 with 1 Axes>"
      ]
     },
     "metadata": {
      "needs_background": "light"
     },
     "output_type": "display_data"
    }
   ],
   "source": [
    "dataframe.boxplot()"
   ]
  },
  {
   "cell_type": "code",
   "execution_count": 21,
   "metadata": {},
   "outputs": [
    {
     "data": {
      "text/plain": [
       "x1      39\n",
       "y       40\n",
       "x2      28\n",
       "x3    1208\n",
       "x4       0\n",
       "x5       0\n",
       "x6    1288\n",
       "dtype: int64"
      ]
     },
     "execution_count": 21,
     "metadata": {},
     "output_type": "execute_result"
    }
   ],
   "source": [
    "dataframe.isna().sum()"
   ]
  },
  {
   "cell_type": "code",
   "execution_count": 22,
   "metadata": {},
   "outputs": [],
   "source": [
    "dataframe = dataframe.dropna()\n",
    "dataframe = dataframe.reset_index(drop=True)"
   ]
  },
  {
   "cell_type": "code",
   "execution_count": null,
   "metadata": {},
   "outputs": [],
   "source": []
  },
  {
   "cell_type": "code",
   "execution_count": 23,
   "metadata": {},
   "outputs": [],
   "source": [
    "# fig = plt.figure()\n",
    "# fig, (ax0, ax1, ax2, ax3) = plt.subplots(nrows=4, ncols=1, figsize=(5, 10))\n",
    "# s = np.array(np.random.rand(20))\n",
    "# for i in range(20):\n",
    "#     ax1.scatter(i,s[i])\n",
    "\n",
    "# ax1.plot([0,3],[0,4])\n",
    "# plt.show()"
   ]
  },
  {
   "cell_type": "code",
   "execution_count": 24,
   "metadata": {},
   "outputs": [],
   "source": [
    "class Multi_Linear_Regression():\n",
    "    \n",
    "    \n",
    "    def __init__(self):\n",
    "        self.learning_rate = 0.001\n",
    "        self.iteration = 10000\n",
    "        self.ncols=6\n",
    "        self.fig = plt.figure()\n",
    "        self.fig, (self.ax1, self.ax2, self.ax3,self.ax4) = plt.subplots(nrows=4, ncols=1, figsize=(5, 10))\n",
    "        \n",
    "    def train(self, dataframe, output):\n",
    "        weights = np.full(self.ncols,1.0)\n",
    "        dframe_size = dataframe.shape[0]\n",
    "        bais = 1.0\n",
    "\n",
    "        # Ypred = (dataframe.x1*weight1 + dataframe.x2*weight2 + dataframe.x3*weight3+ dataframe.x4*weight4 + dataframe.x5*weight5 + bais)\n",
    "        \n",
    "        self.ax1.scatter(np.linspace(np.min(output),np.max(output),len(output)),output\n",
    "                         , marker='+', color='g')\n",
    "        self.ax1.set_title('points scarttered')\n",
    "        \n",
    "        for iterations in range(0, self.iteration):\n",
    "            Ypred = self.classify(dataframe, weights,bais)\n",
    "            diff = Ypred-output\n",
    "            # cost = sum(y^ -y)**2)/2m\n",
    "            cost = np.sum((diff)**2)/(2*dframe_size)\n",
    "            if(iterations%100==0):\n",
    "                print('In training iteration: {}, cost {}, bais:{}, weights:{}'\n",
    "                      .format(iterations, cost,bais,weights))\n",
    "            if(Ypred.isna().sum()>=1 or output.isna().sum()>=1 or bais == (-np.inf)):\n",
    "                print('In training iteration: {}, Ypred.isna().sum(): {}, output.isna().sum(): {}, bais:{}, weights:{}'.format(iterations,Ypred.isna().sum(),output.isna().sum(),bais,weights))\n",
    "                print(Ypred)\n",
    "                return weights, bais\n",
    "            \n",
    "            if(iterations%10==0):\n",
    "                self.ax2.plot(iterations,cost, markersize=0.3, marker='x', color='r')\n",
    "                self.ax2.set_title('iteration vs cost')\n",
    "                self.ax3.plot(bais,cost, markersize=0.3, marker = '+', color='#42f48c')\n",
    "                self.ax3.set_title('bais vs cost')\n",
    "#             print('iteration {} diff{} '.format(iterations,np.sum(diff)))\n",
    "            for counter1 in range(0, self.ncols):\n",
    "                weights[counter1] -= self.learning_rate*(np.sum(np.multiply(\n",
    "                                                    diff,dataframe.iloc[:,counter1])))/dframe_size\n",
    "            bais -= self.learning_rate*(np.sum(diff)/dframe_size)\n",
    "            \n",
    "        return weights, bais\n",
    "        \n",
    "    def classify(self, dataframe, weights, bais):\n",
    "        Ypred = pd.Series(np.zeros(len(dataframe)))\n",
    "        dframe_size = len(dataframe)\n",
    "        for counter1 in range(0, dframe_size):\n",
    "            for counter2 in range(0, self.ncols):\n",
    "                Ypred[counter1] += weights[counter2]*dataframe.iloc[counter1, counter2]\n",
    "        Ypred = np.add(bais,Ypred)\n",
    "        return Ypred\n",
    "        \n",
    "    def accuracy(self,Ypred, y_output):\n",
    "        for counter in range(0, len(Ypred)):\n",
    "            Ypred[counter]= abs(Ypred[counter]-y_output[counter])/y_output[counter]\n",
    "#         Ypred = np.divide(abs(Ypred-y_output),y_output)\n",
    "        self.ax4.scatter(Ypred,y_output, marker='+',color='g')\n",
    "        plt.subplots_adjust(hspace=0.5, wspace = 0.5)\n",
    "        plt.show()\n",
    "        self.ax4.set_title(\"predicted values vs original output\")\n",
    "        error = abs(np.sum(Ypred))/len(Ypred)\n",
    "        return (1-error)*100\n",
    "                "
   ]
  },
  {
   "cell_type": "code",
   "execution_count": 25,
   "metadata": {},
   "outputs": [],
   "source": [
    "def main(dataframe, test_data):\n",
    "    dataframe, output = separate(dataframe)\n",
    "    regression_object = Multi_Linear_Regression()\n",
    "    # feature Scaling:\n",
    "    weights, bais = regression_object.train(dataframe,output)\n",
    "    print(weights,bais)\n",
    "    test_data, output = separate(test_data)\n",
    "    Ypred = regression_object.classify(test_data, weights, bais)\n",
    "    print(\"Accuracy = \", regression_object.accuracy(Ypred,output)) "
   ]
  },
  {
   "cell_type": "code",
   "execution_count": 26,
   "metadata": {},
   "outputs": [],
   "source": [
    "# plt.plot(np.random.rand(20))"
   ]
  },
  {
   "cell_type": "code",
   "execution_count": 27,
   "metadata": {},
   "outputs": [],
   "source": [
    "# np.add(4,dataframe)"
   ]
  },
  {
   "cell_type": "code",
   "execution_count": 28,
   "metadata": {},
   "outputs": [],
   "source": [
    "dataframe, test_data = split(dataframe)"
   ]
  },
  {
   "cell_type": "code",
   "execution_count": 29,
   "metadata": {
    "scrolled": true
   },
   "outputs": [
    {
     "name": "stdout",
     "output_type": "stream",
     "text": [
      "for col= x1 mean= 11.998267206334004 and std=9.538730704726829 \n",
      "successfully scaled column  x1\n",
      "for col= y mean= 10.956314581077349 and std=10.653994457266872 \n",
      "successfully scaled column  y\n",
      "for col= x2 mean= 0.7362855621238208 and std=0.19521801049375423 \n",
      "successfully scaled column  x2\n",
      "for col= x3 mean= 10.473461653085485 and std=6.320321796304927 \n",
      "successfully scaled column  x3\n",
      "for col= x4 mean= 186.8852319326836 and std=107.34909281199798 \n",
      "successfully scaled column  x4\n",
      "for col= x5 mean= 10.378883820628877 and std=4.196293896400629 \n",
      "successfully scaled column  x5\n",
      "for col= x6 mean= 1016.8776820578498 and std=7.724952882060306 \n",
      "successfully scaled column  x6\n"
     ]
    }
   ],
   "source": [
    "for item in dataframe:\n",
    "    dataframe = feature_scaling_column(dataframe, item)"
   ]
  },
  {
   "cell_type": "code",
   "execution_count": 2095,
   "metadata": {},
   "outputs": [],
   "source": [
    "# from IPython.core.debugger import Tracer; Tracer()()\n",
    "# dataframe.isnan().sum()\n"
   ]
  },
  {
   "cell_type": "code",
   "execution_count": null,
   "metadata": {},
   "outputs": [
    {
     "name": "stdout",
     "output_type": "stream",
     "text": [
      "In training iteration: 0, cost 2.2381265613344046, bais:1.0, weights:[1. 1. 1. 1. 1. 1.]\n",
      "In training iteration: 100, cost 1.8851419240897431, bais:0.9047921471137697, weights:[1.04707932 0.95972512 0.92429794 0.89881748 0.93898967 0.94809257]\n",
      "In training iteration: 200, cost 1.5917030224565611, bais:0.8186488294787487, weights:[1.08847588 0.92256047 0.85512852 0.80767197 0.88113945 0.89929055]\n",
      "In training iteration: 300, cost 1.3473843625476305, bais:0.7407070321562574, weights:[1.12483884 0.88811224 0.79190116 0.72557723 0.82639242 0.85338935]\n",
      "In training iteration: 400, cost 1.1436396641904916, bais:0.6701859060069365, weights:[1.15673418 0.85604771 0.73407644 0.65164297 0.77466845 0.81020252]\n",
      "In training iteration: 500, cost 0.9734530793290086, bais:0.6063789448614131, weights:[1.18465694 0.82608506 0.68116247 0.58506569 0.72587065 0.76955899]\n",
      "In training iteration: 600, cost 0.8310574204708604, bais:0.5486469074857523, weights:[1.20904139 0.79798484 0.63271127 0.52512038 0.67989046 0.7313009 ]\n",
      "In training iteration: 700, cost 0.7117059348916501, bais:0.496411413431377, weights:[1.23026958 0.77154301 0.58831529 0.47115297 0.63661162 0.6952818 ]\n",
      "In training iteration: 800, cost 0.6114870314070807, bais:0.4491491486103717, weights:[1.24867859 0.74658514 0.5476041  0.42257348 0.5959134  0.66136536]\n",
      "In training iteration: 900, cost 0.5271735774040665, bais:0.40638662254551555, weights:[1.26456659 0.72296164 0.51024131 0.37884982 0.55767301 0.6294242 ]\n",
      "In training iteration: 1000, cost 0.45610010002831947, bais:0.36769542477128686, weights:[1.278198   0.70054378 0.47592159 0.33950215 0.52176753 0.59933899]\n",
      "In training iteration: 1100, cost 0.3960625672452257, bais:0.3326879328627395, weights:[1.28980787 0.67922036 0.44436798 0.30409782 0.4880754  0.57099777]\n",
      "In training iteration: 1200, cost 0.3452364802803372, bais:0.3010134290937375, weights:[1.29960558 0.65889501 0.41532937 0.27224675 0.45647748 0.54429531]\n",
      "In training iteration: 1300, cost 0.3021098443133335, bais:0.2723545868198199, weights:[1.30777809 0.63948387 0.38857811 0.24359726 0.42685788 0.51913258]\n",
      "In training iteration: 1400, cost 0.2654282484707604, bais:0.24642429138500702, weights:[1.31449259 0.62091369 0.36390793 0.21783233 0.39910457 0.49541639]\n",
      "In training iteration: 1500, cost 0.23414981643954536, bais:0.22296276370324883, weights:[1.31989893 0.60312025 0.34113195 0.19466616 0.37310976 0.47305894]\n",
      "In training iteration: 1600, cost 0.2074082139317845, bais:0.2017349576975018, weights:[1.32413158 0.58604698 0.32008084 0.17384118 0.34877018 0.45197755]\n",
      "In training iteration: 1700, cost 0.18448224077247571, bais:0.18252820552304752, weights:[1.32731143 0.56964387 0.30060122 0.15512518 0.3259872  0.43209433]\n",
      "In training iteration: 1800, cost 0.16477081065298432, bais:0.16515008698404102, weights:[1.32954727 0.55386654 0.28255413 0.1383089  0.30466692 0.41333594]\n",
      "In training iteration: 1900, cost 0.14777234397124028, bais:0.14942650179833566, weights:[1.33093719 0.5386754  0.26581367 0.12320372 0.28472016 0.39563331]\n",
      "In training iteration: 2000, cost 0.13306777919395824, bais:0.13519992539783507, weights:[1.33156965 0.52403503 0.25026578 0.10963964 0.26606238 0.37892148]\n",
      "In training iteration: 2100, cost 0.12030655415728334, bais:0.12232783079034804, weights:[1.33152457 0.50991356 0.23580707 0.09746345 0.24861359 0.36313931]\n",
      "In training iteration: 2200, cost 0.10919502729143193, bais:0.11068126067258803, weights:[1.3308742  0.49628225 0.22234384 0.08653708 0.23229823 0.34822932]\n",
      "In training iteration: 2300, cost 0.0994869051954092, bais:0.10014353548922876, weights:[1.32968389 0.48311502 0.20979113 0.07673608 0.21704503 0.3341375 ]\n"
     ]
    }
   ],
   "source": [
    "main(dataframe,test_data)"
   ]
  },
  {
   "cell_type": "code",
   "execution_count": null,
   "metadata": {},
   "outputs": [],
   "source": []
  },
  {
   "cell_type": "code",
   "execution_count": null,
   "metadata": {},
   "outputs": [],
   "source": [
    "yd = pd.Series(dataframe.x1)"
   ]
  },
  {
   "cell_type": "code",
   "execution_count": null,
   "metadata": {},
   "outputs": [],
   "source": []
  },
  {
   "cell_type": "code",
   "execution_count": null,
   "metadata": {},
   "outputs": [],
   "source": [
    "yd.head()"
   ]
  },
  {
   "cell_type": "code",
   "execution_count": 2099,
   "metadata": {},
   "outputs": [
    {
     "data": {
      "text/html": [
       "<div>\n",
       "<style scoped>\n",
       "    .dataframe tbody tr th:only-of-type {\n",
       "        vertical-align: middle;\n",
       "    }\n",
       "\n",
       "    .dataframe tbody tr th {\n",
       "        vertical-align: top;\n",
       "    }\n",
       "\n",
       "    .dataframe thead th {\n",
       "        text-align: right;\n",
       "    }\n",
       "</style>\n",
       "<table border=\"1\" class=\"dataframe\">\n",
       "  <thead>\n",
       "    <tr style=\"text-align: right;\">\n",
       "      <th></th>\n",
       "      <th>Temperature (C)</th>\n",
       "      <th>Apparent Temperature (C)</th>\n",
       "      <th>Humidity</th>\n",
       "      <th>Wind Speed (km/h)</th>\n",
       "      <th>Wind Bearing (degrees)</th>\n",
       "      <th>Visibility (km)</th>\n",
       "      <th>Pressure (millibars)</th>\n",
       "    </tr>\n",
       "  </thead>\n",
       "  <tbody>\n",
       "    <tr>\n",
       "      <th>0</th>\n",
       "      <td>9.472222</td>\n",
       "      <td>7.388889</td>\n",
       "      <td>0.89</td>\n",
       "      <td>14.1197</td>\n",
       "      <td>251.0</td>\n",
       "      <td>15.8263</td>\n",
       "      <td>1015.13</td>\n",
       "    </tr>\n",
       "    <tr>\n",
       "      <th>1</th>\n",
       "      <td>9.355556</td>\n",
       "      <td>7.227778</td>\n",
       "      <td>0.86</td>\n",
       "      <td>14.2646</td>\n",
       "      <td>259.0</td>\n",
       "      <td>15.8263</td>\n",
       "      <td>1015.63</td>\n",
       "    </tr>\n",
       "    <tr>\n",
       "      <th>2</th>\n",
       "      <td>9.377778</td>\n",
       "      <td>9.377778</td>\n",
       "      <td>0.89</td>\n",
       "      <td>3.9284</td>\n",
       "      <td>204.0</td>\n",
       "      <td>14.9569</td>\n",
       "      <td>1015.94</td>\n",
       "    </tr>\n",
       "    <tr>\n",
       "      <th>3</th>\n",
       "      <td>8.288889</td>\n",
       "      <td>5.944444</td>\n",
       "      <td>0.83</td>\n",
       "      <td>14.1036</td>\n",
       "      <td>269.0</td>\n",
       "      <td>15.8263</td>\n",
       "      <td>1016.41</td>\n",
       "    </tr>\n",
       "    <tr>\n",
       "      <th>4</th>\n",
       "      <td>8.755556</td>\n",
       "      <td>6.977778</td>\n",
       "      <td>0.83</td>\n",
       "      <td>11.0446</td>\n",
       "      <td>259.0</td>\n",
       "      <td>15.8263</td>\n",
       "      <td>1016.51</td>\n",
       "    </tr>\n",
       "  </tbody>\n",
       "</table>\n",
       "</div>"
      ],
      "text/plain": [
       "   Temperature (C)  Apparent Temperature (C)  Humidity  Wind Speed (km/h)  \\\n",
       "0         9.472222                  7.388889      0.89            14.1197   \n",
       "1         9.355556                  7.227778      0.86            14.2646   \n",
       "2         9.377778                  9.377778      0.89             3.9284   \n",
       "3         8.288889                  5.944444      0.83            14.1036   \n",
       "4         8.755556                  6.977778      0.83            11.0446   \n",
       "\n",
       "   Wind Bearing (degrees)  Visibility (km)  Pressure (millibars)  \n",
       "0                   251.0          15.8263               1015.13  \n",
       "1                   259.0          15.8263               1015.63  \n",
       "2                   204.0          14.9569               1015.94  \n",
       "3                   269.0          15.8263               1016.41  \n",
       "4                   259.0          15.8263               1016.51  "
      ]
     },
     "execution_count": 2099,
     "metadata": {},
     "output_type": "execute_result"
    }
   ],
   "source": [
    "dataframe.head()"
   ]
  },
  {
   "cell_type": "code",
   "execution_count": 1,
   "metadata": {},
   "outputs": [],
   "source": [
    "# import pandas as pd\n",
    "# import numpy as np\n",
    "# dataframe = pd.read_csv(\"weatherHistory.csv\")\n",
    "# X = dataframe.drop(columns=\"Apparent Temperature (C)\")\n",
    "# y = dataframe[\"Apparent Temperature (C)\"]"
   ]
  },
  {
   "cell_type": "code",
   "execution_count": 2,
   "metadata": {},
   "outputs": [],
   "source": [
    "# from sklearn.preprocessing import MinMaxScaler\n"
   ]
  },
  {
   "cell_type": "code",
   "execution_count": 5,
   "metadata": {},
   "outputs": [
    {
     "name": "stdout",
     "output_type": "stream",
     "text": [
      "/bin/sh: 1: /home/admin1/PycharmProjects/Machine: not found\n",
      "Note: you may need to restart the kernel to use updated packages.\n"
     ]
    }
   ],
   "source": []
  },
  {
   "cell_type": "code",
   "execution_count": 26,
   "metadata": {},
   "outputs": [
    {
     "data": {
      "text/html": [
       "<div>\n",
       "<style scoped>\n",
       "    .dataframe tbody tr th:only-of-type {\n",
       "        vertical-align: middle;\n",
       "    }\n",
       "\n",
       "    .dataframe tbody tr th {\n",
       "        vertical-align: top;\n",
       "    }\n",
       "\n",
       "    .dataframe thead th {\n",
       "        text-align: right;\n",
       "    }\n",
       "</style>\n",
       "<table border=\"1\" class=\"dataframe\">\n",
       "  <thead>\n",
       "    <tr style=\"text-align: right;\">\n",
       "      <th></th>\n",
       "      <th>x1</th>\n",
       "      <th>x2</th>\n",
       "      <th>x3</th>\n",
       "      <th>x4</th>\n",
       "      <th>x5</th>\n",
       "      <th>x6</th>\n",
       "    </tr>\n",
       "  </thead>\n",
       "  <tbody>\n",
       "    <tr>\n",
       "      <th>0</th>\n",
       "      <td>9.472222</td>\n",
       "      <td>0.89</td>\n",
       "      <td>14.1197</td>\n",
       "      <td>251.0</td>\n",
       "      <td>15.8263</td>\n",
       "      <td>1015.13</td>\n",
       "    </tr>\n",
       "    <tr>\n",
       "      <th>1</th>\n",
       "      <td>9.355556</td>\n",
       "      <td>0.86</td>\n",
       "      <td>14.2646</td>\n",
       "      <td>259.0</td>\n",
       "      <td>15.8263</td>\n",
       "      <td>1015.63</td>\n",
       "    </tr>\n",
       "    <tr>\n",
       "      <th>2</th>\n",
       "      <td>9.377778</td>\n",
       "      <td>0.89</td>\n",
       "      <td>3.9284</td>\n",
       "      <td>204.0</td>\n",
       "      <td>14.9569</td>\n",
       "      <td>1015.94</td>\n",
       "    </tr>\n",
       "    <tr>\n",
       "      <th>3</th>\n",
       "      <td>8.288889</td>\n",
       "      <td>0.83</td>\n",
       "      <td>14.1036</td>\n",
       "      <td>269.0</td>\n",
       "      <td>15.8263</td>\n",
       "      <td>1016.41</td>\n",
       "    </tr>\n",
       "    <tr>\n",
       "      <th>4</th>\n",
       "      <td>8.755556</td>\n",
       "      <td>0.83</td>\n",
       "      <td>11.0446</td>\n",
       "      <td>259.0</td>\n",
       "      <td>15.8263</td>\n",
       "      <td>1016.51</td>\n",
       "    </tr>\n",
       "  </tbody>\n",
       "</table>\n",
       "</div>"
      ],
      "text/plain": [
       "         x1    x2       x3     x4       x5       x6\n",
       "0  9.472222  0.89  14.1197  251.0  15.8263  1015.13\n",
       "1  9.355556  0.86  14.2646  259.0  15.8263  1015.63\n",
       "2  9.377778  0.89   3.9284  204.0  14.9569  1015.94\n",
       "3  8.288889  0.83  14.1036  269.0  15.8263  1016.41\n",
       "4  8.755556  0.83  11.0446  259.0  15.8263  1016.51"
      ]
     },
     "execution_count": 26,
     "metadata": {},
     "output_type": "execute_result"
    }
   ],
   "source": [
    "# dataframe, output = separate(dataframe)\n",
    "\n",
    "# dataframe.head()"
   ]
  },
  {
   "cell_type": "code",
   "execution_count": null,
   "metadata": {},
   "outputs": [],
   "source": []
  },
  {
   "cell_type": "code",
   "execution_count": null,
   "metadata": {},
   "outputs": [],
   "source": []
  },
  {
   "cell_type": "code",
   "execution_count": null,
   "metadata": {},
   "outputs": [],
   "source": []
  },
  {
   "cell_type": "code",
   "execution_count": null,
   "metadata": {},
   "outputs": [],
   "source": []
  }
 ],
 "metadata": {
  "kernelspec": {
   "display_name": "Python 3",
   "language": "python",
   "name": "python3"
  },
  "language_info": {
   "codemirror_mode": {
    "name": "ipython",
    "version": 3
   },
   "file_extension": ".py",
   "mimetype": "text/x-python",
   "name": "python",
   "nbconvert_exporter": "python",
   "pygments_lexer": "ipython3",
   "version": "3.7.2"
  }
 },
 "nbformat": 4,
 "nbformat_minor": 2
}
