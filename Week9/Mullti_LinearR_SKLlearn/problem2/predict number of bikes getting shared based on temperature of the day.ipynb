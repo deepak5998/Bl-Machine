{
 "cells": [
  {
   "cell_type": "code",
   "execution_count": 99,
   "metadata": {},
   "outputs": [],
   "source": [
    "from sklearn.linear_model import LinearRegression\n",
    "from sklearn.preprocessing import StandardScaler as SS\n",
    "SS=SS()\n",
    "from sklearn.preprocessing import *\n",
    "# from sklearn \n",
    "import importlib.util\n",
    "import pandas as pd\n",
    "import numpy as np\n",
    "import matplotlib.pyplot as plt\n",
    "from mpl_toolkits.mplot3d import Axes3D\n",
    "import seaborn as sns\n",
    "from sklearn.metrics import *\n",
    "from sklearn.model_selection import train_test_split"
   ]
  },
  {
   "cell_type": "code",
   "execution_count": 130,
   "metadata": {},
   "outputs": [
    {
     "name": "stdout",
     "output_type": "stream",
     "text": [
      "Data PreProcessign object created successfully\n"
     ]
    }
   ],
   "source": [
    "spec = importlib.util.spec_from_file_location(\"DataPreprocessing\", \"/home/admin1/PycharmProjects/Machine_learning_Python/Utility/DataPreprocessing.py\")\n",
    "foo = importlib.util.module_from_spec(spec)\n",
    "spec.loader.exec_module(foo)\n",
    "preprocess_obj = foo.DataPreprocessing()"
   ]
  },
  {
   "cell_type": "code",
   "execution_count": 135,
   "metadata": {},
   "outputs": [],
   "source": [
    "def handle_missing_values(dataframe,cols):\n",
    "# inside preprocessing\n",
    "    imputer = Imputer(missing_values='NaN', strategy='mean', axis=0)\n",
    "    # strategy can be median or most_frequent\n",
    "    imputer.fit(dataframe.iloc[:,cols[0]])\n",
    "    for num in cols:\n",
    "        dataframe.iloc[:,num] = imputer.transform(dataframe.iloc[:,num])\n",
    "\n",
    "def one_hot_encoder(dataframe,cols):\n",
    "    l_encoder = LabelEncoder() # label encoder is in pre processing it'll convert \n",
    "    for col in cols:\n",
    "        l_encoder.fit_transform(dataframe[:,col])\n",
    "        # if there are only 2 variables in the category eg. yes or no then we do not do the one hot encoding as \n",
    "        one_encoder = OneHotEncoder(categorical_features=[col])# cols is the column to be one hod encoded\n",
    "        dataframe[:,col]=one_encoder.fit_transform(dataframe[:,col]).toarray()\n",
    "    return dataframe\n"
   ]
  },
  {
   "cell_type": "code",
   "execution_count": 101,
   "metadata": {},
   "outputs": [],
   "source": [
    "dataframe = pd.read_csv(\"Data/bike_sharing.csv\",sep=',')"
   ]
  },
  {
   "cell_type": "code",
   "execution_count": 102,
   "metadata": {},
   "outputs": [
    {
     "data": {
      "text/html": [
       "<div>\n",
       "<style scoped>\n",
       "    .dataframe tbody tr th:only-of-type {\n",
       "        vertical-align: middle;\n",
       "    }\n",
       "\n",
       "    .dataframe tbody tr th {\n",
       "        vertical-align: top;\n",
       "    }\n",
       "\n",
       "    .dataframe thead th {\n",
       "        text-align: right;\n",
       "    }\n",
       "</style>\n",
       "<table border=\"1\" class=\"dataframe\">\n",
       "  <thead>\n",
       "    <tr style=\"text-align: right;\">\n",
       "      <th></th>\n",
       "      <th>instant</th>\n",
       "      <th>dteday</th>\n",
       "      <th>season</th>\n",
       "      <th>yr</th>\n",
       "      <th>mnth</th>\n",
       "      <th>hr</th>\n",
       "      <th>holiday</th>\n",
       "      <th>weekday</th>\n",
       "      <th>workingday</th>\n",
       "      <th>weathersit</th>\n",
       "      <th>temp</th>\n",
       "      <th>atemp</th>\n",
       "      <th>hum</th>\n",
       "      <th>windspeed</th>\n",
       "      <th>casual</th>\n",
       "      <th>registered</th>\n",
       "      <th>cnt</th>\n",
       "    </tr>\n",
       "  </thead>\n",
       "  <tbody>\n",
       "    <tr>\n",
       "      <th>11721</th>\n",
       "      <td>11722</td>\n",
       "      <td>2012-05-08</td>\n",
       "      <td>2</td>\n",
       "      <td>1</td>\n",
       "      <td>5</td>\n",
       "      <td>14</td>\n",
       "      <td>0</td>\n",
       "      <td>2</td>\n",
       "      <td>1</td>\n",
       "      <td>3</td>\n",
       "      <td>0.62</td>\n",
       "      <td>0.6061</td>\n",
       "      <td>0.69</td>\n",
       "      <td>0.3284</td>\n",
       "      <td>8</td>\n",
       "      <td>63</td>\n",
       "      <td>71</td>\n",
       "    </tr>\n",
       "  </tbody>\n",
       "</table>\n",
       "</div>"
      ],
      "text/plain": [
       "       instant      dteday  season  yr  mnth  hr  holiday  weekday  \\\n",
       "11721    11722  2012-05-08       2   1     5  14        0        2   \n",
       "\n",
       "       workingday  weathersit  temp   atemp   hum  windspeed  casual  \\\n",
       "11721           1           3  0.62  0.6061  0.69     0.3284       8   \n",
       "\n",
       "       registered  cnt  \n",
       "11721          63   71  "
      ]
     },
     "execution_count": 102,
     "metadata": {},
     "output_type": "execute_result"
    }
   ],
   "source": [
    "dataframe.sample()"
   ]
  },
  {
   "cell_type": "code",
   "execution_count": 103,
   "metadata": {},
   "outputs": [
    {
     "data": {
      "text/plain": [
       "Index(['instant', 'dteday', 'season', 'yr', 'mnth', 'hr', 'holiday', 'weekday',\n",
       "       'workingday', 'weathersit', 'temp', 'atemp', 'hum', 'windspeed',\n",
       "       'casual', 'registered', 'cnt'],\n",
       "      dtype='object')"
      ]
     },
     "execution_count": 103,
     "metadata": {},
     "output_type": "execute_result"
    }
   ],
   "source": [
    "dataframe.columns"
   ]
  },
  {
   "cell_type": "code",
   "execution_count": 104,
   "metadata": {},
   "outputs": [],
   "source": [
    "dataframe = dataframe.rename(columns={'cnt':'y'})"
   ]
  },
  {
   "cell_type": "code",
   "execution_count": 105,
   "metadata": {},
   "outputs": [
    {
     "name": "stdout",
     "output_type": "stream",
     "text": [
      "<class 'pandas.core.frame.DataFrame'>\n",
      "RangeIndex: 17379 entries, 0 to 17378\n",
      "Data columns (total 17 columns):\n",
      "instant       17379 non-null int64\n",
      "dteday        17379 non-null object\n",
      "season        17379 non-null int64\n",
      "yr            17379 non-null int64\n",
      "mnth          17379 non-null int64\n",
      "hr            17379 non-null int64\n",
      "holiday       17379 non-null int64\n",
      "weekday       17379 non-null int64\n",
      "workingday    17379 non-null int64\n",
      "weathersit    17379 non-null int64\n",
      "temp          17379 non-null float64\n",
      "atemp         17379 non-null float64\n",
      "hum           17379 non-null float64\n",
      "windspeed     17379 non-null float64\n",
      "casual        17379 non-null int64\n",
      "registered    17379 non-null int64\n",
      "y             17379 non-null int64\n",
      "dtypes: float64(4), int64(12), object(1)\n",
      "memory usage: 2.3+ MB\n"
     ]
    }
   ],
   "source": [
    "dataframe.info()"
   ]
  },
  {
   "cell_type": "code",
   "execution_count": 106,
   "metadata": {},
   "outputs": [],
   "source": [
    "dataframe = dataframe.drop('dteday',axis=1)"
   ]
  },
  {
   "cell_type": "code",
   "execution_count": 107,
   "metadata": {},
   "outputs": [
    {
     "data": {
      "text/plain": [
       "instant       17379\n",
       "season            4\n",
       "yr                2\n",
       "mnth             12\n",
       "hr               24\n",
       "holiday           2\n",
       "weekday           7\n",
       "workingday        2\n",
       "weathersit        4\n",
       "temp             50\n",
       "atemp            65\n",
       "hum              89\n",
       "windspeed        30\n",
       "casual          322\n",
       "registered      776\n",
       "y               869\n",
       "dtype: int64"
      ]
     },
     "execution_count": 107,
     "metadata": {},
     "output_type": "execute_result"
    }
   ],
   "source": [
    "dataframe.nunique()"
   ]
  },
  {
   "cell_type": "code",
   "execution_count": 108,
   "metadata": {},
   "outputs": [],
   "source": [
    "X = pd.DataFrame(dataframe[dataframe.columns])"
   ]
  },
  {
   "cell_type": "code",
   "execution_count": 109,
   "metadata": {},
   "outputs": [],
   "source": [
    "X= X.rename(columns={'cnt':'y'})"
   ]
  },
  {
   "cell_type": "code",
   "execution_count": 110,
   "metadata": {},
   "outputs": [
    {
     "data": {
      "text/plain": [
       "(17379, 16)"
      ]
     },
     "execution_count": 110,
     "metadata": {},
     "output_type": "execute_result"
    }
   ],
   "source": [
    "X.shape"
   ]
  },
  {
   "cell_type": "code",
   "execution_count": 136,
   "metadata": {},
   "outputs": [
    {
     "data": {
      "text/plain": [
       "array([[<matplotlib.axes._subplots.AxesSubplot object at 0x7f5d2e48f3c8>,\n",
       "        <matplotlib.axes._subplots.AxesSubplot object at 0x7f5d2e4d3b70>,\n",
       "        <matplotlib.axes._subplots.AxesSubplot object at 0x7f5d2e2583c8>,\n",
       "        <matplotlib.axes._subplots.AxesSubplot object at 0x7f5d2e26c630>],\n",
       "       [<matplotlib.axes._subplots.AxesSubplot object at 0x7f5d2e27e898>,\n",
       "        <matplotlib.axes._subplots.AxesSubplot object at 0x7f5d2e20a2e8>,\n",
       "        <matplotlib.axes._subplots.AxesSubplot object at 0x7f5d2e21d550>,\n",
       "        <matplotlib.axes._subplots.AxesSubplot object at 0x7f5d2e22d7f0>],\n",
       "       [<matplotlib.axes._subplots.AxesSubplot object at 0x7f5d2e22d828>,\n",
       "        <matplotlib.axes._subplots.AxesSubplot object at 0x7f5d2e1d3c88>,\n",
       "        <matplotlib.axes._subplots.AxesSubplot object at 0x7f5d2e1e5ef0>,\n",
       "        <matplotlib.axes._subplots.AxesSubplot object at 0x7f5d2e1fb198>],\n",
       "       [<matplotlib.axes._subplots.AxesSubplot object at 0x7f5d2e18e400>,\n",
       "        <matplotlib.axes._subplots.AxesSubplot object at 0x7f5d2e1a0668>,\n",
       "        <matplotlib.axes._subplots.AxesSubplot object at 0x7f5d2e1b18d0>,\n",
       "        <matplotlib.axes._subplots.AxesSubplot object at 0x7f5d2e145b38>]],\n",
       "      dtype=object)"
      ]
     },
     "execution_count": 136,
     "metadata": {},
     "output_type": "execute_result"
    },
    {
     "data": {
      "image/png": "[encoded data removed]",
      "text/plain": [
       "<Figure size 1080x1080 with 16 Axes>"
      ]
     },
     "metadata": {
      "needs_background": "light"
     },
     "output_type": "display_data"
    }
   ],
   "source": [
    "X.hist(figsize=(15,15))"
   ]
  },
  {
   "cell_type": "code",
   "execution_count": 112,
   "metadata": {},
   "outputs": [
    {
     "data": {
      "text/html": [
       "<div>\n",
       "<style scoped>\n",
       "    .dataframe tbody tr th:only-of-type {\n",
       "        vertical-align: middle;\n",
       "    }\n",
       "\n",
       "    .dataframe tbody tr th {\n",
       "        vertical-align: top;\n",
       "    }\n",
       "\n",
       "    .dataframe thead th {\n",
       "        text-align: right;\n",
       "    }\n",
       "</style>\n",
       "<table border=\"1\" class=\"dataframe\">\n",
       "  <thead>\n",
       "    <tr style=\"text-align: right;\">\n",
       "      <th></th>\n",
       "      <th>instant</th>\n",
       "      <th>season</th>\n",
       "      <th>yr</th>\n",
       "      <th>mnth</th>\n",
       "      <th>hr</th>\n",
       "      <th>holiday</th>\n",
       "      <th>weekday</th>\n",
       "      <th>workingday</th>\n",
       "      <th>weathersit</th>\n",
       "      <th>temp</th>\n",
       "      <th>atemp</th>\n",
       "      <th>hum</th>\n",
       "      <th>windspeed</th>\n",
       "      <th>casual</th>\n",
       "      <th>registered</th>\n",
       "      <th>y</th>\n",
       "    </tr>\n",
       "  </thead>\n",
       "  <tbody>\n",
       "    <tr>\n",
       "      <th>count</th>\n",
       "      <td>17379.0000</td>\n",
       "      <td>17379.000000</td>\n",
       "      <td>17379.000000</td>\n",
       "      <td>17379.000000</td>\n",
       "      <td>17379.000000</td>\n",
       "      <td>17379.000000</td>\n",
       "      <td>17379.000000</td>\n",
       "      <td>17379.000000</td>\n",
       "      <td>17379.000000</td>\n",
       "      <td>17379.000000</td>\n",
       "      <td>17379.000000</td>\n",
       "      <td>17379.000000</td>\n",
       "      <td>17379.000000</td>\n",
       "      <td>17379.000000</td>\n",
       "      <td>17379.000000</td>\n",
       "      <td>17379.000000</td>\n",
       "    </tr>\n",
       "    <tr>\n",
       "      <th>mean</th>\n",
       "      <td>8690.0000</td>\n",
       "      <td>2.501640</td>\n",
       "      <td>0.502561</td>\n",
       "      <td>6.537775</td>\n",
       "      <td>11.546752</td>\n",
       "      <td>0.028770</td>\n",
       "      <td>3.003683</td>\n",
       "      <td>0.682721</td>\n",
       "      <td>1.425283</td>\n",
       "      <td>0.496987</td>\n",
       "      <td>0.475775</td>\n",
       "      <td>0.627229</td>\n",
       "      <td>0.190098</td>\n",
       "      <td>35.676218</td>\n",
       "      <td>153.786869</td>\n",
       "      <td>189.463088</td>\n",
       "    </tr>\n",
       "    <tr>\n",
       "      <th>std</th>\n",
       "      <td>5017.0295</td>\n",
       "      <td>1.106918</td>\n",
       "      <td>0.500008</td>\n",
       "      <td>3.438776</td>\n",
       "      <td>6.914405</td>\n",
       "      <td>0.167165</td>\n",
       "      <td>2.005771</td>\n",
       "      <td>0.465431</td>\n",
       "      <td>0.639357</td>\n",
       "      <td>0.192556</td>\n",
       "      <td>0.171850</td>\n",
       "      <td>0.192930</td>\n",
       "      <td>0.122340</td>\n",
       "      <td>49.305030</td>\n",
       "      <td>151.357286</td>\n",
       "      <td>181.387599</td>\n",
       "    </tr>\n",
       "    <tr>\n",
       "      <th>min</th>\n",
       "      <td>1.0000</td>\n",
       "      <td>1.000000</td>\n",
       "      <td>0.000000</td>\n",
       "      <td>1.000000</td>\n",
       "      <td>0.000000</td>\n",
       "      <td>0.000000</td>\n",
       "      <td>0.000000</td>\n",
       "      <td>0.000000</td>\n",
       "      <td>1.000000</td>\n",
       "      <td>0.020000</td>\n",
       "      <td>0.000000</td>\n",
       "      <td>0.000000</td>\n",
       "      <td>0.000000</td>\n",
       "      <td>0.000000</td>\n",
       "      <td>0.000000</td>\n",
       "      <td>1.000000</td>\n",
       "    </tr>\n",
       "    <tr>\n",
       "      <th>25%</th>\n",
       "      <td>4345.5000</td>\n",
       "      <td>2.000000</td>\n",
       "      <td>0.000000</td>\n",
       "      <td>4.000000</td>\n",
       "      <td>6.000000</td>\n",
       "      <td>0.000000</td>\n",
       "      <td>1.000000</td>\n",
       "      <td>0.000000</td>\n",
       "      <td>1.000000</td>\n",
       "      <td>0.340000</td>\n",
       "      <td>0.333300</td>\n",
       "      <td>0.480000</td>\n",
       "      <td>0.104500</td>\n",
       "      <td>4.000000</td>\n",
       "      <td>34.000000</td>\n",
       "      <td>40.000000</td>\n",
       "    </tr>\n",
       "    <tr>\n",
       "      <th>50%</th>\n",
       "      <td>8690.0000</td>\n",
       "      <td>3.000000</td>\n",
       "      <td>1.000000</td>\n",
       "      <td>7.000000</td>\n",
       "      <td>12.000000</td>\n",
       "      <td>0.000000</td>\n",
       "      <td>3.000000</td>\n",
       "      <td>1.000000</td>\n",
       "      <td>1.000000</td>\n",
       "      <td>0.500000</td>\n",
       "      <td>0.484800</td>\n",
       "      <td>0.630000</td>\n",
       "      <td>0.194000</td>\n",
       "      <td>17.000000</td>\n",
       "      <td>115.000000</td>\n",
       "      <td>142.000000</td>\n",
       "    </tr>\n",
       "    <tr>\n",
       "      <th>75%</th>\n",
       "      <td>13034.5000</td>\n",
       "      <td>3.000000</td>\n",
       "      <td>1.000000</td>\n",
       "      <td>10.000000</td>\n",
       "      <td>18.000000</td>\n",
       "      <td>0.000000</td>\n",
       "      <td>5.000000</td>\n",
       "      <td>1.000000</td>\n",
       "      <td>2.000000</td>\n",
       "      <td>0.660000</td>\n",
       "      <td>0.621200</td>\n",
       "      <td>0.780000</td>\n",
       "      <td>0.253700</td>\n",
       "      <td>48.000000</td>\n",
       "      <td>220.000000</td>\n",
       "      <td>281.000000</td>\n",
       "    </tr>\n",
       "    <tr>\n",
       "      <th>max</th>\n",
       "      <td>17379.0000</td>\n",
       "      <td>4.000000</td>\n",
       "      <td>1.000000</td>\n",
       "      <td>12.000000</td>\n",
       "      <td>23.000000</td>\n",
       "      <td>1.000000</td>\n",
       "      <td>6.000000</td>\n",
       "      <td>1.000000</td>\n",
       "      <td>4.000000</td>\n",
       "      <td>1.000000</td>\n",
       "      <td>1.000000</td>\n",
       "      <td>1.000000</td>\n",
       "      <td>0.850700</td>\n",
       "      <td>367.000000</td>\n",
       "      <td>886.000000</td>\n",
       "      <td>977.000000</td>\n",
       "    </tr>\n",
       "  </tbody>\n",
       "</table>\n",
       "</div>"
      ],
      "text/plain": [
       "          instant        season            yr          mnth            hr  \\\n",
       "count  17379.0000  17379.000000  17379.000000  17379.000000  17379.000000   \n",
       "mean    8690.0000      2.501640      0.502561      6.537775     11.546752   \n",
       "std     5017.0295      1.106918      0.500008      3.438776      6.914405   \n",
       "min        1.0000      1.000000      0.000000      1.000000      0.000000   \n",
       "25%     4345.5000      2.000000      0.000000      4.000000      6.000000   \n",
       "50%     8690.0000      3.000000      1.000000      7.000000     12.000000   \n",
       "75%    13034.5000      3.000000      1.000000     10.000000     18.000000   \n",
       "max    17379.0000      4.000000      1.000000     12.000000     23.000000   \n",
       "\n",
       "            holiday       weekday    workingday    weathersit          temp  \\\n",
       "count  17379.000000  17379.000000  17379.000000  17379.000000  17379.000000   \n",
       "mean       0.028770      3.003683      0.682721      1.425283      0.496987   \n",
       "std        0.167165      2.005771      0.465431      0.639357      0.192556   \n",
       "min        0.000000      0.000000      0.000000      1.000000      0.020000   \n",
       "25%        0.000000      1.000000      0.000000      1.000000      0.340000   \n",
       "50%        0.000000      3.000000      1.000000      1.000000      0.500000   \n",
       "75%        0.000000      5.000000      1.000000      2.000000      0.660000   \n",
       "max        1.000000      6.000000      1.000000      4.000000      1.000000   \n",
       "\n",
       "              atemp           hum     windspeed        casual    registered  \\\n",
       "count  17379.000000  17379.000000  17379.000000  17379.000000  17379.000000   \n",
       "mean       0.475775      0.627229      0.190098     35.676218    153.786869   \n",
       "std        0.171850      0.192930      0.122340     49.305030    151.357286   \n",
       "min        0.000000      0.000000      0.000000      0.000000      0.000000   \n",
       "25%        0.333300      0.480000      0.104500      4.000000     34.000000   \n",
       "50%        0.484800      0.630000      0.194000     17.000000    115.000000   \n",
       "75%        0.621200      0.780000      0.253700     48.000000    220.000000   \n",
       "max        1.000000      1.000000      0.850700    367.000000    886.000000   \n",
       "\n",
       "                  y  \n",
       "count  17379.000000  \n",
       "mean     189.463088  \n",
       "std      181.387599  \n",
       "min        1.000000  \n",
       "25%       40.000000  \n",
       "50%      142.000000  \n",
       "75%      281.000000  \n",
       "max      977.000000  "
      ]
     },
     "execution_count": 112,
     "metadata": {},
     "output_type": "execute_result"
    }
   ],
   "source": [
    "X.describe()"
   ]
  },
  {
   "cell_type": "code",
   "execution_count": 113,
   "metadata": {},
   "outputs": [
    {
     "name": "stdout",
     "output_type": "stream",
     "text": [
      "<class 'pandas.core.frame.DataFrame'>\n",
      "RangeIndex: 17379 entries, 0 to 17378\n",
      "Data columns (total 16 columns):\n",
      "instant       17379 non-null int64\n",
      "season        17379 non-null int64\n",
      "yr            17379 non-null int64\n",
      "mnth          17379 non-null int64\n",
      "hr            17379 non-null int64\n",
      "holiday       17379 non-null int64\n",
      "weekday       17379 non-null int64\n",
      "workingday    17379 non-null int64\n",
      "weathersit    17379 non-null int64\n",
      "temp          17379 non-null float64\n",
      "atemp         17379 non-null float64\n",
      "hum           17379 non-null float64\n",
      "windspeed     17379 non-null float64\n",
      "casual        17379 non-null int64\n",
      "registered    17379 non-null int64\n",
      "y             17379 non-null int64\n",
      "dtypes: float64(4), int64(12)\n",
      "memory usage: 2.1 MB\n"
     ]
    }
   ],
   "source": [
    "X.info()"
   ]
  },
  {
   "cell_type": "code",
   "execution_count": 114,
   "metadata": {},
   "outputs": [
    {
     "data": {
      "text/plain": [
       "instant       0\n",
       "season        0\n",
       "yr            0\n",
       "mnth          0\n",
       "hr            0\n",
       "holiday       0\n",
       "weekday       0\n",
       "workingday    0\n",
       "weathersit    0\n",
       "temp          0\n",
       "atemp         0\n",
       "hum           0\n",
       "windspeed     0\n",
       "casual        0\n",
       "registered    0\n",
       "y             0\n",
       "dtype: int64"
      ]
     },
     "execution_count": 114,
     "metadata": {},
     "output_type": "execute_result"
    }
   ],
   "source": [
    "X.isna().sum()"
   ]
  },
  {
   "cell_type": "code",
   "execution_count": 115,
   "metadata": {},
   "outputs": [
    {
     "data": {
      "text/plain": [
       "<matplotlib.axes._subplots.AxesSubplot at 0x7f5d499b5be0>"
      ]
     },
     "execution_count": 115,
     "metadata": {},
     "output_type": "execute_result"
    },
    {
     "data": {
      "image/png": "[encoded data removed]",
      "text/plain": [
       "<Figure size 720x720 with 1 Axes>"
      ]
     },
     "metadata": {
      "needs_background": "light"
     },
     "output_type": "display_data"
    }
   ],
   "source": [
    "X.boxplot(figsize=(10,10),rot=45)"
   ]
  },
  {
   "cell_type": "code",
   "execution_count": 116,
   "metadata": {},
   "outputs": [
    {
     "data": {
      "text/plain": [
       "(17379, 16)"
      ]
     },
     "execution_count": 116,
     "metadata": {},
     "output_type": "execute_result"
    }
   ],
   "source": [
    "X.shape"
   ]
  },
  {
   "cell_type": "code",
   "execution_count": 117,
   "metadata": {},
   "outputs": [
    {
     "data": {
      "text/plain": [
       "<matplotlib.axes._subplots.AxesSubplot at 0x7f5d49a28a58>"
      ]
     },
     "execution_count": 117,
     "metadata": {},
     "output_type": "execute_result"
    },
    {
     "data": {
      "image/png": "[encoded data removed]",
      "text/plain": [
       "<Figure size 720x720 with 1 Axes>"
      ]
     },
     "metadata": {
      "needs_background": "light"
     },
     "output_type": "display_data"
    }
   ],
   "source": [
    "X.boxplot(figsize=(10,10),rot=45)"
   ]
  },
  {
   "cell_type": "code",
   "execution_count": 118,
   "metadata": {},
   "outputs": [],
   "source": [
    "X = preprocess_obj.remove_outlier(X)"
   ]
  },
  {
   "cell_type": "code",
   "execution_count": 119,
   "metadata": {},
   "outputs": [
    {
     "data": {
      "text/plain": [
       "instant         0\n",
       "season          0\n",
       "yr              0\n",
       "mnth            0\n",
       "hr              0\n",
       "holiday       500\n",
       "weekday         0\n",
       "workingday      0\n",
       "weathersit      3\n",
       "temp            0\n",
       "atemp           1\n",
       "hum            22\n",
       "windspeed     107\n",
       "casual        467\n",
       "registered    371\n",
       "y             244\n",
       "dtype: int64"
      ]
     },
     "execution_count": 119,
     "metadata": {},
     "output_type": "execute_result"
    }
   ],
   "source": [
    "X.isna().sum()"
   ]
  },
  {
   "cell_type": "code",
   "execution_count": 120,
   "metadata": {},
   "outputs": [],
   "source": [
    "X = X.dropna()"
   ]
  },
  {
   "cell_type": "code",
   "execution_count": 121,
   "metadata": {},
   "outputs": [
    {
     "data": {
      "text/plain": [
       "array([[<matplotlib.axes._subplots.AxesSubplot object at 0x7f5d49ac6898>,\n",
       "        <matplotlib.axes._subplots.AxesSubplot object at 0x7f5d496cbb38>,\n",
       "        <matplotlib.axes._subplots.AxesSubplot object at 0x7f5d49670da0>,\n",
       "        <matplotlib.axes._subplots.AxesSubplot object at 0x7f5d496a4048>],\n",
       "       [<matplotlib.axes._subplots.AxesSubplot object at 0x7f5d4964d2b0>,\n",
       "        <matplotlib.axes._subplots.AxesSubplot object at 0x7f5d495f5518>,\n",
       "        <matplotlib.axes._subplots.AxesSubplot object at 0x7f5d4961f780>,\n",
       "        <matplotlib.axes._subplots.AxesSubplot object at 0x7f5d495c9a20>],\n",
       "       [<matplotlib.axes._subplots.AxesSubplot object at 0x7f5d495c9a58>,\n",
       "        <matplotlib.axes._subplots.AxesSubplot object at 0x7f5d4959ceb8>,\n",
       "        <matplotlib.axes._subplots.AxesSubplot object at 0x7f5d49551160>,\n",
       "        <matplotlib.axes._subplots.AxesSubplot object at 0x7f5d494f73c8>],\n",
       "       [<matplotlib.axes._subplots.AxesSubplot object at 0x7f5d49521630>,\n",
       "        <matplotlib.axes._subplots.AxesSubplot object at 0x7f5d494ca898>,\n",
       "        <matplotlib.axes._subplots.AxesSubplot object at 0x7f5d49473b00>,\n",
       "        <matplotlib.axes._subplots.AxesSubplot object at 0x7f5d4949dd68>]],\n",
       "      dtype=object)"
      ]
     },
     "execution_count": 121,
     "metadata": {},
     "output_type": "execute_result"
    },
    {
     "data": {
      "image/png": "[encoded data removed]",
      "text/plain": [
       "<Figure size 720x720 with 16 Axes>"
      ]
     },
     "metadata": {
      "needs_background": "light"
     },
     "output_type": "display_data"
    }
   ],
   "source": [
    "X.hist(figsize=(10,10))"
   ]
  },
  {
   "cell_type": "code",
   "execution_count": 122,
   "metadata": {},
   "outputs": [
    {
     "data": {
      "text/html": [
       "<div>\n",
       "<style scoped>\n",
       "    .dataframe tbody tr th:only-of-type {\n",
       "        vertical-align: middle;\n",
       "    }\n",
       "\n",
       "    .dataframe tbody tr th {\n",
       "        vertical-align: top;\n",
       "    }\n",
       "\n",
       "    .dataframe thead th {\n",
       "        text-align: right;\n",
       "    }\n",
       "</style>\n",
       "<table border=\"1\" class=\"dataframe\">\n",
       "  <thead>\n",
       "    <tr style=\"text-align: right;\">\n",
       "      <th></th>\n",
       "      <th>instant</th>\n",
       "      <th>season</th>\n",
       "      <th>yr</th>\n",
       "      <th>mnth</th>\n",
       "      <th>hr</th>\n",
       "      <th>holiday</th>\n",
       "      <th>weekday</th>\n",
       "      <th>workingday</th>\n",
       "      <th>weathersit</th>\n",
       "      <th>temp</th>\n",
       "      <th>atemp</th>\n",
       "      <th>hum</th>\n",
       "      <th>windspeed</th>\n",
       "      <th>casual</th>\n",
       "      <th>registered</th>\n",
       "      <th>y</th>\n",
       "    </tr>\n",
       "  </thead>\n",
       "  <tbody>\n",
       "    <tr>\n",
       "      <th>count</th>\n",
       "      <td>15934.000000</td>\n",
       "      <td>15934.000000</td>\n",
       "      <td>15934.000000</td>\n",
       "      <td>15934.000000</td>\n",
       "      <td>15934.000000</td>\n",
       "      <td>15934.0</td>\n",
       "      <td>15934.000000</td>\n",
       "      <td>15934.000000</td>\n",
       "      <td>15934.000000</td>\n",
       "      <td>15934.000000</td>\n",
       "      <td>15934.000000</td>\n",
       "      <td>15934.000000</td>\n",
       "      <td>15934.000000</td>\n",
       "      <td>15934.000000</td>\n",
       "      <td>15934.000000</td>\n",
       "      <td>15934.000000</td>\n",
       "    </tr>\n",
       "    <tr>\n",
       "      <th>mean</th>\n",
       "      <td>8494.814799</td>\n",
       "      <td>2.496988</td>\n",
       "      <td>0.481863</td>\n",
       "      <td>6.517886</td>\n",
       "      <td>11.391741</td>\n",
       "      <td>0.0</td>\n",
       "      <td>3.028995</td>\n",
       "      <td>0.714949</td>\n",
       "      <td>1.433476</td>\n",
       "      <td>0.490636</td>\n",
       "      <td>0.470385</td>\n",
       "      <td>0.635783</td>\n",
       "      <td>0.186057</td>\n",
       "      <td>29.098531</td>\n",
       "      <td>138.062759</td>\n",
       "      <td>167.161290</td>\n",
       "    </tr>\n",
       "    <tr>\n",
       "      <th>std</th>\n",
       "      <td>5007.496991</td>\n",
       "      <td>1.111365</td>\n",
       "      <td>0.499687</td>\n",
       "      <td>3.460063</td>\n",
       "      <td>7.025470</td>\n",
       "      <td>0.0</td>\n",
       "      <td>1.989942</td>\n",
       "      <td>0.451453</td>\n",
       "      <td>0.642780</td>\n",
       "      <td>0.191510</td>\n",
       "      <td>0.170892</td>\n",
       "      <td>0.190632</td>\n",
       "      <td>0.117621</td>\n",
       "      <td>35.593614</td>\n",
       "      <td>127.251763</td>\n",
       "      <td>149.624907</td>\n",
       "    </tr>\n",
       "    <tr>\n",
       "      <th>min</th>\n",
       "      <td>1.000000</td>\n",
       "      <td>1.000000</td>\n",
       "      <td>0.000000</td>\n",
       "      <td>1.000000</td>\n",
       "      <td>0.000000</td>\n",
       "      <td>0.0</td>\n",
       "      <td>0.000000</td>\n",
       "      <td>0.000000</td>\n",
       "      <td>1.000000</td>\n",
       "      <td>0.020000</td>\n",
       "      <td>0.000000</td>\n",
       "      <td>0.080000</td>\n",
       "      <td>0.000000</td>\n",
       "      <td>0.000000</td>\n",
       "      <td>0.000000</td>\n",
       "      <td>1.000000</td>\n",
       "    </tr>\n",
       "    <tr>\n",
       "      <th>25%</th>\n",
       "      <td>4172.250000</td>\n",
       "      <td>2.000000</td>\n",
       "      <td>0.000000</td>\n",
       "      <td>4.000000</td>\n",
       "      <td>5.000000</td>\n",
       "      <td>0.0</td>\n",
       "      <td>1.000000</td>\n",
       "      <td>0.000000</td>\n",
       "      <td>1.000000</td>\n",
       "      <td>0.340000</td>\n",
       "      <td>0.333300</td>\n",
       "      <td>0.490000</td>\n",
       "      <td>0.104500</td>\n",
       "      <td>3.000000</td>\n",
       "      <td>31.000000</td>\n",
       "      <td>37.000000</td>\n",
       "    </tr>\n",
       "    <tr>\n",
       "      <th>50%</th>\n",
       "      <td>8333.500000</td>\n",
       "      <td>3.000000</td>\n",
       "      <td>0.000000</td>\n",
       "      <td>7.000000</td>\n",
       "      <td>11.000000</td>\n",
       "      <td>0.0</td>\n",
       "      <td>3.000000</td>\n",
       "      <td>1.000000</td>\n",
       "      <td>1.000000</td>\n",
       "      <td>0.500000</td>\n",
       "      <td>0.484800</td>\n",
       "      <td>0.640000</td>\n",
       "      <td>0.164200</td>\n",
       "      <td>15.000000</td>\n",
       "      <td>109.000000</td>\n",
       "      <td>133.000000</td>\n",
       "    </tr>\n",
       "    <tr>\n",
       "      <th>75%</th>\n",
       "      <td>12803.750000</td>\n",
       "      <td>3.000000</td>\n",
       "      <td>1.000000</td>\n",
       "      <td>10.000000</td>\n",
       "      <td>18.000000</td>\n",
       "      <td>0.0</td>\n",
       "      <td>5.000000</td>\n",
       "      <td>1.000000</td>\n",
       "      <td>2.000000</td>\n",
       "      <td>0.640000</td>\n",
       "      <td>0.621200</td>\n",
       "      <td>0.790000</td>\n",
       "      <td>0.253700</td>\n",
       "      <td>42.000000</td>\n",
       "      <td>203.000000</td>\n",
       "      <td>256.000000</td>\n",
       "    </tr>\n",
       "    <tr>\n",
       "      <th>max</th>\n",
       "      <td>17379.000000</td>\n",
       "      <td>4.000000</td>\n",
       "      <td>1.000000</td>\n",
       "      <td>12.000000</td>\n",
       "      <td>23.000000</td>\n",
       "      <td>0.0</td>\n",
       "      <td>6.000000</td>\n",
       "      <td>1.000000</td>\n",
       "      <td>3.000000</td>\n",
       "      <td>1.000000</td>\n",
       "      <td>0.984800</td>\n",
       "      <td>1.000000</td>\n",
       "      <td>0.552200</td>\n",
       "      <td>183.000000</td>\n",
       "      <td>605.000000</td>\n",
       "      <td>729.000000</td>\n",
       "    </tr>\n",
       "  </tbody>\n",
       "</table>\n",
       "</div>"
      ],
      "text/plain": [
       "            instant        season            yr          mnth            hr  \\\n",
       "count  15934.000000  15934.000000  15934.000000  15934.000000  15934.000000   \n",
       "mean    8494.814799      2.496988      0.481863      6.517886     11.391741   \n",
       "std     5007.496991      1.111365      0.499687      3.460063      7.025470   \n",
       "min        1.000000      1.000000      0.000000      1.000000      0.000000   \n",
       "25%     4172.250000      2.000000      0.000000      4.000000      5.000000   \n",
       "50%     8333.500000      3.000000      0.000000      7.000000     11.000000   \n",
       "75%    12803.750000      3.000000      1.000000     10.000000     18.000000   \n",
       "max    17379.000000      4.000000      1.000000     12.000000     23.000000   \n",
       "\n",
       "       holiday       weekday    workingday    weathersit          temp  \\\n",
       "count  15934.0  15934.000000  15934.000000  15934.000000  15934.000000   \n",
       "mean       0.0      3.028995      0.714949      1.433476      0.490636   \n",
       "std        0.0      1.989942      0.451453      0.642780      0.191510   \n",
       "min        0.0      0.000000      0.000000      1.000000      0.020000   \n",
       "25%        0.0      1.000000      0.000000      1.000000      0.340000   \n",
       "50%        0.0      3.000000      1.000000      1.000000      0.500000   \n",
       "75%        0.0      5.000000      1.000000      2.000000      0.640000   \n",
       "max        0.0      6.000000      1.000000      3.000000      1.000000   \n",
       "\n",
       "              atemp           hum     windspeed        casual    registered  \\\n",
       "count  15934.000000  15934.000000  15934.000000  15934.000000  15934.000000   \n",
       "mean       0.470385      0.635783      0.186057     29.098531    138.062759   \n",
       "std        0.170892      0.190632      0.117621     35.593614    127.251763   \n",
       "min        0.000000      0.080000      0.000000      0.000000      0.000000   \n",
       "25%        0.333300      0.490000      0.104500      3.000000     31.000000   \n",
       "50%        0.484800      0.640000      0.164200     15.000000    109.000000   \n",
       "75%        0.621200      0.790000      0.253700     42.000000    203.000000   \n",
       "max        0.984800      1.000000      0.552200    183.000000    605.000000   \n",
       "\n",
       "                  y  \n",
       "count  15934.000000  \n",
       "mean     167.161290  \n",
       "std      149.624907  \n",
       "min        1.000000  \n",
       "25%       37.000000  \n",
       "50%      133.000000  \n",
       "75%      256.000000  \n",
       "max      729.000000  "
      ]
     },
     "execution_count": 122,
     "metadata": {},
     "output_type": "execute_result"
    }
   ],
   "source": [
    "X.describe()"
   ]
  },
  {
   "cell_type": "code",
   "execution_count": 123,
   "metadata": {},
   "outputs": [],
   "source": [
    "# n = Normalizer().fit(np.array(X['cnt']).reshape(-1,1))\n",
    "# for item in X:\n",
    "#     X[item]=n.fit_transform(np.array(X[item]).reshape(-1,1))"
   ]
  },
  {
   "cell_type": "code",
   "execution_count": 124,
   "metadata": {},
   "outputs": [
    {
     "data": {
      "text/html": [
       "<div>\n",
       "<style scoped>\n",
       "    .dataframe tbody tr th:only-of-type {\n",
       "        vertical-align: middle;\n",
       "    }\n",
       "\n",
       "    .dataframe tbody tr th {\n",
       "        vertical-align: top;\n",
       "    }\n",
       "\n",
       "    .dataframe thead th {\n",
       "        text-align: right;\n",
       "    }\n",
       "</style>\n",
       "<table border=\"1\" class=\"dataframe\">\n",
       "  <thead>\n",
       "    <tr style=\"text-align: right;\">\n",
       "      <th></th>\n",
       "      <th>instant</th>\n",
       "      <th>season</th>\n",
       "      <th>yr</th>\n",
       "      <th>mnth</th>\n",
       "      <th>hr</th>\n",
       "      <th>holiday</th>\n",
       "      <th>weekday</th>\n",
       "      <th>workingday</th>\n",
       "      <th>weathersit</th>\n",
       "      <th>temp</th>\n",
       "      <th>atemp</th>\n",
       "      <th>hum</th>\n",
       "      <th>windspeed</th>\n",
       "      <th>casual</th>\n",
       "      <th>registered</th>\n",
       "      <th>y</th>\n",
       "    </tr>\n",
       "  </thead>\n",
       "  <tbody>\n",
       "    <tr>\n",
       "      <th>count</th>\n",
       "      <td>15934.000000</td>\n",
       "      <td>15934.000000</td>\n",
       "      <td>15934.000000</td>\n",
       "      <td>15934.000000</td>\n",
       "      <td>15934.000000</td>\n",
       "      <td>15934.0</td>\n",
       "      <td>15934.000000</td>\n",
       "      <td>15934.000000</td>\n",
       "      <td>15934.000000</td>\n",
       "      <td>15934.000000</td>\n",
       "      <td>15934.000000</td>\n",
       "      <td>15934.000000</td>\n",
       "      <td>15934.000000</td>\n",
       "      <td>15934.000000</td>\n",
       "      <td>15934.000000</td>\n",
       "      <td>15934.000000</td>\n",
       "    </tr>\n",
       "    <tr>\n",
       "      <th>mean</th>\n",
       "      <td>8494.814799</td>\n",
       "      <td>2.496988</td>\n",
       "      <td>0.481863</td>\n",
       "      <td>6.517886</td>\n",
       "      <td>11.391741</td>\n",
       "      <td>0.0</td>\n",
       "      <td>3.028995</td>\n",
       "      <td>0.714949</td>\n",
       "      <td>1.433476</td>\n",
       "      <td>0.490636</td>\n",
       "      <td>0.470385</td>\n",
       "      <td>0.635783</td>\n",
       "      <td>0.186057</td>\n",
       "      <td>29.098531</td>\n",
       "      <td>138.062759</td>\n",
       "      <td>167.161290</td>\n",
       "    </tr>\n",
       "    <tr>\n",
       "      <th>std</th>\n",
       "      <td>5007.496991</td>\n",
       "      <td>1.111365</td>\n",
       "      <td>0.499687</td>\n",
       "      <td>3.460063</td>\n",
       "      <td>7.025470</td>\n",
       "      <td>0.0</td>\n",
       "      <td>1.989942</td>\n",
       "      <td>0.451453</td>\n",
       "      <td>0.642780</td>\n",
       "      <td>0.191510</td>\n",
       "      <td>0.170892</td>\n",
       "      <td>0.190632</td>\n",
       "      <td>0.117621</td>\n",
       "      <td>35.593614</td>\n",
       "      <td>127.251763</td>\n",
       "      <td>149.624907</td>\n",
       "    </tr>\n",
       "    <tr>\n",
       "      <th>min</th>\n",
       "      <td>1.000000</td>\n",
       "      <td>1.000000</td>\n",
       "      <td>0.000000</td>\n",
       "      <td>1.000000</td>\n",
       "      <td>0.000000</td>\n",
       "      <td>0.0</td>\n",
       "      <td>0.000000</td>\n",
       "      <td>0.000000</td>\n",
       "      <td>1.000000</td>\n",
       "      <td>0.020000</td>\n",
       "      <td>0.000000</td>\n",
       "      <td>0.080000</td>\n",
       "      <td>0.000000</td>\n",
       "      <td>0.000000</td>\n",
       "      <td>0.000000</td>\n",
       "      <td>1.000000</td>\n",
       "    </tr>\n",
       "    <tr>\n",
       "      <th>25%</th>\n",
       "      <td>4172.250000</td>\n",
       "      <td>2.000000</td>\n",
       "      <td>0.000000</td>\n",
       "      <td>4.000000</td>\n",
       "      <td>5.000000</td>\n",
       "      <td>0.0</td>\n",
       "      <td>1.000000</td>\n",
       "      <td>0.000000</td>\n",
       "      <td>1.000000</td>\n",
       "      <td>0.340000</td>\n",
       "      <td>0.333300</td>\n",
       "      <td>0.490000</td>\n",
       "      <td>0.104500</td>\n",
       "      <td>3.000000</td>\n",
       "      <td>31.000000</td>\n",
       "      <td>37.000000</td>\n",
       "    </tr>\n",
       "    <tr>\n",
       "      <th>50%</th>\n",
       "      <td>8333.500000</td>\n",
       "      <td>3.000000</td>\n",
       "      <td>0.000000</td>\n",
       "      <td>7.000000</td>\n",
       "      <td>11.000000</td>\n",
       "      <td>0.0</td>\n",
       "      <td>3.000000</td>\n",
       "      <td>1.000000</td>\n",
       "      <td>1.000000</td>\n",
       "      <td>0.500000</td>\n",
       "      <td>0.484800</td>\n",
       "      <td>0.640000</td>\n",
       "      <td>0.164200</td>\n",
       "      <td>15.000000</td>\n",
       "      <td>109.000000</td>\n",
       "      <td>133.000000</td>\n",
       "    </tr>\n",
       "    <tr>\n",
       "      <th>75%</th>\n",
       "      <td>12803.750000</td>\n",
       "      <td>3.000000</td>\n",
       "      <td>1.000000</td>\n",
       "      <td>10.000000</td>\n",
       "      <td>18.000000</td>\n",
       "      <td>0.0</td>\n",
       "      <td>5.000000</td>\n",
       "      <td>1.000000</td>\n",
       "      <td>2.000000</td>\n",
       "      <td>0.640000</td>\n",
       "      <td>0.621200</td>\n",
       "      <td>0.790000</td>\n",
       "      <td>0.253700</td>\n",
       "      <td>42.000000</td>\n",
       "      <td>203.000000</td>\n",
       "      <td>256.000000</td>\n",
       "    </tr>\n",
       "    <tr>\n",
       "      <th>max</th>\n",
       "      <td>17379.000000</td>\n",
       "      <td>4.000000</td>\n",
       "      <td>1.000000</td>\n",
       "      <td>12.000000</td>\n",
       "      <td>23.000000</td>\n",
       "      <td>0.0</td>\n",
       "      <td>6.000000</td>\n",
       "      <td>1.000000</td>\n",
       "      <td>3.000000</td>\n",
       "      <td>1.000000</td>\n",
       "      <td>0.984800</td>\n",
       "      <td>1.000000</td>\n",
       "      <td>0.552200</td>\n",
       "      <td>183.000000</td>\n",
       "      <td>605.000000</td>\n",
       "      <td>729.000000</td>\n",
       "    </tr>\n",
       "  </tbody>\n",
       "</table>\n",
       "</div>"
      ],
      "text/plain": [
       "            instant        season            yr          mnth            hr  \\\n",
       "count  15934.000000  15934.000000  15934.000000  15934.000000  15934.000000   \n",
       "mean    8494.814799      2.496988      0.481863      6.517886     11.391741   \n",
       "std     5007.496991      1.111365      0.499687      3.460063      7.025470   \n",
       "min        1.000000      1.000000      0.000000      1.000000      0.000000   \n",
       "25%     4172.250000      2.000000      0.000000      4.000000      5.000000   \n",
       "50%     8333.500000      3.000000      0.000000      7.000000     11.000000   \n",
       "75%    12803.750000      3.000000      1.000000     10.000000     18.000000   \n",
       "max    17379.000000      4.000000      1.000000     12.000000     23.000000   \n",
       "\n",
       "       holiday       weekday    workingday    weathersit          temp  \\\n",
       "count  15934.0  15934.000000  15934.000000  15934.000000  15934.000000   \n",
       "mean       0.0      3.028995      0.714949      1.433476      0.490636   \n",
       "std        0.0      1.989942      0.451453      0.642780      0.191510   \n",
       "min        0.0      0.000000      0.000000      1.000000      0.020000   \n",
       "25%        0.0      1.000000      0.000000      1.000000      0.340000   \n",
       "50%        0.0      3.000000      1.000000      1.000000      0.500000   \n",
       "75%        0.0      5.000000      1.000000      2.000000      0.640000   \n",
       "max        0.0      6.000000      1.000000      3.000000      1.000000   \n",
       "\n",
       "              atemp           hum     windspeed        casual    registered  \\\n",
       "count  15934.000000  15934.000000  15934.000000  15934.000000  15934.000000   \n",
       "mean       0.470385      0.635783      0.186057     29.098531    138.062759   \n",
       "std        0.170892      0.190632      0.117621     35.593614    127.251763   \n",
       "min        0.000000      0.080000      0.000000      0.000000      0.000000   \n",
       "25%        0.333300      0.490000      0.104500      3.000000     31.000000   \n",
       "50%        0.484800      0.640000      0.164200     15.000000    109.000000   \n",
       "75%        0.621200      0.790000      0.253700     42.000000    203.000000   \n",
       "max        0.984800      1.000000      0.552200    183.000000    605.000000   \n",
       "\n",
       "                  y  \n",
       "count  15934.000000  \n",
       "mean     167.161290  \n",
       "std      149.624907  \n",
       "min        1.000000  \n",
       "25%       37.000000  \n",
       "50%      133.000000  \n",
       "75%      256.000000  \n",
       "max      729.000000  "
      ]
     },
     "execution_count": 124,
     "metadata": {},
     "output_type": "execute_result"
    }
   ],
   "source": [
    "X.describe()"
   ]
  },
  {
   "cell_type": "code",
   "execution_count": 125,
   "metadata": {},
   "outputs": [],
   "source": [
    "# trying with scaling the output too output :\n",
    "Y = X['y']\n",
    "# not scaling as the linear regression also will also perfor m scaling.\n",
    "rs = RobustScaler().fit(X)\n",
    "for item in X:\n",
    "    X[item]=rs.fit_transform(np.array(X[item]).reshape(-1,1))\n",
    "X['y']=Y"
   ]
  },
  {
   "cell_type": "code",
   "execution_count": 126,
   "metadata": {},
   "outputs": [
    {
     "name": "stderr",
     "output_type": "stream",
     "text": [
      "/home/admin1/Downloads/enter/lib/python3.7/site-packages/scipy/stats/stats.py:1713: FutureWarning: Using a non-tuple sequence for multidimensional indexing is deprecated; use `arr[tuple(seq)]` instead of `arr[seq]`. In the future this will be interpreted as an array index, `arr[np.array(seq)]`, which will result either in an error or a different result.\n",
      "  return np.add.reduce(sorted[indexer] * weights, axis=axis) / sumval\n",
      "/home/admin1/Downloads/enter/lib/python3.7/site-packages/statsmodels/nonparametric/kde.py:488: RuntimeWarning: invalid value encountered in true_divide\n",
      "  binned = fast_linbin(X, a, b, gridsize) / (delta * nobs)\n",
      "/home/admin1/Downloads/enter/lib/python3.7/site-packages/statsmodels/nonparametric/kdetools.py:34: RuntimeWarning: invalid value encountered in double_scalars\n",
      "  FAC1 = 2*(np.pi*bw/RANGE)**2\n",
      "/home/admin1/Downloads/enter/lib/python3.7/site-packages/numpy/core/fromnumeric.py:83: RuntimeWarning: invalid value encountered in reduce\n",
      "  return ufunc.reduce(obj, axis, dtype, out, **passkwargs)\n"
     ]
    },
    {
     "data": {
      "image/png": "[encoded data removed]",
      "text/plain": [
       "<Figure size 432x288 with 1 Axes>"
      ]
     },
     "metadata": {
      "needs_background": "light"
     },
     "output_type": "display_data"
    }
   ],
   "source": [
    "for item in X:\n",
    "    sns.distplot(X[item])"
   ]
  },
  {
   "cell_type": "code",
   "execution_count": 127,
   "metadata": {},
   "outputs": [
    {
     "data": {
      "text/plain": [
       "array([[<matplotlib.axes._subplots.AxesSubplot object at 0x7f5d490d8f98>,\n",
       "        <matplotlib.axes._subplots.AxesSubplot object at 0x7f5d48b189e8>,\n",
       "        <matplotlib.axes._subplots.AxesSubplot object at 0x7f5d48a97588>,\n",
       "        <matplotlib.axes._subplots.AxesSubplot object at 0x7f5d48a5e7f0>],\n",
       "       [<matplotlib.axes._subplots.AxesSubplot object at 0x7f5d48a45a58>,\n",
       "        <matplotlib.axes._subplots.AxesSubplot object at 0x7f5d489fdcc0>,\n",
       "        <matplotlib.axes._subplots.AxesSubplot object at 0x7f5d489a6f28>,\n",
       "        <matplotlib.axes._subplots.AxesSubplot object at 0x7f5d489d9208>],\n",
       "       [<matplotlib.axes._subplots.AxesSubplot object at 0x7f5d489d9240>,\n",
       "        <matplotlib.axes._subplots.AxesSubplot object at 0x7f5d489296a0>,\n",
       "        <matplotlib.axes._subplots.AxesSubplot object at 0x7f5d48953908>,\n",
       "        <matplotlib.axes._subplots.AxesSubplot object at 0x7f5d488ffb70>],\n",
       "       [<matplotlib.axes._subplots.AxesSubplot object at 0x7f5d488b0128>,\n",
       "        <matplotlib.axes._subplots.AxesSubplot object at 0x7f5d488d86a0>,\n",
       "        <matplotlib.axes._subplots.AxesSubplot object at 0x7f5d4887fc18>,\n",
       "        <matplotlib.axes._subplots.AxesSubplot object at 0x7f5d488301d0>]],\n",
       "      dtype=object)"
      ]
     },
     "execution_count": 127,
     "metadata": {},
     "output_type": "execute_result"
    },
    {
     "data": {
      "image/png": "[encoded data removed]",
      "text/plain": [
       "<Figure size 720x720 with 16 Axes>"
      ]
     },
     "metadata": {
      "needs_background": "light"
     },
     "output_type": "display_data"
    }
   ],
   "source": [
    "X.hist(figsize=(10,10))"
   ]
  },
  {
   "cell_type": "code",
   "execution_count": 128,
   "metadata": {},
   "outputs": [
    {
     "name": "stdout",
     "output_type": "stream",
     "text": [
      "Accuracy using root mean squared error is  100.0 %\n",
      "\n",
      "mae: 4.84590521977742e-16, rmse: 6.002402010039317e-16\n",
      "[ 3.16028594e-16 -2.42351837e-16 -5.36992580e-16  3.17694518e-16\n",
      "  6.84083796e-16  0.00000000e+00  1.54587165e-17  7.37325915e-17\n",
      "  2.81802482e-16 -5.45203012e-16  2.40331645e-18  1.19276471e-16\n",
      " -2.08912639e-16  1.78082192e-01  7.85388128e-01]\n"
     ]
    }
   ],
   "source": [
    "class MultiLinearRegression:\n",
    "    \n",
    "    def init(self):\n",
    "        print(\"In Multi linear regression\")\n",
    "    \n",
    "    def multi_Linear_Regression_demo(self,dataframe):\n",
    "#         fig = plt.figure(figsize=(12,10))\n",
    "#         ax = Axes3D(fig)\n",
    "        Y_train = dataframe['y']\n",
    "        traindata = dataframe.drop('y', axis=1)\n",
    "        traindata, test_data, Y_train,  Y_test = train_test_split(traindata,Y_train,test_size = 0.3, random_state=0)\n",
    "        linear_reg = LinearRegression(normalize=True)\n",
    "        linear_reg.fit(traindata,Y_train)\n",
    "        Ypred = linear_reg.predict(test_data)\n",
    "        error_mae = mean_absolute_error(Ypred,Y_test)\n",
    "        error_rmse = mean_squared_error(Ypred,Y_test)\n",
    "        r2score = r2_score(Ypred,Y_test)\n",
    "        accuracy=(1-error_rmse)*100\n",
    "#         plt.scatter(traindata,Y_train,marker='*',color='r')\n",
    "#         plt.plot([-2,4],linear_reg.predict(np.array([-2,4]).reshape(2,1)))\n",
    "#         plt.title('Scattered Points with predicted Line')\n",
    "        print(\"Accuracy using root mean squared error is \",accuracy,'%\\n')\n",
    "        print(\"mae: {}, rmse: {}\".format(error_mae,np.sqrt(error_rmse)))\n",
    "#         x0 = traindata.iloc[:,0]\n",
    "#         x1 = traindata.iloc[:,1]\n",
    "#         yp = np.array(np.add(np.multiply(x0,linear_reg.coef_[0]),np.multiply(x1,linear_reg.coef_[1]))).reshape(-1,1)\n",
    "#         ax.scatter(traindata.iloc[:,0],traindata.iloc[:,1],color='g')\n",
    "#         ax.plot_wireframe(X=x0,Y=x1,Z=yp,linewidth = 1.2,color='r')\n",
    "        print(linear_reg.coef_)\n",
    "#         plt.show()\n",
    "    \n",
    "    def main(self,dataframe):\n",
    "        self.multi_Linear_Regression_demo(dataframe)\n",
    "\n",
    "if __name__ == '__main__':\n",
    "    obj = MultiLinearRegression()\n",
    "    obj.main(X)\n"
   ]
  }
 ],
 "metadata": {
  "kernelspec": {
   "display_name": "Python 3",
   "language": "python",
   "name": "python3"
  },
  "language_info": {
   "codemirror_mode": {
    "name": "ipython",
    "version": 3
   },
   "file_extension": ".py",
   "mimetype": "text/x-python",
   "name": "python",
   "nbconvert_exporter": "python",
   "pygments_lexer": "ipython3",
   "version": "3.7.1"
  }
 },
 "nbformat": 4,
 "nbformat_minor": 2
}
