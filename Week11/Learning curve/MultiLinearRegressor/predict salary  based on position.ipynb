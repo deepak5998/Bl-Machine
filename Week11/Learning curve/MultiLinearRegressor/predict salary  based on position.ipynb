{
 "cells": [
  {
   "cell_type": "code",
   "execution_count": 1,
   "metadata": {},
   "outputs": [],
   "source": [
    "from sklearn.ensemble import RandomForestRegressor\n",
    "from sklearn.linear_model import LinearRegression\n",
    "from sklearn.tree import DecisionTreeRegressor\n",
    "from sklearn.preprocessing import StandardScaler\n",
    "SS=StandardScaler()\n",
    "from sklearn.preprocessing import *\n",
    "# from sklearn \n",
    "import importlib.util\n",
    "import pandas as pd\n",
    "import numpy as np\n",
    "import matplotlib.pyplot as plt\n",
    "from mpl_toolkits.mplot3d import Axes3D\n",
    "import seaborn as sns\n",
    "# for error calculation MSE or MAE or Rsquare\n",
    "from sklearn.metrics import *\n",
    "# for spllititing the data_set\n",
    "from sklearn.model_selection import train_test_split\n",
    "# For support support vector regression\n",
    "from sklearn.svm import SVR\n",
    "# for time execution calculation\n",
    "from datetime import datetime\n",
    "from sklearn.model_selection import learning_curve, train_test_split\n",
    "from sklearn.preprocessing import OneHotEncoder, label_binarize\n",
    "from sklearn.model_selection import validation_curve"
   ]
  },
  {
   "cell_type": "code",
   "execution_count": 2,
   "metadata": {},
   "outputs": [
    {
     "name": "stdout",
     "output_type": "stream",
     "text": [
      "Data PreProcessign object created successfully\n"
     ]
    }
   ],
   "source": [
    "spec = importlib.util.spec_from_file_location(\"DataPreprocessing\", \"/home/admin1/PycharmProjects/Machine_learning_Python/Utility/DataPreprocessing.py\")\n",
    "#At home windows\n",
    "# spec = importlib.util.spec_from_file_location(\"DataPreprocessing\", \"C:/Users/PRAYAS/PycharmProjects/Machine_Learning_Python/Utility/DataPreprocessing.py\")\n",
    "# C:\\Users\\PRAYAS\\PycharmProjects\\Machine_Learning_Python\\Utility\n",
    "foo = importlib.util.module_from_spec(spec)\n",
    "spec.loader.exec_module(foo)\n",
    "preprocess_obj = foo.DataPreprocessing()\n"
   ]
  },
  {
   "cell_type": "code",
   "execution_count": 3,
   "metadata": {},
   "outputs": [],
   "source": [
    "dataframe = pd.read_csv('Data/bike_sharing.csv')"
   ]
  },
  {
   "cell_type": "code",
   "execution_count": 4,
   "metadata": {},
   "outputs": [
    {
     "data": {
      "text/html": [
       "<div>\n",
       "<style scoped>\n",
       "    .dataframe tbody tr th:only-of-type {\n",
       "        vertical-align: middle;\n",
       "    }\n",
       "\n",
       "    .dataframe tbody tr th {\n",
       "        vertical-align: top;\n",
       "    }\n",
       "\n",
       "    .dataframe thead th {\n",
       "        text-align: right;\n",
       "    }\n",
       "</style>\n",
       "<table border=\"1\" class=\"dataframe\">\n",
       "  <thead>\n",
       "    <tr style=\"text-align: right;\">\n",
       "      <th></th>\n",
       "      <th>instant</th>\n",
       "      <th>dteday</th>\n",
       "      <th>season</th>\n",
       "      <th>yr</th>\n",
       "      <th>mnth</th>\n",
       "      <th>hr</th>\n",
       "      <th>holiday</th>\n",
       "      <th>weekday</th>\n",
       "      <th>workingday</th>\n",
       "      <th>weathersit</th>\n",
       "      <th>temp</th>\n",
       "      <th>atemp</th>\n",
       "      <th>hum</th>\n",
       "      <th>windspeed</th>\n",
       "      <th>casual</th>\n",
       "      <th>registered</th>\n",
       "      <th>cnt</th>\n",
       "    </tr>\n",
       "  </thead>\n",
       "  <tbody>\n",
       "    <tr>\n",
       "      <th>14421</th>\n",
       "      <td>14422</td>\n",
       "      <td>2012-08-29</td>\n",
       "      <td>3</td>\n",
       "      <td>1</td>\n",
       "      <td>8</td>\n",
       "      <td>2</td>\n",
       "      <td>0</td>\n",
       "      <td>3</td>\n",
       "      <td>1</td>\n",
       "      <td>1</td>\n",
       "      <td>0.62</td>\n",
       "      <td>0.5909</td>\n",
       "      <td>0.73</td>\n",
       "      <td>0.1343</td>\n",
       "      <td>2</td>\n",
       "      <td>4</td>\n",
       "      <td>6</td>\n",
       "    </tr>\n",
       "  </tbody>\n",
       "</table>\n",
       "</div>"
      ],
      "text/plain": [
       "       instant      dteday  season  yr  mnth  hr  holiday  weekday  \\\n",
       "14421    14422  2012-08-29       3   1     8   2        0        3   \n",
       "\n",
       "       workingday  weathersit  temp   atemp   hum  windspeed  casual  \\\n",
       "14421           1           1  0.62  0.5909  0.73     0.1343       2   \n",
       "\n",
       "       registered  cnt  \n",
       "14421           4    6  "
      ]
     },
     "execution_count": 4,
     "metadata": {},
     "output_type": "execute_result"
    }
   ],
   "source": [
    "dataframe.sample()"
   ]
  },
  {
   "cell_type": "code",
   "execution_count": 5,
   "metadata": {},
   "outputs": [
    {
     "data": {
      "text/plain": [
       "<matplotlib.axes._subplots.AxesSubplot at 0x7fb7d6a7c898>"
      ]
     },
     "execution_count": 5,
     "metadata": {},
     "output_type": "execute_result"
    },
    {
     "data": {
      "image/png": "[encoded data removed]",
      "text/plain": [
       "<Figure size 576x288 with 2 Axes>"
      ]
     },
     "metadata": {
      "needs_background": "light"
     },
     "output_type": "display_data"
    }
   ],
   "source": [
    "fig, ax = plt.subplots(figsize=(8,4))\n",
    "sns.heatmap(dataframe.corr())"
   ]
  },
  {
   "cell_type": "code",
   "execution_count": 6,
   "metadata": {},
   "outputs": [
    {
     "name": "stdout",
     "output_type": "stream",
     "text": [
      "<class 'pandas.core.frame.DataFrame'>\n",
      "RangeIndex: 17379 entries, 0 to 17378\n",
      "Data columns (total 17 columns):\n",
      "instant       17379 non-null int64\n",
      "dteday        17379 non-null object\n",
      "season        17379 non-null int64\n",
      "yr            17379 non-null int64\n",
      "mnth          17379 non-null int64\n",
      "hr            17379 non-null int64\n",
      "holiday       17379 non-null int64\n",
      "weekday       17379 non-null int64\n",
      "workingday    17379 non-null int64\n",
      "weathersit    17379 non-null int64\n",
      "temp          17379 non-null float64\n",
      "atemp         17379 non-null float64\n",
      "hum           17379 non-null float64\n",
      "windspeed     17379 non-null float64\n",
      "casual        17379 non-null int64\n",
      "registered    17379 non-null int64\n",
      "cnt           17379 non-null int64\n",
      "dtypes: float64(4), int64(12), object(1)\n",
      "memory usage: 2.3+ MB\n"
     ]
    }
   ],
   "source": [
    "dataframe.info()"
   ]
  },
  {
   "cell_type": "code",
   "execution_count": 7,
   "metadata": {},
   "outputs": [
    {
     "data": {
      "text/plain": [
       "731"
      ]
     },
     "execution_count": 7,
     "metadata": {},
     "output_type": "execute_result"
    }
   ],
   "source": [
    "dataframe['dteday'].nunique()"
   ]
  },
  {
   "cell_type": "code",
   "execution_count": 8,
   "metadata": {},
   "outputs": [],
   "source": [
    "dataframe=dataframe.drop(['hum','dteday'],axis=1)"
   ]
  },
  {
   "cell_type": "code",
   "execution_count": 9,
   "metadata": {},
   "outputs": [
    {
     "data": {
      "text/plain": [
       "instant       0\n",
       "season        0\n",
       "yr            0\n",
       "mnth          0\n",
       "hr            0\n",
       "holiday       0\n",
       "weekday       0\n",
       "workingday    0\n",
       "weathersit    0\n",
       "temp          0\n",
       "atemp         0\n",
       "windspeed     0\n",
       "casual        0\n",
       "registered    0\n",
       "cnt           0\n",
       "dtype: int64"
      ]
     },
     "execution_count": 9,
     "metadata": {},
     "output_type": "execute_result"
    }
   ],
   "source": [
    "dataframe.isna().sum()"
   ]
  },
  {
   "cell_type": "code",
   "execution_count": 10,
   "metadata": {},
   "outputs": [
    {
     "data": {
      "text/plain": [
       "<matplotlib.axes._subplots.AxesSubplot at 0x7fb7d6c4c5c0>"
      ]
     },
     "execution_count": 10,
     "metadata": {},
     "output_type": "execute_result"
    },
    {
     "data": {
      "image/png": "[encoded data removed]",
      "text/plain": [
       "<Figure size 720x360 with 1 Axes>"
      ]
     },
     "metadata": {
      "needs_background": "light"
     },
     "output_type": "display_data"
    }
   ],
   "source": [
    "plt.figure(figsize=(10,5))\n",
    "dataframe.boxplot(rot=45)"
   ]
  },
  {
   "cell_type": "code",
   "execution_count": 11,
   "metadata": {},
   "outputs": [],
   "source": [
    "# trial without removing outliers"
   ]
  },
  {
   "cell_type": "code",
   "execution_count": 12,
   "metadata": {},
   "outputs": [
    {
     "data": {
      "text/html": [
       "<div>\n",
       "<style scoped>\n",
       "    .dataframe tbody tr th:only-of-type {\n",
       "        vertical-align: middle;\n",
       "    }\n",
       "\n",
       "    .dataframe tbody tr th {\n",
       "        vertical-align: top;\n",
       "    }\n",
       "\n",
       "    .dataframe thead th {\n",
       "        text-align: right;\n",
       "    }\n",
       "</style>\n",
       "<table border=\"1\" class=\"dataframe\">\n",
       "  <thead>\n",
       "    <tr style=\"text-align: right;\">\n",
       "      <th></th>\n",
       "      <th>instant</th>\n",
       "      <th>season</th>\n",
       "      <th>yr</th>\n",
       "      <th>mnth</th>\n",
       "      <th>hr</th>\n",
       "      <th>holiday</th>\n",
       "      <th>weekday</th>\n",
       "      <th>workingday</th>\n",
       "      <th>weathersit</th>\n",
       "      <th>temp</th>\n",
       "      <th>atemp</th>\n",
       "      <th>windspeed</th>\n",
       "      <th>casual</th>\n",
       "      <th>registered</th>\n",
       "      <th>cnt</th>\n",
       "    </tr>\n",
       "  </thead>\n",
       "  <tbody>\n",
       "    <tr>\n",
       "      <th>0</th>\n",
       "      <td>1</td>\n",
       "      <td>1</td>\n",
       "      <td>0</td>\n",
       "      <td>1</td>\n",
       "      <td>0</td>\n",
       "      <td>0</td>\n",
       "      <td>6</td>\n",
       "      <td>0</td>\n",
       "      <td>1</td>\n",
       "      <td>0.24</td>\n",
       "      <td>0.2879</td>\n",
       "      <td>0.0</td>\n",
       "      <td>3</td>\n",
       "      <td>13</td>\n",
       "      <td>16</td>\n",
       "    </tr>\n",
       "    <tr>\n",
       "      <th>1</th>\n",
       "      <td>2</td>\n",
       "      <td>1</td>\n",
       "      <td>0</td>\n",
       "      <td>1</td>\n",
       "      <td>1</td>\n",
       "      <td>0</td>\n",
       "      <td>6</td>\n",
       "      <td>0</td>\n",
       "      <td>1</td>\n",
       "      <td>0.22</td>\n",
       "      <td>0.2727</td>\n",
       "      <td>0.0</td>\n",
       "      <td>8</td>\n",
       "      <td>32</td>\n",
       "      <td>40</td>\n",
       "    </tr>\n",
       "    <tr>\n",
       "      <th>2</th>\n",
       "      <td>3</td>\n",
       "      <td>1</td>\n",
       "      <td>0</td>\n",
       "      <td>1</td>\n",
       "      <td>2</td>\n",
       "      <td>0</td>\n",
       "      <td>6</td>\n",
       "      <td>0</td>\n",
       "      <td>1</td>\n",
       "      <td>0.22</td>\n",
       "      <td>0.2727</td>\n",
       "      <td>0.0</td>\n",
       "      <td>5</td>\n",
       "      <td>27</td>\n",
       "      <td>32</td>\n",
       "    </tr>\n",
       "    <tr>\n",
       "      <th>3</th>\n",
       "      <td>4</td>\n",
       "      <td>1</td>\n",
       "      <td>0</td>\n",
       "      <td>1</td>\n",
       "      <td>3</td>\n",
       "      <td>0</td>\n",
       "      <td>6</td>\n",
       "      <td>0</td>\n",
       "      <td>1</td>\n",
       "      <td>0.24</td>\n",
       "      <td>0.2879</td>\n",
       "      <td>0.0</td>\n",
       "      <td>3</td>\n",
       "      <td>10</td>\n",
       "      <td>13</td>\n",
       "    </tr>\n",
       "    <tr>\n",
       "      <th>4</th>\n",
       "      <td>5</td>\n",
       "      <td>1</td>\n",
       "      <td>0</td>\n",
       "      <td>1</td>\n",
       "      <td>4</td>\n",
       "      <td>0</td>\n",
       "      <td>6</td>\n",
       "      <td>0</td>\n",
       "      <td>1</td>\n",
       "      <td>0.24</td>\n",
       "      <td>0.2879</td>\n",
       "      <td>0.0</td>\n",
       "      <td>0</td>\n",
       "      <td>1</td>\n",
       "      <td>1</td>\n",
       "    </tr>\n",
       "  </tbody>\n",
       "</table>\n",
       "</div>"
      ],
      "text/plain": [
       "   instant  season  yr  mnth  hr  holiday  weekday  workingday  weathersit  \\\n",
       "0        1       1   0     1   0        0        6           0           1   \n",
       "1        2       1   0     1   1        0        6           0           1   \n",
       "2        3       1   0     1   2        0        6           0           1   \n",
       "3        4       1   0     1   3        0        6           0           1   \n",
       "4        5       1   0     1   4        0        6           0           1   \n",
       "\n",
       "   temp   atemp  windspeed  casual  registered  cnt  \n",
       "0  0.24  0.2879        0.0       3          13   16  \n",
       "1  0.22  0.2727        0.0       8          32   40  \n",
       "2  0.22  0.2727        0.0       5          27   32  \n",
       "3  0.24  0.2879        0.0       3          10   13  \n",
       "4  0.24  0.2879        0.0       0           1    1  "
      ]
     },
     "execution_count": 12,
     "metadata": {},
     "output_type": "execute_result"
    }
   ],
   "source": [
    "dataframe.head()"
   ]
  },
  {
   "cell_type": "code",
   "execution_count": 13,
   "metadata": {},
   "outputs": [
    {
     "data": {
      "text/plain": [
       "array([[<matplotlib.axes._subplots.AxesSubplot object at 0x7fb7d6ab5550>,\n",
       "        <matplotlib.axes._subplots.AxesSubplot object at 0x7fb7d6ad6eb8>,\n",
       "        <matplotlib.axes._subplots.AxesSubplot object at 0x7fb7d661b4a8>,\n",
       "        <matplotlib.axes._subplots.AxesSubplot object at 0x7fb7d65c3b38>],\n",
       "       [<matplotlib.axes._subplots.AxesSubplot object at 0x7fb7d65f4208>,\n",
       "        <matplotlib.axes._subplots.AxesSubplot object at 0x7fb7d65f4240>,\n",
       "        <matplotlib.axes._subplots.AxesSubplot object at 0x7fb7d44e5f28>,\n",
       "        <matplotlib.axes._subplots.AxesSubplot object at 0x7fb7d45165f8>],\n",
       "       [<matplotlib.axes._subplots.AxesSubplot object at 0x7fb7d44bdc88>,\n",
       "        <matplotlib.axes._subplots.AxesSubplot object at 0x7fb7d446f358>,\n",
       "        <matplotlib.axes._subplots.AxesSubplot object at 0x7fb7d44969e8>,\n",
       "        <matplotlib.axes._subplots.AxesSubplot object at 0x7fb7d444a0b8>],\n",
       "       [<matplotlib.axes._subplots.AxesSubplot object at 0x7fb7d43f0748>,\n",
       "        <matplotlib.axes._subplots.AxesSubplot object at 0x7fb7d4418dd8>,\n",
       "        <matplotlib.axes._subplots.AxesSubplot object at 0x7fb7d43cb4a8>,\n",
       "        <matplotlib.axes._subplots.AxesSubplot object at 0x7fb7d4373b38>]],\n",
       "      dtype=object)"
      ]
     },
     "execution_count": 13,
     "metadata": {},
     "output_type": "execute_result"
    },
    {
     "data": {
      "image/png": "[encoded data removed]",
      "text/plain": [
       "<Figure size 720x720 with 16 Axes>"
      ]
     },
     "metadata": {
      "needs_background": "light"
     },
     "output_type": "display_data"
    }
   ],
   "source": [
    "\n",
    "dataframe.hist(figsize=(10,10))"
   ]
  },
  {
   "cell_type": "code",
   "execution_count": 14,
   "metadata": {},
   "outputs": [],
   "source": [
    "dataframe.nunique()\n",
    "dataframe=dataframe.rename(columns={'cnt':'y'})"
   ]
  },
  {
   "cell_type": "code",
   "execution_count": 15,
   "metadata": {},
   "outputs": [],
   "source": [
    "class Random_Forest_Regression:\n",
    "    \n",
    "    def __init__(self):\n",
    "        self.trees = 300\n",
    "        print(\"Random Forest Regression\")\n",
    "        \n",
    "    def plotter(self,X,Y,reg,plot_title):\n",
    "        # smoothening the plot so that we can see a smooth curve so getting points with difference 0.1\n",
    "        X_smooth = np.arange(X.min(),X.max(),0.01)\n",
    "        plt.title(plot_title)\n",
    "        if reg != '':\n",
    "            plt.plot(X_smooth,reg.predict(X_smooth.reshape(-1,1)),color='r')\n",
    "        else:\n",
    "#             Y_smooth = np.arange(Y.min(),Y.max(),0.01)\n",
    "            plt.plot(X,Y,color='g')            \n",
    "    \n",
    "    def Random_Forest_Regression_demo(self,dataframe):\n",
    "        # creating Linear regression object\n",
    "        reg = RandomForestRegressor(n_estimators=self.trees,random_state=0)\n",
    "        # creating decision regression object with random state =0 as if same function operated any where it'll give same resukt on the same set\n",
    "\n",
    "        # Splitting independent variables and the output variables\n",
    "        train_data = (dataframe.drop('y')).values\n",
    "        train_Y = dataframe['y'].values\n",
    "        # spilling train and test data\n",
    "        train_data, test_data, train_Y, test_Y = train_test_split(train_data,train_Y, test_size=0.2,random_state=0)\n",
    "        # geting the values of x till the degree provided\n",
    "        \n",
    "        reg.fit(train_data.reshape(-1,1),train_Y.reshape(-1,1))\n",
    "        \n",
    "        # predicting the values on basis of our input data\n",
    "        Ypred = reg.predict(test_data.reshape(-1,1))\n",
    "         \n",
    "        print(\"The value for 6.5 is \", reg.predict(np.array(6.5).reshape(-1,1)))\n",
    "        \n",
    "         # error calculations\n",
    "        mse = mean_squared_error(Ypred,test_Y)\n",
    "        mae = mean_absolute_error(Ypred,test_Y)\n",
    "        r_score = r2_score(Ypred,test_Y)\n",
    "        accuracy = r_score*100\n",
    "        print(\"Accuracy by r2 score is = {}\".format(accuracy))\n",
    "#         print(\"mae: {}, mse: {}, r2 score: {}\".format(mae,mse,r_score))\n",
    "        \n",
    "        # plotting\n",
    "        self.plotter(train_data,train_Y,reg,'train data vs predicted')\n",
    "        self.plotter(test_data,test_Y,reg,'test data vs predicted')\n",
    "    \n",
    "    def learning_curve(self,algo,features,output,train_sizes,cv_val):\n",
    "        train_sizes, train_scores,validation_scores = learning_curve(\n",
    "            estimator=algo,\n",
    "            X=features,\n",
    "            y=output,\n",
    "            train_sizes=train_sizes,\n",
    "            cv=cv_val,\n",
    "            scoring = 'neg_mean_squared_error'\n",
    "        )\n",
    "        print('Train scores: \\n{}\\n Validation scores: \\n{}\\n'.format(train_scores,validation_scores))\n",
    "        train_mean= -np.mean(train_scores,axis=1)\n",
    "        valid_mean= np.mean(validation_scores,axis=1)\n",
    "#         print(train_mean,valid_mean)\n",
    "        plt.plot(train_sizes,train_mean,label='training error curve',color='g')\n",
    "        plt.legend()\n",
    "        plt.show()\n",
    "        plt.plot(train_sizes,valid_mean,label='validation error curve',color='r')\n",
    "        plt.legend()\n",
    "        plt.show()\n",
    "        \n",
    "    def cross_validation(dataframe):\n",
    "        from sklearn.cross_validation import cross_validation\n",
    "        \n",
    "        \n",
    "    def validation_Curve(self,algo,features,output,cv_val):\n",
    "        param_range = np.logspace(-6,-1,cv_val)\n",
    "        \n",
    "        train_scores, test_scores = validation_curve(\n",
    "        algo, param_name=\"max_depth\", X=features,y=output\n",
    "        ,param_range=param_range, cv=10, scoring=\"r2\"\n",
    "        )\n",
    "        train_mean=np.mean(train_scores,axis=1)\n",
    "        test_mean= np.mean(test_scores,axis=1)\n",
    "        train_std =np.std(train_scores,axis=1)\n",
    "        test_std =np.std(test_scores,axis=1)\n",
    "        plt.ylim(0.0,0.2)\n",
    "\n",
    "#         viz= validation_curve(\n",
    "#         algo, param_name=\"max_depth\", X=features,y=output\n",
    "#         ,param_range=param_range, cv=10, scoring=\"r2\"\n",
    "#         )\n",
    "        \n",
    "        plt.title('validation curve for random forest')\n",
    "        plt.semilogx(param_range, train_mean, label=\"Training score\",\n",
    "             color=\"darkorange\", lw=2)\n",
    "        plt.fill_between(param_range, train_mean - train_std,\n",
    "                 train_mean + train_std, alpha=0.2,\n",
    "                 color=\"darkorange\", lw=2)\n",
    "        plt.semilogx(param_range, train_mean, label=\"Validatgion score\",\n",
    "             color=\"g\", lw=2)\n",
    "        plt.fill_between(param_range, test_mean - train_std,\n",
    "                 train_mean + train_std, alpha=0.2,\n",
    "                 color='g', lw=2)\n",
    "        plt.legend()\n",
    "        plt.show()\n",
    "    \n",
    "    def main(self,dataframe):\n",
    "        try:\n",
    "            train_sizes = [1,50,100,200,500,2000,5000,7000,9000,12000,13000]\n",
    "            self.Random_Forest_Regression_demo(dataframe)\n",
    "            self.learning_curve(RandomForestRegressor(),dataframe.drop('y',axis=1),dataframe['y'],train_sizes,5)\n",
    "            \n",
    "            self.validation_Curve(DecisionTreeRegressor(),dataframe.drop('y',axis=1),dataframe['y'],5)\n",
    "        except Exception as e:\n",
    "            print(\"Process stopped because \",e)\n",
    "\n",
    "# if __name__ == '__main__':\n",
    "#     obj = Random_Forest_Regression()\n",
    "#     obj.main(dataframe)"
   ]
  },
  {
   "cell_type": "code",
   "execution_count": 16,
   "metadata": {},
   "outputs": [
    {
     "name": "stdout",
     "output_type": "stream",
     "text": [
      "Random Forest Regression\n"
     ]
    }
   ],
   "source": [
    "obj = Random_Forest_Regression()\n",
    "train_sizes = [1,50,100,200,500,2000,5000,7000,9000,12000,13000]"
   ]
  },
  {
   "cell_type": "code",
   "execution_count": 17,
   "metadata": {},
   "outputs": [],
   "source": [
    "samp = dataframe['weekday']"
   ]
  },
  {
   "cell_type": "code",
   "execution_count": 18,
   "metadata": {},
   "outputs": [
    {
     "name": "stdout",
     "output_type": "stream",
     "text": [
      "Train scores: \n",
      "[[  -0.           -0.           -0.           -0.           -0.        ]\n",
      " [-203.4376      -11.9086       -5.7142      -15.4422      -10.5016    ]\n",
      " [ -90.9085       -9.7037      -13.1135       -7.4255       -7.0806    ]\n",
      " [ -73.29795      -5.95605      -6.3571       -4.12175      -6.43075   ]\n",
      " [ -19.1309       -1.69814      -2.00228      -2.1158       -2.72354   ]\n",
      " [  -5.772935     -2.10081      -2.012315     -2.64712      -3.103995  ]\n",
      " [  -2.626322     -1.87139      -2.352258     -2.197332     -2.217776  ]\n",
      " [  -2.74408857   -2.49800857   -2.47833      -1.86838      -2.06055571]\n",
      " [  -3.31963222   -3.78244778   -3.26779667   -1.69103222   -1.77841444]\n",
      " [  -2.8400675    -2.5841525    -2.51582167   -2.09395917   -2.708455  ]\n",
      " [  -2.72356538   -2.72095385   -2.56029769   -1.94197      -2.42748769]]\n",
      " Validation scores: \n",
      "[[-6.09284658e+04 -5.12481821e+04 -3.25623300e+04 -1.08023467e+05\n",
      "  -1.02797324e+05]\n",
      " [-9.89793947e+02 -3.08651838e+04 -1.88066581e+04 -7.21626192e+04\n",
      "  -7.07085118e+04]\n",
      " [-9.29508573e+02 -1.33682868e+04 -7.30741079e+03 -4.32960004e+04\n",
      "  -4.11402324e+04]\n",
      " [-2.60999252e+02 -1.13227423e+04 -6.05578649e+03 -3.92623583e+04\n",
      "  -4.05274974e+04]\n",
      " [-1.18489695e+02 -1.04824579e+04 -4.92954838e+03 -3.45273568e+04\n",
      "  -3.80906043e+04]\n",
      " [-3.59349166e+01 -4.05786908e+03 -2.46287535e+03 -2.09205282e+04\n",
      "  -2.18120286e+04]\n",
      " [-1.09347440e+01 -4.30026899e+01 -5.24097181e+01 -2.13167452e+03\n",
      "  -3.03894720e+03]\n",
      " [-8.20222670e+00 -3.74151841e+01 -2.51253654e+01 -1.97548212e+03\n",
      "  -2.71855107e+03]\n",
      " [-9.35175201e+00 -1.28709551e+01 -8.18647871e+00 -1.95801191e+03\n",
      "  -2.70445343e+03]\n",
      " [-5.32217491e+00 -7.41077388e+00 -4.69113349e+00 -6.02836450e+01\n",
      "  -2.14551787e+02]\n",
      " [-4.53543153e+00 -7.10758918e+00 -3.92182681e+00 -6.27655351e+01\n",
      "  -8.89582647e+01]]\n",
      "\n"
     ]
    },
    {
     "data": {
      "image/png": "[encoded data removed]",
      "text/plain": [
       "<Figure size 432x288 with 1 Axes>"
      ]
     },
     "metadata": {
      "needs_background": "light"
     },
     "output_type": "display_data"
    },
    {
     "data": {
      "image/png": "[encoded data removed]",
      "text/plain": [
       "<Figure size 432x288 with 1 Axes>"
      ]
     },
     "metadata": {
      "needs_background": "light"
     },
     "output_type": "display_data"
    }
   ],
   "source": [
    "obj.learning_curve(RandomForestRegressor(),dataframe.drop('y',axis=1),dataframe['y'],train_sizes,5)"
   ]
  },
  {
   "cell_type": "code",
   "execution_count": 55,
   "metadata": {},
   "outputs": [
    {
     "data": {
      "image/png": "[encoded data removed]",
      "text/plain": [
       "<Figure size 432x288 with 1 Axes>"
      ]
     },
     "metadata": {
      "needs_background": "light"
     },
     "output_type": "display_data"
    }
   ],
   "source": [
    "obj.validation_Curve(RandomForestRegressor(),dataframe.drop('y',axis=1),dataframe['y'],5)"
   ]
  },
  {
   "cell_type": "code",
   "execution_count": null,
   "metadata": {},
   "outputs": [
    {
     "name": "stderr",
     "output_type": "stream",
     "text": [
      "/home/admin1/anaconda3/lib/python3.7/site-packages/sklearn/cross_validation.py:41: DeprecationWarning: This module was deprecated in version 0.18 in favor of the model_selection module into which all the refactored classes and functions are moved. Also note that the interface of the new CV iterators are different from that of this module. This module will be removed in 0.20.\n",
      "  \"This module will be removed in 0.20.\", DeprecationWarning)\n"
     ]
    }
   ],
   "source": [
    "# As we see the curve is converging it shows we have high bais and low variance\n",
    "#importing libraries\n",
    "\n",
    "import numpy as np\n",
    "import pandas as pd\n",
    "from matplotlib import cm\n",
    "\n",
    "#loading the dataset\n",
    "# dataset = pd.read_csv('dataset-4.csv')\n",
    "#X = dataset.iloc[:,0:6].values\n",
    "\n",
    "X = dataframe.drop('y',axis=1).values\n",
    "y = dataframe['y'].values\n",
    "\n",
    "#train/test\n",
    "from sklearn.cross_validation import train_test_split\n",
    "X_train, X_test, y_train, y_test = train_test_split(X, y, test_size=0.25, random_state=1)\n",
    "\n",
    "#fitting the classifier to the training set\n",
    "regressor = LinearRegression(random_state=0)\n",
    "regressor.fit(X_train, y_train)\n",
    "\n",
    "# Then we create the CAP Curve with the following code :\n",
    "\n",
    "y_pred_proba = regressor.predict_proba(X=X_test)\n",
    "capcurve(y_values=y_test, y_preds_proba=y_pred_proba[:,1])\n",
    "\n",
    "# The ‘capcurve’ function that builds and shows the CAP curve is defined as follows :\n",
    "\n",
    "from scipy import integrate\n",
    "def capcurve(y_values, y_preds_proba):\n",
    "    num_pos_obs = np.sum(y_values)\n",
    "    num_count = y_values.shape[0]\n",
    "    rate_pos_obs = np.divide(float(num_pos_obs) , float(num_count))\n",
    "    ideal = pd.DataFrame({'x':[0,rate_pos_obs,1],'y':[0,1,1]})\n",
    "    xx = np.divide(np.arange(num_count), float(num_count - 1))\n",
    "\n",
    "    y_cap = np.c_[y_values,y_preds_proba]\n",
    "    y_cap_df_s = pd.DataFrame(data=y_cap)\n",
    "    y_cap_df_s = y_cap_df_s.sort_values([1], ascending=False).reset_index('index', drop=True)\n",
    "\n",
    "    print(y_cap_df_s.head(20))\n",
    "\n",
    "    yy = np.cumsum(np.divide(y_cap_df_s[0]),float(num_pos_obs))\n",
    "    yy = np.append([0], yy[0:num_count-1]) #add the first curve point (0,0) : for xx=0 we have yy=0\n",
    "\n",
    "    percent = 0.5\n",
    "    row_index = np.trunc(np.multiply(num_count, percent))\n",
    "\n",
    "    val_y1 = yy[row_index]\n",
    "    val_y2 = yy[row_index+1]\n",
    "    if val_y1 == val_y2:\n",
    "        val = val_y1*1.0\n",
    "    else:\n",
    "        val_x1 = xx[row_index]\n",
    "        val_x2 = xx[row_index+1]\n",
    "    val = np.add(val_y1, np.divide(np.subtract(val_x2 , percent),np.subtract(val_x2, val_x1))*np.subtract(val_y2, val_y1))\n",
    "    sigma_ideal = 1 * np.divide(xx[num_pos_obs - 1 ] ,2) + np.subtract(xx[num_count - 1], xx[num_pos_obs]) * 1\n",
    "    sigma_model = integrate.simps(yy,xx)\n",
    "    sigma_random = integrate.simps(xx,xx)\n",
    "\n",
    "    ar_value = (sigma_model - sigma_random) / (sigma_ideal - sigma_random)\n",
    "    #ar_label = 'ar value = %s' % ar_value\n",
    "\n",
    "    fig, ax = plt.subplots(nrows = 1, ncols = 1)\n",
    "    ax.plot(ideal['x'],ideal['y'], color='grey', label='Perfect Model')\n",
    "    ax.plot(xx,yy, color='red', label='User Model')\n",
    "    #ax.scatter(xx,yy, color='red')\n",
    "    ax.plot(xx,xx, color='blue', label='Random Model')\n",
    "    ax.plot([percent, percent], [0.0, val], color='green', linestyle='--', linewidth=1)\n",
    "    ax.plot([0, percent], [val, val], color='green', linestyle='--', linewidth=1, label=str(val*100)+'% of positive obs at '+str(percent*100)+'%')\n",
    "\n",
    "    plt.xlim(0, 1.02)\n",
    "    plt.ylim(0, 1.25)\n",
    "    plt.title(\"CAP Curve - a_r value =\"+str(ar_value))\n",
    "    plt.xlabel('% of the data')\n",
    "    plt.ylabel('% of positive obs')\n",
    "    plt.legend()\n",
    "    plt.show()"
   ]
  },
  {
   "cell_type": "code",
   "execution_count": null,
   "metadata": {},
   "outputs": [],
   "source": []
  }
 ],
 "metadata": {
  "kernelspec": {
   "display_name": "Python 3",
   "language": "python",
   "name": "python3"
  },
  "language_info": {
   "codemirror_mode": {
    "name": "ipython",
    "version": 3
   },
   "file_extension": ".py",
   "mimetype": "text/x-python",
   "name": "python",
   "nbconvert_exporter": "python",
   "pygments_lexer": "ipython3",
   "version": "3.7.2"
  }
 },
 "nbformat": 4,
 "nbformat_minor": 2
}
